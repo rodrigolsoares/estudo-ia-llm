{
  "cells": [
    {
      "cell_type": "markdown",
      "id": "f76020fb",
      "metadata": {
        "id": "f76020fb"
      },
      "source": [
        "# RAG - Exemplo de implementação\n",
        "\n",
        "**Retrieval-Augmented Generation (RAG)** é uma técnica que combina modelos de linguagem com mecanismos de recuperação de informações para melhorar a geração de texto.\n",
        "\n",
        "O **RAG** revolucionou a interação, compreensão e geração de linguagem humana pelos sistemas de IA. Tornou os modelos de linguagem mais versáteis e inteligentes, sendo crucial para chatbots sofisticados e ferramentas complexas de criação de conteúdo. Uma das aplicações mais poderosas dos LLMs é a criação de chatbots sofisticados de perguntas e respostas (Q&A). Esses chatbots podem responder a perguntas sobre informações específicas usando RAG.\n",
        "\n",
        "O LangChain tem vários componentes projetados para ajudar a criar aplicativos de perguntas e respostas e aplicativos RAG de forma mais geral."
      ]
    },
    {
      "cell_type": "markdown",
      "id": "f7634238",
      "metadata": {
        "id": "f7634238"
      },
      "source": [
        "## Instalação das bibliotecas\n",
        "\n",
        "Executar este comando, caso as bibliotecas não foram instaladas no ambiente."
      ]
    },
    {
      "cell_type": "code",
      "execution_count": 1,
      "id": "484e5aed",
      "metadata": {
        "colab": {
          "base_uri": "https://localhost:8080/"
        },
        "id": "484e5aed",
        "outputId": "74d3b4cc-f55c-4a61-dcbe-3af93ac6b4b5"
      },
      "outputs": [
        {
          "output_type": "stream",
          "name": "stdout",
          "text": [
            "\u001b[2K   \u001b[90m━━━━━━━━━━━━━━━━━━━━━━━━━━━━━━━━━━━━━━━━\u001b[0m \u001b[32m69.7/69.7 MB\u001b[0m \u001b[31m8.8 MB/s\u001b[0m eta \u001b[36m0:00:00\u001b[0m\n",
            "\u001b[2K   \u001b[90m━━━━━━━━━━━━━━━━━━━━━━━━━━━━━━━━━━━━━━━━\u001b[0m \u001b[32m363.4/363.4 MB\u001b[0m \u001b[31m4.0 MB/s\u001b[0m eta \u001b[36m0:00:00\u001b[0m\n",
            "\u001b[2K   \u001b[90m━━━━━━━━━━━━━━━━━━━━━━━━━━━━━━━━━━━━━━━━\u001b[0m \u001b[32m13.8/13.8 MB\u001b[0m \u001b[31m35.8 MB/s\u001b[0m eta \u001b[36m0:00:00\u001b[0m\n",
            "\u001b[2K   \u001b[90m━━━━━━━━━━━━━━━━━━━━━━━━━━━━━━━━━━━━━━━━\u001b[0m \u001b[32m24.6/24.6 MB\u001b[0m \u001b[31m25.0 MB/s\u001b[0m eta \u001b[36m0:00:00\u001b[0m\n",
            "\u001b[2K   \u001b[90m━━━━━━━━━━━━━━━━━━━━━━━━━━━━━━━━━━━━━━━━\u001b[0m \u001b[32m883.7/883.7 kB\u001b[0m \u001b[31m24.7 MB/s\u001b[0m eta \u001b[36m0:00:00\u001b[0m\n",
            "\u001b[2K   \u001b[90m━━━━━━━━━━━━━━━━━━━━━━━━━━━━━━━━━━━━━━━━\u001b[0m \u001b[32m664.8/664.8 MB\u001b[0m \u001b[31m1.3 MB/s\u001b[0m eta \u001b[36m0:00:00\u001b[0m\n",
            "\u001b[2K   \u001b[90m━━━━━━━━━━━━━━━━━━━━━━━━━━━━━━━━━━━━━━━━\u001b[0m \u001b[32m211.5/211.5 MB\u001b[0m \u001b[31m6.1 MB/s\u001b[0m eta \u001b[36m0:00:00\u001b[0m\n",
            "\u001b[2K   \u001b[90m━━━━━━━━━━━━━━━━━━━━━━━━━━━━━━━━━━━━━━━━\u001b[0m \u001b[32m56.3/56.3 MB\u001b[0m \u001b[31m10.0 MB/s\u001b[0m eta \u001b[36m0:00:00\u001b[0m\n",
            "\u001b[2K   \u001b[90m━━━━━━━━━━━━━━━━━━━━━━━━━━━━━━━━━━━━━━━━\u001b[0m \u001b[32m127.9/127.9 MB\u001b[0m \u001b[31m8.3 MB/s\u001b[0m eta \u001b[36m0:00:00\u001b[0m\n",
            "\u001b[2K   \u001b[90m━━━━━━━━━━━━━━━━━━━━━━━━━━━━━━━━━━━━━━━━\u001b[0m \u001b[32m207.5/207.5 MB\u001b[0m \u001b[31m5.4 MB/s\u001b[0m eta \u001b[36m0:00:00\u001b[0m\n",
            "\u001b[2K   \u001b[90m━━━━━━━━━━━━━━━━━━━━━━━━━━━━━━━━━━━━━━━━\u001b[0m \u001b[32m21.1/21.1 MB\u001b[0m \u001b[31m55.3 MB/s\u001b[0m eta \u001b[36m0:00:00\u001b[0m\n",
            "\u001b[2K     \u001b[90m━━━━━━━━━━━━━━━━━━━━━━━━━━━━━━━━━━━━━━━━\u001b[0m \u001b[32m67.3/67.3 kB\u001b[0m \u001b[31m6.1 MB/s\u001b[0m eta \u001b[36m0:00:00\u001b[0m\n",
            "\u001b[?25h  Installing build dependencies ... \u001b[?25l\u001b[?25hdone\n",
            "  Getting requirements to build wheel ... \u001b[?25l\u001b[?25hdone\n",
            "  Preparing metadata (pyproject.toml) ... \u001b[?25l\u001b[?25hdone\n",
            "\u001b[2K   \u001b[90m━━━━━━━━━━━━━━━━━━━━━━━━━━━━━━━━━━━━━━━━\u001b[0m \u001b[32m2.5/2.5 MB\u001b[0m \u001b[31m68.1 MB/s\u001b[0m eta \u001b[36m0:00:00\u001b[0m\n",
            "\u001b[2K   \u001b[90m━━━━━━━━━━━━━━━━━━━━━━━━━━━━━━━━━━━━━━━━\u001b[0m \u001b[32m611.1/611.1 kB\u001b[0m \u001b[31m37.8 MB/s\u001b[0m eta \u001b[36m0:00:00\u001b[0m\n",
            "\u001b[2K   \u001b[90m━━━━━━━━━━━━━━━━━━━━━━━━━━━━━━━━━━━━━━━━\u001b[0m \u001b[32m2.4/2.4 MB\u001b[0m \u001b[31m63.4 MB/s\u001b[0m eta \u001b[36m0:00:00\u001b[0m\n",
            "\u001b[2K   \u001b[90m━━━━━━━━━━━━━━━━━━━━━━━━━━━━━━━━━━━━━━━━\u001b[0m \u001b[32m94.8/94.8 kB\u001b[0m \u001b[31m7.5 MB/s\u001b[0m eta \u001b[36m0:00:00\u001b[0m\n",
            "\u001b[2K   \u001b[90m━━━━━━━━━━━━━━━━━━━━━━━━━━━━━━━━━━━━━━━━\u001b[0m \u001b[32m278.6/278.6 kB\u001b[0m \u001b[31m23.2 MB/s\u001b[0m eta \u001b[36m0:00:00\u001b[0m\n",
            "\u001b[2K   \u001b[90m━━━━━━━━━━━━━━━━━━━━━━━━━━━━━━━━━━━━━━━━\u001b[0m \u001b[32m2.0/2.0 MB\u001b[0m \u001b[31m63.9 MB/s\u001b[0m eta \u001b[36m0:00:00\u001b[0m\n",
            "\u001b[2K   \u001b[90m━━━━━━━━━━━━━━━━━━━━━━━━━━━━━━━━━━━━━━━━\u001b[0m \u001b[32m50.9/50.9 kB\u001b[0m \u001b[31m3.9 MB/s\u001b[0m eta \u001b[36m0:00:00\u001b[0m\n",
            "\u001b[2K   \u001b[90m━━━━━━━━━━━━━━━━━━━━━━━━━━━━━━━━━━━━━━━━\u001b[0m \u001b[32m101.6/101.6 kB\u001b[0m \u001b[31m9.9 MB/s\u001b[0m eta \u001b[36m0:00:00\u001b[0m\n",
            "\u001b[2K   \u001b[90m━━━━━━━━━━━━━━━━━━━━━━━━━━━━━━━━━━━━━━━━\u001b[0m \u001b[32m13.3/13.3 MB\u001b[0m \u001b[31m78.0 MB/s\u001b[0m eta \u001b[36m0:00:00\u001b[0m\n",
            "\u001b[2K   \u001b[90m━━━━━━━━━━━━━━━━━━━━━━━━━━━━━━━━━━━━━━━━\u001b[0m \u001b[32m55.9/55.9 kB\u001b[0m \u001b[31m4.9 MB/s\u001b[0m eta \u001b[36m0:00:00\u001b[0m\n",
            "\u001b[2K   \u001b[90m━━━━━━━━━━━━━━━━━━━━━━━━━━━━━━━━━━━━━━━━\u001b[0m \u001b[32m177.4/177.4 kB\u001b[0m \u001b[31m15.2 MB/s\u001b[0m eta \u001b[36m0:00:00\u001b[0m\n",
            "\u001b[2K   \u001b[90m━━━━━━━━━━━━━━━━━━━━━━━━━━━━━━━━━━━━━━━━\u001b[0m \u001b[32m65.0/65.0 kB\u001b[0m \u001b[31m4.0 MB/s\u001b[0m eta \u001b[36m0:00:00\u001b[0m\n",
            "\u001b[2K   \u001b[90m━━━━━━━━━━━━━━━━━━━━━━━━━━━━━━━━━━━━━━━━\u001b[0m \u001b[32m118.7/118.7 kB\u001b[0m \u001b[31m11.7 MB/s\u001b[0m eta \u001b[36m0:00:00\u001b[0m\n",
            "\u001b[2K   \u001b[90m━━━━━━━━━━━━━━━━━━━━━━━━━━━━━━━━━━━━━━━━\u001b[0m \u001b[32m72.0/72.0 kB\u001b[0m \u001b[31m6.3 MB/s\u001b[0m eta \u001b[36m0:00:00\u001b[0m\n",
            "\u001b[2K   \u001b[90m━━━━━━━━━━━━━━━━━━━━━━━━━━━━━━━━━━━━━━━━\u001b[0m \u001b[32m71.5/71.5 kB\u001b[0m \u001b[31m7.3 MB/s\u001b[0m eta \u001b[36m0:00:00\u001b[0m\n",
            "\u001b[2K   \u001b[90m━━━━━━━━━━━━━━━━━━━━━━━━━━━━━━━━━━━━━━━━\u001b[0m \u001b[32m62.3/62.3 kB\u001b[0m \u001b[31m6.6 MB/s\u001b[0m eta \u001b[36m0:00:00\u001b[0m\n",
            "\u001b[2K   \u001b[90m━━━━━━━━━━━━━━━━━━━━━━━━━━━━━━━━━━━━━━━━\u001b[0m \u001b[32m459.8/459.8 kB\u001b[0m \u001b[31m31.4 MB/s\u001b[0m eta \u001b[36m0:00:00\u001b[0m\n",
            "\u001b[2K   \u001b[90m━━━━━━━━━━━━━━━━━━━━━━━━━━━━━━━━━━━━━━━━\u001b[0m \u001b[32m319.7/319.7 kB\u001b[0m \u001b[31m26.2 MB/s\u001b[0m eta \u001b[36m0:00:00\u001b[0m\n",
            "\u001b[2K   \u001b[90m━━━━━━━━━━━━━━━━━━━━━━━━━━━━━━━━━━━━━━━━\u001b[0m \u001b[32m4.0/4.0 MB\u001b[0m \u001b[31m72.8 MB/s\u001b[0m eta \u001b[36m0:00:00\u001b[0m\n",
            "\u001b[2K   \u001b[90m━━━━━━━━━━━━━━━━━━━━━━━━━━━━━━━━━━━━━━━━\u001b[0m \u001b[32m452.6/452.6 kB\u001b[0m \u001b[31m36.1 MB/s\u001b[0m eta \u001b[36m0:00:00\u001b[0m\n",
            "\u001b[2K   \u001b[90m━━━━━━━━━━━━━━━━━━━━━━━━━━━━━━━━━━━━━━━━\u001b[0m \u001b[32m46.0/46.0 kB\u001b[0m \u001b[31m4.8 MB/s\u001b[0m eta \u001b[36m0:00:00\u001b[0m\n",
            "\u001b[2K   \u001b[90m━━━━━━━━━━━━━━━━━━━━━━━━━━━━━━━━━━━━━━━━\u001b[0m \u001b[32m86.8/86.8 kB\u001b[0m \u001b[31m8.7 MB/s\u001b[0m eta \u001b[36m0:00:00\u001b[0m\n",
            "\u001b[?25h  Building wheel for pypika (pyproject.toml) ... \u001b[?25l\u001b[?25hdone\n"
          ]
        }
      ],
      "source": [
        "!pip install -q transformers einops accelerate bitsandbytes\n",
        "!pip install -q langchain langchain_community langchain-huggingface langchainhub langchain_chroma"
      ]
    },
    {
      "cell_type": "markdown",
      "id": "69f2877b",
      "metadata": {
        "id": "69f2877b"
      },
      "source": [
        "## Importações necessárias"
      ]
    },
    {
      "cell_type": "code",
      "execution_count": 2,
      "id": "da9b1813",
      "metadata": {
        "id": "da9b1813"
      },
      "outputs": [],
      "source": [
        "import torch\n",
        "import os\n",
        "import getpass\n",
        "\n",
        "from transformers import AutoModelForCausalLM, AutoTokenizer, pipeline, BitsAndBytesConfig\n",
        "from langchain_huggingface import HuggingFacePipeline\n",
        "\n",
        "from langchain.prompts import PromptTemplate\n",
        "from langchain_core.prompts import (\n",
        "    ChatPromptTemplate,\n",
        "    HumanMessagePromptTemplate,\n",
        "    MessagesPlaceholder,\n",
        ")\n",
        "from langchain_core.messages import SystemMessage\n",
        "from langchain_core.output_parsers import StrOutputParser\n",
        "from langchain_core.runnables import RunnablePassthrough"
      ]
    },
    {
      "cell_type": "markdown",
      "id": "c32e2085",
      "metadata": {
        "id": "c32e2085"
      },
      "source": [
        "## Adicionando o Token do huggingface"
      ]
    },
    {
      "cell_type": "code",
      "execution_count": 3,
      "id": "463ea422",
      "metadata": {
        "colab": {
          "base_uri": "https://localhost:8080/"
        },
        "id": "463ea422",
        "outputId": "486609a3-06ca-4522-b20c-7c3f95a9398a"
      },
      "outputs": [
        {
          "name": "stdout",
          "output_type": "stream",
          "text": [
            "··········\n"
          ]
        }
      ],
      "source": [
        "os.environ[\"HF_TOKEN\"] = getpass.getpass()"
      ]
    },
    {
      "cell_type": "markdown",
      "id": "e322ea20",
      "metadata": {
        "id": "e322ea20"
      },
      "source": [
        "## Carregando a LLM"
      ]
    },
    {
      "cell_type": "code",
      "execution_count": 4,
      "id": "ab53afa0",
      "metadata": {
        "colab": {
          "base_uri": "https://localhost:8080/",
          "height": 540,
          "referenced_widgets": [
            "1129efad53e84dc4984f930033c07876",
            "b01585f4463c4f3080c395d4d1d4e3f5",
            "86576c1a3b174264b9bbeb7e7409cae5",
            "9084605f99be4415839c26813579d86c",
            "b53a30674cea4c509cf0d1d0677d49cf",
            "03eaa311109f431d97190b0d13321d29",
            "a99c962197f74a78a3cd8b29dd6204b9",
            "6258111471d34dbc8203fddc31cff1af",
            "2ba06a51333840609db99aefcbff9f98",
            "5e71294940094595ad78bec5b5db311a",
            "c3456a5bcd0349e18dfd60d2b9195338",
            "0ab70a8431894ec4a86e55e86e1550b7",
            "668dffd7ac6940d9a320baa278e42480",
            "87c802b150c2400ab4717950c79d467e",
            "d05985505eeb427e872232f7325ca124",
            "49684281cacb4d51913b4269a759fd91",
            "04f6399b84204cbc8a62f156a3a16ee9",
            "185091bc12b74cb18d41228d5ae3c0c0",
            "1c661b8f600e4ff192c6b2210d3d5a58",
            "5d1b73eec4094c33b8f0f2c6c620edee",
            "d50006a73ae94394bf6871fca674981e",
            "a4184a39403c448ba9b7fa463b438c11",
            "894d30a0c708437596e69a1d5502c3b2",
            "85a4f1d5ffc74b08aa1bd60d708c85ce",
            "0613ced93e5f4eb880455f1689ade1c7",
            "7bd4ad3d7e664e9491ed8b632c6d1424",
            "09aecaf55ee94194b966535bf87c8be9",
            "01e062ed417246b58cc423614a73f641",
            "1a8cbf2779c54b93891a276192164f21",
            "d27fc3c6471942b9846ed40a452d2649",
            "f34917640ec8458e9fb7cb955f16eaef",
            "7d02059fc78b46868da8f14857d10abd",
            "183a697efb9d43439ce11e794a1b34bf",
            "8fd7ea41cb9b4dc3952d68200d2e68d0",
            "7f66b575b8374266ba1053af7a6af4e0",
            "07fc5a3faa014a2a919f6c046c45a47b",
            "9bb7053624a24cddb60cb1deea58f6b6",
            "0ccff74eafa447febe09a40cca5af4a8",
            "544ffb5cb7ef46bf86af2559bad269b9",
            "6e50200220804ab6acede8bb94650ddd",
            "fc8b27892b0e49acbdc87cff7bd0c751",
            "6d8d3a78f62240128da8d0198320bc83",
            "78b25fb1beb74550b1b1736c875d2a11",
            "12cef39c28c9406bb9dfce1f70cf071a",
            "524d8ff44d0044248ea7daf5471f4c03",
            "a8aabb741ba04ba6ba291e4d75f7bc27",
            "93ef2413c4e54fd8b56603b6cc8dcba0",
            "4f3381b52cf745ca9b2337aada6ecc0c",
            "611c6de91115432b963bea06c9480fc4",
            "12c02e8caaf74fc98bc61d79f68e0ea6",
            "8798dc05b6f84b158698db5b399c8dec",
            "17155b74e3594c0b8e8b18bbf7477431",
            "b79be3f6685c43a5a8c7815209790d00",
            "c11c0eecd7f547b785adbe02ad80bb59",
            "f79baaee189041d4992e63605cd64d27",
            "aab068454ae04efbaca5ecca66c50c49",
            "e49e3c46060647e1993276cad3db22cd",
            "2ac55843e5424649b6a291d3aa515f49",
            "caa82cba032c4bd38c684893b5e45be3",
            "d174ac6559ef4bd38d7f7c025706e02f",
            "b5500eff9b234ebdaaf350f82c2821c7",
            "b9e5f1934cc045169e6c3669766bf3bf",
            "cbf593374def4c6d93d6a1058fcbba13",
            "7742a1bc8be7488082eac7abdc2f6fd8",
            "c59a27237e3f4198b61c4f4e3b610d45",
            "34828c0acb8643cbb71a39ab8cf7e58f",
            "94d5d8931ce54cd9b1b3e6c48b17c4b3",
            "a325532ad5914190b580389a3c2e0d15",
            "bfc930e5c0854bafb4c3eb583846371f",
            "845c1a36ab8546e3a39cad8273e15d8d",
            "5ba7da77c80a45238c683cb74c5a679f",
            "ee0cbe3d03bf48c2940733bf557c444b",
            "fb5186ce6a614c8d953b38df58ec8fc3",
            "6ee5a0187d6448538b1db3ebd55c0c30",
            "33c7e72830544c9a8096fc5b903e0806",
            "262e210f6062486086922ce155daf5b5",
            "614d66714ef9418090140ec445d2ab5d",
            "cff95fd753814605adc7e89997d69499",
            "a2d1cf3370f740448f6753162fcbb994",
            "15cdacecc04b427991e536fc90346daa",
            "8f2d8e58c20142c7a4ab78fd871d0f9c",
            "710dbb18ddc241d3b22e50e75ef6f4ff",
            "127c249aebde48e6b1838f18998f7657",
            "61132ef051c14cf3ba72df6af27ae7c9",
            "d2b8974de3d44a4bac48b6266c2e4d22",
            "68e9d7f56db6497aa1541c2572014dd5",
            "b73cc0f54ce84038866f51a785d1c316",
            "497a0b596bf446fbbc1400ef3d09a5d8",
            "e24309ab3ec948f9800aedafc752d036",
            "fc38098492ba4f3c99c16b8c15071d66",
            "f9ebaa06ed3c483cbfd547110069ed4b",
            "02ccb496556a4ac88719f766a0f946c1",
            "b2493bf79e1143738efbbdb8e59b0f44",
            "9444f5bb466f4cb6bdcfa54748027e0b",
            "5e1443ccc54e45e1ae18790d9e6848bf",
            "4ef43131cfd54b9dbf24442dca926221",
            "3ec3254846ea494fb94eb1f5d1c881e2",
            "1c82e01a54e942499710e6ab8e6f0d1d",
            "df4a818565fd4475a1b7f0135156426a",
            "0aaabb5c9a6440c68d0f5885871154b7",
            "6fe69887876c48438fd51c961ff1bbe8",
            "19ec774d035e4f4d90c39f9d355bbf75",
            "668ef7489b254321b89040aca95acc87",
            "f2bb39cd07364ec296f2a8edb061b04b",
            "c5e5f3decb164f23812e8c0300c04cd5",
            "a00e49c47c3f4a7c9dd3b8c82882696c",
            "4c0fa70a02254a8a87a196c388c60f42",
            "88698ea2d90f456d9f9e2afbd0703364",
            "8777596b115445cd9db357f762cdfc57",
            "41b554440d3f4c63b0536ac1e081b2b3",
            "e9f784f7974d458f9a6c84d0dad9d778",
            "84171d34a67d4c3e9e1ef6e47d4c010c",
            "2563f02f35284a7f8cc641cb0e666568",
            "9f8d6721663d447d95d4f5bc33d3019d",
            "373773e697104daf8b35c67d11faa61d",
            "e5e84996b7724d428363e5e1f85db3eb",
            "d24c951438a84a9f869c3d938a2d5b2c",
            "cacf73b3551f4eed802480dc709baa33",
            "1e653f4f19a74f909dbc9e3bd6bf0bf3",
            "f7cc8e5e2a2d4d7a9c954331d235344d",
            "5a6f2148d87f4bc28bdf6d6dfea3d304",
            "2411232a1c53460cbfad9e8be2734a3d",
            "a38f6064ac9c4412bcf6c8eea4344649",
            "7cc11dad35db439db4bdd9236d1a6e67",
            "9a0b5e5927b944f989293614b78b9c70",
            "1d936cd3caf34a9aa41fd6f8c35ac5b3",
            "022bf9a18cb5406e9e6f532b09e8edaf",
            "77ed04a8ed0848c988fafd27dd198a96",
            "a33928cc1b844d378136e30632c2c129",
            "9dbe5130fda4469cb98f2279c481fad4",
            "eafe57ad94f1454f80327abff9834e85",
            "aacc5dd5a47144a18454e0d41c8fab96"
          ]
        },
        "id": "ab53afa0",
        "outputId": "70603432-e888-4505-d1c5-32ca79098256"
      },
      "outputs": [
        {
          "output_type": "stream",
          "name": "stderr",
          "text": [
            "/usr/local/lib/python3.11/dist-packages/huggingface_hub/utils/_auth.py:94: UserWarning: \n",
            "The secret `HF_TOKEN` does not exist in your Colab secrets.\n",
            "To authenticate with the Hugging Face Hub, create a token in your settings tab (https://huggingface.co/settings/tokens), set it as secret in your Google Colab and restart your session.\n",
            "You will be able to reuse this secret in all of your notebooks.\n",
            "Please note that authentication is recommended but still optional to access public models or datasets.\n",
            "  warnings.warn(\n"
          ]
        },
        {
          "output_type": "display_data",
          "data": {
            "text/plain": [
              "config.json:   0%|          | 0.00/654 [00:00<?, ?B/s]"
            ],
            "application/vnd.jupyter.widget-view+json": {
              "version_major": 2,
              "version_minor": 0,
              "model_id": "1129efad53e84dc4984f930033c07876"
            }
          },
          "metadata": {}
        },
        {
          "output_type": "stream",
          "name": "stderr",
          "text": [
            "`low_cpu_mem_usage` was None, now default to True since model is quantized.\n"
          ]
        },
        {
          "output_type": "display_data",
          "data": {
            "text/plain": [
              "model.safetensors.index.json:   0%|          | 0.00/23.9k [00:00<?, ?B/s]"
            ],
            "application/vnd.jupyter.widget-view+json": {
              "version_major": 2,
              "version_minor": 0,
              "model_id": "0ab70a8431894ec4a86e55e86e1550b7"
            }
          },
          "metadata": {}
        },
        {
          "output_type": "display_data",
          "data": {
            "text/plain": [
              "Downloading shards:   0%|          | 0/4 [00:00<?, ?it/s]"
            ],
            "application/vnd.jupyter.widget-view+json": {
              "version_major": 2,
              "version_minor": 0,
              "model_id": "894d30a0c708437596e69a1d5502c3b2"
            }
          },
          "metadata": {}
        },
        {
          "output_type": "display_data",
          "data": {
            "text/plain": [
              "model-00001-of-00004.safetensors:   0%|          | 0.00/4.98G [00:00<?, ?B/s]"
            ],
            "application/vnd.jupyter.widget-view+json": {
              "version_major": 2,
              "version_minor": 0,
              "model_id": "8fd7ea41cb9b4dc3952d68200d2e68d0"
            }
          },
          "metadata": {}
        },
        {
          "output_type": "display_data",
          "data": {
            "text/plain": [
              "model-00002-of-00004.safetensors:   0%|          | 0.00/5.00G [00:00<?, ?B/s]"
            ],
            "application/vnd.jupyter.widget-view+json": {
              "version_major": 2,
              "version_minor": 0,
              "model_id": "524d8ff44d0044248ea7daf5471f4c03"
            }
          },
          "metadata": {}
        },
        {
          "output_type": "display_data",
          "data": {
            "text/plain": [
              "model-00003-of-00004.safetensors:   0%|          | 0.00/4.92G [00:00<?, ?B/s]"
            ],
            "application/vnd.jupyter.widget-view+json": {
              "version_major": 2,
              "version_minor": 0,
              "model_id": "aab068454ae04efbaca5ecca66c50c49"
            }
          },
          "metadata": {}
        },
        {
          "output_type": "display_data",
          "data": {
            "text/plain": [
              "model-00004-of-00004.safetensors:   0%|          | 0.00/1.17G [00:00<?, ?B/s]"
            ],
            "application/vnd.jupyter.widget-view+json": {
              "version_major": 2,
              "version_minor": 0,
              "model_id": "94d5d8931ce54cd9b1b3e6c48b17c4b3"
            }
          },
          "metadata": {}
        },
        {
          "output_type": "display_data",
          "data": {
            "text/plain": [
              "Loading checkpoint shards:   0%|          | 0/4 [00:00<?, ?it/s]"
            ],
            "application/vnd.jupyter.widget-view+json": {
              "version_major": 2,
              "version_minor": 0,
              "model_id": "cff95fd753814605adc7e89997d69499"
            }
          },
          "metadata": {}
        },
        {
          "output_type": "display_data",
          "data": {
            "text/plain": [
              "generation_config.json:   0%|          | 0.00/187 [00:00<?, ?B/s]"
            ],
            "application/vnd.jupyter.widget-view+json": {
              "version_major": 2,
              "version_minor": 0,
              "model_id": "e24309ab3ec948f9800aedafc752d036"
            }
          },
          "metadata": {}
        },
        {
          "output_type": "display_data",
          "data": {
            "text/plain": [
              "tokenizer_config.json:   0%|          | 0.00/51.0k [00:00<?, ?B/s]"
            ],
            "application/vnd.jupyter.widget-view+json": {
              "version_major": 2,
              "version_minor": 0,
              "model_id": "0aaabb5c9a6440c68d0f5885871154b7"
            }
          },
          "metadata": {}
        },
        {
          "output_type": "display_data",
          "data": {
            "text/plain": [
              "tokenizer.json:   0%|          | 0.00/9.09M [00:00<?, ?B/s]"
            ],
            "application/vnd.jupyter.widget-view+json": {
              "version_major": 2,
              "version_minor": 0,
              "model_id": "e9f784f7974d458f9a6c84d0dad9d778"
            }
          },
          "metadata": {}
        },
        {
          "output_type": "display_data",
          "data": {
            "text/plain": [
              "special_tokens_map.json:   0%|          | 0.00/73.0 [00:00<?, ?B/s]"
            ],
            "application/vnd.jupyter.widget-view+json": {
              "version_major": 2,
              "version_minor": 0,
              "model_id": "2411232a1c53460cbfad9e8be2734a3d"
            }
          },
          "metadata": {}
        },
        {
          "output_type": "stream",
          "name": "stderr",
          "text": [
            "Device set to use cuda:0\n"
          ]
        }
      ],
      "source": [
        "model_id = \"meta-llama/Meta-Llama-3-8B-Instruct\"\n",
        "\n",
        "quantization_config = BitsAndBytesConfig(\n",
        "    load_in_4bit=True, bnb_4bit_use_double_quant=True, bnb_4bit_quant_type=\"nf4\", bnb_4bit_compute_dtype=torch.bfloat16\n",
        ")\n",
        "\n",
        "model = AutoModelForCausalLM.from_pretrained(model_id, quantization_config=quantization_config)\n",
        "tokenizer = AutoTokenizer.from_pretrained(model_id)\n",
        "\n",
        "pipe = pipeline(\n",
        "    model=model,\n",
        "    tokenizer=tokenizer,\n",
        "    task=\"text-generation\",\n",
        "    temperature=0.1,\n",
        "    max_new_tokens=500,\n",
        "    do_sample=True,\n",
        "    repetition_penalty=1.1,\n",
        "    return_full_text=False,\n",
        ")\n",
        "llm = HuggingFacePipeline(pipeline=pipe)"
      ]
    },
    {
      "cell_type": "markdown",
      "source": [
        "## Template LLAMA 3 sem RAG"
      ],
      "metadata": {
        "id": "Oit-_Ej0FqhP"
      },
      "id": "Oit-_Ej0FqhP"
    },
    {
      "cell_type": "code",
      "source": [
        "template = \"\"\"\n",
        "<|begin_of_text|>\n",
        "<|start_header_id|>system<|end_header_id|>\n",
        "Você é um assistente virtual prestativo e está respondendo perguntas gerais.\n",
        "<|eot_id|>\n",
        "<|start_header_id|>user<|end_header_id|>\n",
        "{pergunta}\n",
        "<|eot_id|>\n",
        "<|start_header_id|>assistant<|end_header_id|>\n",
        "\"\"\"\n",
        "\n",
        "template"
      ],
      "metadata": {
        "colab": {
          "base_uri": "https://localhost:8080/",
          "height": 53
        },
        "id": "S1KgW9AHFwp3",
        "outputId": "ee8fcaa5-cd28-498d-8de3-81c4f741d78a"
      },
      "id": "S1KgW9AHFwp3",
      "execution_count": 6,
      "outputs": [
        {
          "output_type": "execute_result",
          "data": {
            "text/plain": [
              "'\\n<|begin_of_text|>\\n<|start_header_id|>system<|end_header_id|>\\nVocê é um assistente virtual prestativo e está respondendo perguntas gerais.\\n<|eot_id|>\\n<|start_header_id|>user<|end_header_id|>\\n{pergunta}\\n<|eot_id|>\\n<|start_header_id|>assistant<|end_header_id|>\\n'"
            ],
            "application/vnd.google.colaboratory.intrinsic+json": {
              "type": "string"
            }
          },
          "metadata": {},
          "execution_count": 6
        }
      ]
    },
    {
      "cell_type": "markdown",
      "source": [
        "## Prompt sem RAG"
      ],
      "metadata": {
        "id": "ll3L04_tGdAa"
      },
      "id": "ll3L04_tGdAa"
    },
    {
      "cell_type": "code",
      "source": [
        "prompt = PromptTemplate.from_template(template)\n",
        "prompt"
      ],
      "metadata": {
        "colab": {
          "base_uri": "https://localhost:8080/"
        },
        "id": "kM0DHes5GEyt",
        "outputId": "69a49670-2bc1-4207-dc64-5d539d460330"
      },
      "id": "kM0DHes5GEyt",
      "execution_count": 7,
      "outputs": [
        {
          "output_type": "execute_result",
          "data": {
            "text/plain": [
              "PromptTemplate(input_variables=['pergunta'], input_types={}, partial_variables={}, template='\\n<|begin_of_text|>\\n<|start_header_id|>system<|end_header_id|>\\nVocê é um assistente virtual prestativo e está respondendo perguntas gerais.\\n<|eot_id|>\\n<|start_header_id|>user<|end_header_id|>\\n{pergunta}\\n<|eot_id|>\\n<|start_header_id|>assistant<|end_header_id|>\\n')"
            ]
          },
          "metadata": {},
          "execution_count": 7
        }
      ]
    },
    {
      "cell_type": "markdown",
      "source": [
        "## Chain utilizando prompt sem RAG"
      ],
      "metadata": {
        "id": "2De_iiqrGSMh"
      },
      "id": "2De_iiqrGSMh"
    },
    {
      "cell_type": "code",
      "source": [
        "chain = prompt | llm"
      ],
      "metadata": {
        "id": "wzzmJFFzGaOa"
      },
      "id": "wzzmJFFzGaOa",
      "execution_count": 9,
      "outputs": []
    },
    {
      "cell_type": "markdown",
      "source": [
        "## Invoke sem RAG\n",
        "\n",
        "Como primeiro exemplo, vamos usar o dia de hoje. Aqui é algo onde o contexto através de RAG pode ser útil já que está totalmente fora do alcance da LLM retornar o dia hoje, é algo que ela simplesmente não tem como saber sozinha"
      ],
      "metadata": {
        "id": "jL-dhLasGjVA"
      },
      "id": "jL-dhLasGjVA"
    },
    {
      "cell_type": "code",
      "source": [
        "chain.invoke({\"pergunta\": \"Que dia é hoje?\"})"
      ],
      "metadata": {
        "colab": {
          "base_uri": "https://localhost:8080/",
          "height": 53
        },
        "id": "vCF3cHhlGngc",
        "outputId": "4af45fbe-6f2e-4d16-bccf-7f708faa1bdd"
      },
      "id": "vCF3cHhlGngc",
      "execution_count": 10,
      "outputs": [
        {
          "output_type": "stream",
          "name": "stderr",
          "text": [
            "Setting `pad_token_id` to `eos_token_id`:128001 for open-end generation.\n"
          ]
        },
        {
          "output_type": "execute_result",
          "data": {
            "text/plain": [
              "'Peço desculpas, mas como sou um assistente virtual, não tenho acesso a informações em tempo real sobre a data atual. No entanto, posso ajudá-lo com outras coisas!'"
            ],
            "application/vnd.google.colaboratory.intrinsic+json": {
              "type": "string"
            }
          },
          "metadata": {},
          "execution_count": 10
        }
      ]
    },
    {
      "cell_type": "markdown",
      "source": [
        "## Template LLAMA 3 sem RAG\n",
        "Para implementar o RAG, devemos reservar um espaço no template do prompt para que seja alocado nessa parte o contexto que queremos usar\n",
        "\n",
        "Basearemos nesse template que está hospedado no Hub do LangSmith https://smith.langchain.com/hub/rlm/rag-prompt É um prompt bastante usado para esse objetivo\n",
        "\n",
        "Mais tarde ensinaremos como puxar diretamente os prompts de lá sem precisar copiar e colar. Mas agora, fazemos assim pois queremos adequar ao template do modelo Llama 3"
      ],
      "metadata": {
        "id": "wkKLtMwHIAYB"
      },
      "id": "wkKLtMwHIAYB"
    },
    {
      "cell_type": "code",
      "source": [
        "template_rag = \"\"\"\n",
        "<|begin_of_text|>\n",
        "<|start_header_id|>system<|end_header_id|>\n",
        "Você é um assistente virtual prestativo e está respondendo perguntas gerais.\n",
        "Use os seguintes pedaços de contexto recuperado para responder à pergunta.\n",
        "Se você não sabe a resposta, apenas diga que não sabe. Mantenha a resposta concisa.\n",
        "<|eot_id|>\n",
        "<|start_header_id|>user<|end_header_id|>\n",
        "Pergunta: {pergunta}\n",
        "Contexto: {contexto}\n",
        "<|eot_id|>\n",
        "<|start_header_id|>assistant<|end_header_id|>\n",
        "\"\"\""
      ],
      "metadata": {
        "id": "y9eAKyv5IGHE"
      },
      "id": "y9eAKyv5IGHE",
      "execution_count": 11,
      "outputs": []
    },
    {
      "cell_type": "markdown",
      "source": [
        "## Prompt com RAG"
      ],
      "metadata": {
        "id": "ke1TYi5TINFv"
      },
      "id": "ke1TYi5TINFv"
    },
    {
      "cell_type": "code",
      "source": [
        "prompt_rag = PromptTemplate.from_template(template_rag)\n",
        "print(prompt_rag)"
      ],
      "metadata": {
        "colab": {
          "base_uri": "https://localhost:8080/"
        },
        "id": "fpfDwbT8IQb5",
        "outputId": "007c3953-74b0-4766-d2ad-b844c99557e7"
      },
      "id": "fpfDwbT8IQb5",
      "execution_count": 12,
      "outputs": [
        {
          "output_type": "stream",
          "name": "stdout",
          "text": [
            "input_variables=['contexto', 'pergunta'] input_types={} partial_variables={} template='\\n<|begin_of_text|>\\n<|start_header_id|>system<|end_header_id|>\\nVocê é um assistente virtual prestativo e está respondendo perguntas gerais.\\nUse os seguintes pedaços de contexto recuperado para responder à pergunta.\\nSe você não sabe a resposta, apenas diga que não sabe. Mantenha a resposta concisa.\\n<|eot_id|>\\n<|start_header_id|>user<|end_header_id|>\\nPergunta: {pergunta}\\nContexto: {contexto}\\n<|eot_id|>\\n<|start_header_id|>assistant<|end_header_id|>\\n'\n"
          ]
        }
      ]
    },
    {
      "cell_type": "markdown",
      "source": [
        "## Definindo o contexto\n",
        "\n",
        "Agora vamos usar uma função do python que nos retorna o dia"
      ],
      "metadata": {
        "id": "x9Qc9Fd9IU-N"
      },
      "id": "x9Qc9Fd9IU-N"
    },
    {
      "cell_type": "code",
      "source": [
        "from datetime import date\n",
        "\n",
        "dia = date.today()\n",
        "print(dia)"
      ],
      "metadata": {
        "colab": {
          "base_uri": "https://localhost:8080/"
        },
        "id": "n5UvcqQiIeUK",
        "outputId": "c061ca53-f989-4f86-f330-6d805b71b210"
      },
      "id": "n5UvcqQiIeUK",
      "execution_count": 13,
      "outputs": [
        {
          "output_type": "stream",
          "name": "stdout",
          "text": [
            "2025-02-06\n"
          ]
        }
      ]
    },
    {
      "cell_type": "code",
      "source": [
        "contexto = \"Você sabe que hoje é dia '{}'\".format(dia)\n",
        "print(contexto)"
      ],
      "metadata": {
        "colab": {
          "base_uri": "https://localhost:8080/"
        },
        "id": "mn4ediPkIhlP",
        "outputId": "3f164224-934b-4d91-9ac2-9e143d3c6d56"
      },
      "id": "mn4ediPkIhlP",
      "execution_count": 14,
      "outputs": [
        {
          "output_type": "stream",
          "name": "stdout",
          "text": [
            "Você sabe que hoje é dia '2025-02-06'\n"
          ]
        }
      ]
    },
    {
      "cell_type": "markdown",
      "source": [
        "## Criação da Chain / Geração\n",
        "\n",
        "Dica: Se a pergunta for muito vaga e referente a algo que o modelo possa saber (por exemplo, algo muito conhecido) ele pode alucinar um pouco na resposta as vezes. Para evitar alucinar, pode colocar no template o seguinte: \"Responda a pergunta com base apenas no contexto\". Lembre-se que você pode sempre tentar aperfeiçoar o prompt para melhorar os resultados"
      ],
      "metadata": {
        "id": "WvD2BjVsIoeK"
      },
      "id": "WvD2BjVsIoeK"
    },
    {
      "cell_type": "code",
      "source": [
        "chain_rag = prompt_rag | llm | StrOutputParser()\n",
        "\n",
        "pergunta = \"Que dia é hoje? Retorne a data em formato dd/mm/yyyy\"\n",
        "\n",
        "res = chain_rag.invoke({\"pergunta\": pergunta, \"contexto\": contexto})\n",
        "res"
      ],
      "metadata": {
        "colab": {
          "base_uri": "https://localhost:8080/",
          "height": 53
        },
        "id": "v2-i7tlqInn6",
        "outputId": "ff46adbb-6ce8-4e9f-c33d-284c557a3bd2"
      },
      "id": "v2-i7tlqInn6",
      "execution_count": 15,
      "outputs": [
        {
          "output_type": "stream",
          "name": "stderr",
          "text": [
            "Setting `pad_token_id` to `eos_token_id`:128001 for open-end generation.\n"
          ]
        },
        {
          "output_type": "execute_result",
          "data": {
            "text/plain": [
              "'Hoje é 06/02/2025.'"
            ],
            "application/vnd.google.colaboratory.intrinsic+json": {
              "type": "string"
            }
          },
          "metadata": {},
          "execution_count": 15
        }
      ]
    },
    {
      "cell_type": "markdown",
      "source": [
        "## RAG - Explorando dados de faturamento de uma empresa\n",
        "\n",
        "Vamos pegar um exemplo mais concreto. Vamos supor que queremos usar o LLMs para responder duvidas de um documento ou uma planilha que contém informações sobre um empresa. Esses dados são privados e portanto os modelos não tem como saber (e mesmo que fossem públicos, bom lembrar que a precisão seria comprometida, sem falar que dados muitos recentes não estariam inclusos)"
      ],
      "metadata": {
        "id": "x_wIEwDaI74d"
      },
      "id": "x_wIEwDaI74d"
    },
    {
      "cell_type": "code",
      "source": [
        "chain_rag = prompt_rag | llm | StrOutputParser()\n",
        "\n",
        "contexto = \"\"\"Faturamento trimestral:\n",
        "1º: R$42476,40\n",
        "2º: R$46212,97\n",
        "3º: R$41324,56\n",
        "4º: R$56430,24\"\"\"\n",
        "\n",
        "#pergunta = \"Qual é o faturamento do segundo trimestre?\"\n",
        "pergunta = \"Qual trimestre teve o maior faturamento?\"\n",
        "\n",
        "chain_rag.invoke({\n",
        "  \"contexto\": contexto,\n",
        "  \"pergunta\": pergunta\n",
        "})"
      ],
      "metadata": {
        "colab": {
          "base_uri": "https://localhost:8080/",
          "height": 53
        },
        "id": "HA-z8bTFJLkK",
        "outputId": "d60db127-a304-4169-f25b-44dda586182f"
      },
      "id": "HA-z8bTFJLkK",
      "execution_count": 16,
      "outputs": [
        {
          "output_type": "stream",
          "name": "stderr",
          "text": [
            "Setting `pad_token_id` to `eos_token_id`:128001 for open-end generation.\n"
          ]
        },
        {
          "output_type": "execute_result",
          "data": {
            "text/plain": [
              "'O trimestre com o maior faturamento foi o 4º, com R$56430,24.'"
            ],
            "application/vnd.google.colaboratory.intrinsic+json": {
              "type": "string"
            }
          },
          "metadata": {},
          "execution_count": 16
        }
      ]
    },
    {
      "cell_type": "markdown",
      "source": [
        "## Depuração / Debugging\n",
        "\n",
        "Assim como na construção de qualquer tipo de software, em algum momento você precisará depurar ao construir com LLMs. Isso porque uma chamada de modelo falhará ou a saída do modelo será malformatada, ou haverá algumas chamadas de modelo aninhadas e não ficará claro onde ao longo do caminho uma saída incorreta foi criada.\n",
        "\n",
        "Há três métodos principais para depuração:\n",
        "\n",
        "Modo Debug: Isso adiciona instruções de registro para TODOS os eventos em sua cadeia. Modo Verbose: Isso adiciona instruções de impressão para eventos \"importantes\" em sua cadeia. Rastreamento com LangSmith: Isso registra eventos no LangSmith para permitir a visualização lá.\n",
        "\n",
        "Veremos o método com LangSmith mais tarde.\n",
        "\n",
        "Agora, vamos aprender como fazer isso ativando o modo debug\n",
        "\n",
        "https://python.langchain.com/v0.2/docs/how_to/debugging/"
      ],
      "metadata": {
        "id": "c5-ZRx5eJTi2"
      },
      "id": "c5-ZRx5eJTi2"
    },
    {
      "cell_type": "code",
      "source": [
        "from langchain.globals import set_debug\n",
        "set_debug(True)"
      ],
      "metadata": {
        "id": "fboHr1qcJZO5"
      },
      "id": "fboHr1qcJZO5",
      "execution_count": 17,
      "outputs": []
    },
    {
      "cell_type": "markdown",
      "source": [
        "Definir a depuração = True com que todos os componentes do LangChain com suporte a callback (chains, modelos, agentes, tools, retrievers, etc.) imprimam as entradas que recebem e as saídas que geram. Esta é a configuração mais detalhada e registrará totalmente as entradas e saídas brutas"
      ],
      "metadata": {
        "id": "ZwUghUB0Jb0l"
      },
      "id": "ZwUghUB0Jb0l"
    },
    {
      "cell_type": "code",
      "source": [
        "pergunta = \"Qual trimestre teve o menor faturamento?\"\n",
        "\n",
        "chain_rag.invoke({\n",
        "  \"contexto\": contexto,\n",
        "  \"pergunta\": pergunta\n",
        "})"
      ],
      "metadata": {
        "colab": {
          "base_uri": "https://localhost:8080/",
          "height": 854
        },
        "id": "egz0OxggJdL9",
        "outputId": "62230668-08f2-4b8f-82ea-2be877736203"
      },
      "id": "egz0OxggJdL9",
      "execution_count": 18,
      "outputs": [
        {
          "output_type": "stream",
          "name": "stderr",
          "text": [
            "Setting `pad_token_id` to `eos_token_id`:128001 for open-end generation.\n"
          ]
        },
        {
          "output_type": "stream",
          "name": "stdout",
          "text": [
            "\u001b[32;1m\u001b[1;3m[chain/start]\u001b[0m \u001b[1m[chain:RunnableSequence] Entering Chain run with input:\n",
            "\u001b[0m{\n",
            "  \"contexto\": \"Faturamento trimestral:\\n1º: R$42476,40\\n2º: R$46212,97\\n3º: R$41324,56\\n4º: R$56430,24\",\n",
            "  \"pergunta\": \"Qual trimestre teve o menor faturamento?\"\n",
            "}\n",
            "\u001b[32;1m\u001b[1;3m[chain/start]\u001b[0m \u001b[1m[chain:RunnableSequence > prompt:PromptTemplate] Entering Prompt run with input:\n",
            "\u001b[0m{\n",
            "  \"contexto\": \"Faturamento trimestral:\\n1º: R$42476,40\\n2º: R$46212,97\\n3º: R$41324,56\\n4º: R$56430,24\",\n",
            "  \"pergunta\": \"Qual trimestre teve o menor faturamento?\"\n",
            "}\n",
            "\u001b[36;1m\u001b[1;3m[chain/end]\u001b[0m \u001b[1m[chain:RunnableSequence > prompt:PromptTemplate] [1ms] Exiting Prompt run with output:\n",
            "\u001b[0m[outputs]\n",
            "\u001b[32;1m\u001b[1;3m[llm/start]\u001b[0m \u001b[1m[chain:RunnableSequence > llm:HuggingFacePipeline] Entering LLM run with input:\n",
            "\u001b[0m{\n",
            "  \"prompts\": [\n",
            "    \"<|begin_of_text|>\\n<|start_header_id|>system<|end_header_id|>\\nVocê é um assistente virtual prestativo e está respondendo perguntas gerais.\\nUse os seguintes pedaços de contexto recuperado para responder à pergunta.\\nSe você não sabe a resposta, apenas diga que não sabe. Mantenha a resposta concisa.\\n<|eot_id|>\\n<|start_header_id|>user<|end_header_id|>\\nPergunta: Qual trimestre teve o menor faturamento?\\nContexto: Faturamento trimestral:\\n1º: R$42476,40\\n2º: R$46212,97\\n3º: R$41324,56\\n4º: R$56430,24\\n<|eot_id|>\\n<|start_header_id|>assistant<|end_header_id|>\"\n",
            "  ]\n",
            "}\n",
            "\u001b[36;1m\u001b[1;3m[llm/end]\u001b[0m \u001b[1m[chain:RunnableSequence > llm:HuggingFacePipeline] [3.47s] Exiting LLM run with output:\n",
            "\u001b[0m{\n",
            "  \"generations\": [\n",
            "    [\n",
            "      {\n",
            "        \"text\": \"O trimestre com o menor faturamento foi o 3º, com R$41324,56.\",\n",
            "        \"generation_info\": null,\n",
            "        \"type\": \"Generation\"\n",
            "      }\n",
            "    ]\n",
            "  ],\n",
            "  \"llm_output\": null,\n",
            "  \"run\": null,\n",
            "  \"type\": \"LLMResult\"\n",
            "}\n",
            "\u001b[32;1m\u001b[1;3m[chain/start]\u001b[0m \u001b[1m[chain:RunnableSequence > parser:StrOutputParser] Entering Parser run with input:\n",
            "\u001b[0m{\n",
            "  \"input\": \"O trimestre com o menor faturamento foi o 3º, com R$41324,56.\"\n",
            "}\n",
            "\u001b[36;1m\u001b[1;3m[chain/end]\u001b[0m \u001b[1m[chain:RunnableSequence > parser:StrOutputParser] [1ms] Exiting Parser run with output:\n",
            "\u001b[0m{\n",
            "  \"output\": \"O trimestre com o menor faturamento foi o 3º, com R$41324,56.\"\n",
            "}\n",
            "\u001b[36;1m\u001b[1;3m[chain/end]\u001b[0m \u001b[1m[chain:RunnableSequence] [3.48s] Exiting Chain run with output:\n",
            "\u001b[0m{\n",
            "  \"output\": \"O trimestre com o menor faturamento foi o 3º, com R$41324,56.\"\n",
            "}\n"
          ]
        },
        {
          "output_type": "execute_result",
          "data": {
            "text/plain": [
              "'O trimestre com o menor faturamento foi o 3º, com R$41324,56.'"
            ],
            "application/vnd.google.colaboratory.intrinsic+json": {
              "type": "string"
            }
          },
          "metadata": {},
          "execution_count": 18
        }
      ]
    },
    {
      "cell_type": "code",
      "source": [
        "set_debug(False)"
      ],
      "metadata": {
        "id": "XbvTzd29JjA4"
      },
      "id": "XbvTzd29JjA4",
      "execution_count": 19,
      "outputs": []
    },
    {
      "cell_type": "markdown",
      "source": [
        "Alternativamente, você pode usar um serviço externo como o LangSmith para rastrear melhor: https://smith.langchain.com/ LangSmith irá capturar os detalhes internos em cada etapa"
      ],
      "metadata": {
        "id": "GuHQLEf3JmkG"
      },
      "id": "GuHQLEf3JmkG"
    },
    {
      "cell_type": "markdown",
      "source": [
        "## Aplicação para RAG com contextos maiores\n",
        "\n",
        "Nosso próximo exemplo vai consistir de acessar uma página na internet e usar RAG para fazer a LLM \"conversar\" com ela, usando o seu conteúdo como contexto e assim responder nossas dúvidas. Ou seja, basicamente estaremos fazendo um Webscraping e utilizando o conteúdo lido como contexto\n",
        "\n",
        "A informação que queremos saber seria impossível com esse modelo que estamos usando nesse exemplo (llama 3.0) pois os dados de treinamento mais recentes são de 2023, portanto, não teria como saber nada do que aconteceu em 2024. Isso significa que o modelo vai retornar algo como \"não aconteceu ainda\" ou \"não tenho como saber esse tipo de informação\". Em alguns casos, dependendo do prompt, e ele pode tentar responder algo plausível mas levemente alucinado - portanto ainda não seria totalmente coerente com nossa dúvida\n",
        "\n",
        "Mesmo que fosse uma informação anterior aos dados de treinamento, ainda assim o RAG poderia ser usado, pelas razões que comentamos, principalmente por garantir resultados mais precisos"
      ],
      "metadata": {
        "id": "m6KnbW03Jrb_"
      },
      "id": "m6KnbW03Jrb_"
    },
    {
      "cell_type": "markdown",
      "source": [
        "## Etapas de Indexação"
      ],
      "metadata": {
        "id": "A1W0-fwaJylG"
      },
      "id": "A1W0-fwaJylG"
    },
    {
      "cell_type": "markdown",
      "source": [
        "### 1 - Carregar o conteúdo\n",
        "\n",
        "Primeiramente, precisamos carregar o conteúdo desejado.\n",
        "Como nesse exemplo queremos acessar uma página web (que contém as informações de nossa dúvida)\n",
        "\n",
        "Para isso:\n",
        "\n",
        "* Usamos o DocumentLoaders, que são objetos que carregam dados de uma fonte e retornam uma lista de `Documents`. Nesse contexto, um Document é um objeto com `page_content` (retornado em string) e `metadata` (retornado em dicionário).\n",
        "\n",
        "O LangChain possui suporte a centenas de formas de carregadores de documentos, para os mais diversos meios e formatos ou extensões de arquivos (PDF, CSV, etc.)\n",
        "\n",
        "> Confira aqui: https://python.langchain.com/v0.2/docs/integrations/document_loaders/\n",
        "\n",
        "* Como queremos carregar os dados de uma página web nós importamos o WebBaseLoader, que usa urllib para carregar HTML de URLs e a biblioteca BeautifulSoup para converter em texto."
      ],
      "metadata": {
        "id": "rOaWd_MOJ1bx"
      },
      "id": "rOaWd_MOJ1bx"
    },
    {
      "cell_type": "code",
      "source": [
        "import bs4\n",
        "from langchain_community.document_loaders import WebBaseLoader\n",
        "from langchain_huggingface import HuggingFaceEmbeddings\n",
        "from langchain_chroma import Chroma"
      ],
      "metadata": {
        "colab": {
          "base_uri": "https://localhost:8080/"
        },
        "id": "kOuHVZVrKCNM",
        "outputId": "1d699b07-0996-4ba5-e44d-0f69cd5df9dd"
      },
      "id": "kOuHVZVrKCNM",
      "execution_count": 20,
      "outputs": [
        {
          "output_type": "stream",
          "name": "stderr",
          "text": [
            "WARNING:langchain_community.utils.user_agent:USER_AGENT environment variable not set, consider setting it to identify your requests.\n"
          ]
        }
      ]
    },
    {
      "cell_type": "markdown",
      "source": [
        "* Você pode customizar a conversão HTML para texto passando parâmetros para o parser do BeautifulSoup via bs_kwargs.\n",
        "\n",
        "  * Poderiamos especificar tags HTML com classes específicas, para puxar apenas o conteúdo que está dentro dela - nesse caso, poderia ser o bloco HTML que contém o conteúdo do artigo, que é onde estão as informações relevantes - e então todas as outras partes da página são removidas (que contém informações não relevantes, como cabeçalho do site, rodapé, etc.).\n",
        "  \n",
        "  * Para descobrir a classe: selecione a opção \"Inspecionar elemento\" que aparece ao clicar com o botão direito na página. ou \"Ferramentas de desenvolvedor > Inspecionar\" (Ctrl + Shift + I)\n",
        "\n",
        "Neste caso, não usaremos pois é uma página que não tem tanto conteúdo fora do container principal do site, portanto não acaba sendo um problema.\n",
        "\n",
        "Mas você pode filtrar com base nas classes para que pegue somente o texto dentro do bloco principal de conteúdo da página"
      ],
      "metadata": {
        "id": "rJQCHbPfKHrU"
      },
      "id": "rJQCHbPfKHrU"
    },
    {
      "cell_type": "code",
      "source": [
        "loader = WebBaseLoader(web_paths = (\"https://www.bbc.com/portuguese/articles/cd19vexw0y1o\",),)\n",
        "docs = loader.load()"
      ],
      "metadata": {
        "id": "VxkQ3VJdKLKN"
      },
      "id": "VxkQ3VJdKLKN",
      "execution_count": 21,
      "outputs": []
    },
    {
      "cell_type": "code",
      "source": [
        "len(docs[0].page_content)"
      ],
      "metadata": {
        "colab": {
          "base_uri": "https://localhost:8080/"
        },
        "id": "ei5ayQRkKPPC",
        "outputId": "ad493c9e-835f-4add-aee1-de956f8ac4c0"
      },
      "id": "ei5ayQRkKPPC",
      "execution_count": 22,
      "outputs": [
        {
          "output_type": "execute_result",
          "data": {
            "text/plain": [
              "11941"
            ]
          },
          "metadata": {},
          "execution_count": 22
        }
      ]
    },
    {
      "cell_type": "markdown",
      "source": [
        "Acima usamos o len() para exibir comprimento (em caracteres) do conteúdo da primeira página carregada\n",
        "\n",
        "Podemos dar print no docs, o que mostrará o conteúdo completo.\n",
        "\n",
        "Usamos isso para verificar a quantidade de conteúdo carregado e visualizar uma amostra inicial do texto carregado. Isso é útil para garantir que o carregamento do conteúdo e a filtragem dos elementos HTML relevantes foram realizados corretamente"
      ],
      "metadata": {
        "id": "iaqVmrDLKR63"
      },
      "id": "iaqVmrDLKR63"
    },
    {
      "cell_type": "code",
      "source": [
        "docs"
      ],
      "metadata": {
        "colab": {
          "base_uri": "https://localhost:8080/"
        },
        "id": "oJYkYyACKVZM",
        "outputId": "6344a2d2-9f7b-4b32-9fa8-b492c382dc4f"
      },
      "id": "oJYkYyACKVZM",
      "execution_count": 23,
      "outputs": [
        {
          "output_type": "execute_result",
          "data": {
            "text/plain": [
              "[Document(metadata={'source': 'https://www.bbc.com/portuguese/articles/cd19vexw0y1o', 'title': 'Oscar 2024: confira todos os ganhadores dos prêmios da Academia de Hollywood  - BBC News Brasil', 'description': \"'Oppenheimer' foi o grande vencedor da noite com sete estatuetas, incluindo o prêmio de melhor filme, melhor diretor e melhor ator.\", 'language': 'pt-br'}, page_content=\"Oscar 2024: confira todos os ganhadores dos prêmios da Academia de Hollywood  - BBC News BrasilBBC News, BrasilVá para o conteúdoSeçõesNotíciasBrasilInternacionalEconomiaSaúdeCiênciaTecnologiaVídeosBBC LêNotíciasBrasilInternacionalEconomiaSaúdeCiênciaTecnologiaVídeosBBC LêOscar 2024: confira todos os ganhadores dos prêmios da Academia de HollywoodCrédito, Getty ImagesLegenda da foto, Robert Downey Jr., Da'Vine Hoy Randolph, Emma Stone e Cillian Murphy com suas respectivas estatuetas do OscarArticle informationAuthor, Leire VentasRole,  Correspondente da BBC News Mundo em Los AngelesTwitter, @leire_ventas11 março 2024Oppenheimer foi consagrado o grande vencedor da 96ª edição do Oscar no domingo (10/3) .O filme sobre o “pai” da bomba atômica ganhou sete estatuetas, incluindo na categoria de melhor filme, melhor diretor para Christopher Nolan, melhor ator para Cillian Murphy e melhor ator coadjuvante para Robert Downey Jr.Em uma cerimônia com poucas surpresas, na qual a maior parte das apostas da crítica e do público se concretizaram, Pobres Criaturas também conquistou vários prêmios.Uma das quatro estatuetas que o filme do grego Yorgos Lanthimos arrebatou foi graças a Emma Stone, que ganhou o prêmio de melhor atriz por interpretar a protagonista Bella Baxter.O Oscar de Da'Vine Joy Randolph como melhor atriz coadjuvante foi o único de Os Rejeitados; e o de Billie Eislish, que recebeu o prêmio de melhor canção original por What Was I Made For?, foi o único Oscar do grande sucesso de bilheteria do ano, Barbie.Pule Matérias recomendadas e continue lendoMatérias recomendadasDe Vani a Eunice Paiva: 5 papéis que mostram talento de Fernanda TorresDe 'Ainda Estou Aqui' a 'Wicked', por que Oscar 2025 é o mais politizado de todos os temposFernanda Torres indicada ao Oscar: veja os filmes e artistas mais cotados para o prêmioFernanda Torres indicada ao Oscar: confira os filmes brasileiros premiados internacionalmenteFim do Matérias recomendadasAssassinos da Lua das Flores voltou para casa sem nenhuma estatueta, apesar de ter recebido 10 indicações.Confira abaixo a lista completa dos vencedores.Os ganhadoresPule Novo podcast investigativo: A Raposa e continue lendoNovo podcast investigativo: A RaposaUma tonelada de cocaína, três brasileiros inocentes e a busca por um suspeito inglêsEpisódiosFim do Novo podcast investigativo: A RaposaMelhor filme: OppenheimerMelhor diretor: Christopher Nolan – OppenheimerMelhor atriz: Emma Stone – Pobres CriaturasMelhor ator: Cillian Murphy - OppenheimerMelhor atriz coadjuvante: Da’Vine Joy Randolph - Os RejeitadosMelhor ator coadjuvante: Robert Downey Jr. - OppenheimerMelhor roteiro original: Anatomia de Uma Queda— Justin Triet, Arthur HarariMelhor roteiro adaptado: American Fiction - Cord JeffersonMelhor edição: OppenheimerMelhor filme estrangeiro: Zona de InteresseMelhor animação: O Menino e a GarçaMelhor curta-metragem de animação: War Is Over! Inspired by the Music of John & Yoko - Dace Mullins, Brad BookerMelhor maquiagem e penteados: Pobres CriaturasMelhor design de produção: Pobres CriaturasMelhor design de figurino: Pobres CriaturasMelhores efeitos visuais: Godzilla Minus OneMelhor documentário: 20 Dias em MariupolMelhor documentário de curta-metragem: The Last Repair ShopMelhor fotografia: OppenheimerMelhor curta-metragem: The Wonderful Story of Henry Sugar - Wes Anderson, Steven RalesMelhor som: Zona de InteresseMelhor trilha sonora original: OppenheimerMelhor canção original: What Was I Made For? - BarbieCrédito, GETTY IMAGESLegenda da foto, Emma Stone, estrela de Pobres Criaturas, ganhou seu segundo Oscar de melhor atriz — em 2017, ela foi premiada por sua atuação em La La Land - Cantando estaçõesDiscursosEmma Stone estava em choque quando subiu ao palco para receber o prêmio de melhor atriz após uma disputa acirrada com a estrela de Assassinos da Lua das Flores, Lily Gladstone.“Juntos fizemos algo maior do que a soma de suas partes”, disse Stone sobre o filme Pobres Criaturas, no qual interpreta Bella Baxter.“Me sinto profundamente honrada em compartilhar isso com cada uma das pessoas que colocaram seu amor e brilhantismo neste filme”, acrescentou, depois de reconhecer as indicações das demais indicadas, enquanto segurava o vestido nas costas.“Não olhem, acho que rasgou enquanto Ryan Gosling cantava I’m Just Ken”, disse ela, fazendo referência à aplaudida performance do ator durante a cerimônia.Crédito, Getty ImagesLegenda da foto, Cillian Murphy com a estatueta do Oscar por interpretar o 'pai' da bomba atômica em OppenheimerEm um gesto semelhante ao de Stone, Cillian Murphy reconheceu o trabalho de todos os indicados na categoria de melhor ator ao receber o Oscar por interpretar J. Robert Oppenheimer, o cientista-chefe do Projeto Manhattan.“Vivemos em um mundo criado por Oppenheimer. Quero dedicar (o prêmio) àqueles que defendem a paz em todos os lugares”, declarou o ator, destacando ainda que se sente “orgulhosamente irlandês”.Crédito, Getty ImagesLegenda da foto, Christopher Nolan ganhou o prêmio de melhor diretor por Oppenheimer, o grande vencedor da noiteCrédito, EPALegenda da foto, Da'Vine Joy Randolph recebeu o Oscar de melhor atriz coadjuvante por sua atuação em Os RejeitadosClaramente emocionada, Da'Vine Joy Randolph foi a primeira da noite a subir ao palco para receber uma estatueta, exclamando: “Deus é tão bom”, enquanto tentava segurar as lágrimas.Ela agradeceu à mãe por inspirá-la a tentar atuar, em vez de cantar.“Durante anos, pensei que queria ser diferente, mas percebi que precisava ser eu mesma”, disse.Lembrou ainda que era a única negra da sua turma — e agradeceu a todas as mulheres que a ajudaram e inspiraram ao longo de sua carreira.Crédito, Getty ImagesLegenda da foto, Robert Downey Jr. foi contemplado com o Oscar de melhor ator coadjuvante por interpretar Lewis Strauss em OppenheimerRobert Downey Jr., que brilhou durante toda a temporada de premiações por interpretar o antagonista de Oppenheimer, Lewis Strauss, também ganhou o Oscar de melhor ator coadjuvante.Em primeiro lugar, ele agradeceu à sua “infância terrível” e à Academia, “nesta ordem”, e destacou que o trabalho do seu setor é poderoso e significativo.Crédito, GETTY IMAGESLegenda da foto, Jonathan Glazer fez referência à guerra entre Israel e o Hamas e à situação em Gaza, mencionando 'todas as vítimas desta desumanização'Zona de Interesse conquistou a estatueta de melhor filme estrangeiro, desbancando A Sociedade da Neve, e também ganhou o prêmio de melhor som.Seu diretor, Jonathan Glazer, recebeu a estatueta sob fortes aplausos.“Nosso filme mostra que a desumanização nos leva ao pior, moldou nosso passado e nosso presente”, disse ele sobre o filme, que aborda o Holocausto sob um novo ponto de vista.“Como podemos resistir a esta desumanização? Sejam as vítimas do 7 de outubro em Israel ou dos ataques que estão sendo realizados em Gaza”, acrescentou.Ele discursou enquanto centenas de manifestantes, reunidos nos arredores do Dolby Theatre, em Los Angeles, desde o início da cerimônia, denunciavam as operações de Israel na Faixa de Gaza e exigiam um cessar-fogo definitivo.Crédito, GETTY IMAGESLegenda da foto, Centenas de pessoas protestaram nas imediações do teatro em que era realizada a cerimônia para pedir um cessar-fogo definitivo em GazaEste não foi, no entanto, o único momento político do evento.“Serei certamente o primeiro neste palco a dizer que preferia não ter feito este filme”, declarou Mstyslav Cherno ao receber o Oscar de melhor documentário por 20 Dias em Mariupol.Ganhador do Pulitzer, Cherno foi um dos poucos jornalistas que cobriu de perto o cerco das tropas russas à cidade portuária ucraniana, e narrou isso em seu documentário.“Gostaria de poder trocar o Oscar por a Rússia nunca ter ocupado as nossas cidades”, afirmou.Crédito, GETTY IMAGESLegenda da foto, Mstyslav Cherno documentou de dentro o cerco à cidade ucraniana de MariupolOutro momento emocionante foi quando Sean Lennon, filho de John Lennon e Yoko Ono, aproveitou para parabenizar a mãe pelo Dia das Mães (celebrado três semanas antes da Páscoa no Reino Unido) ao receber o Oscar de melhor documentário de curta-metragem por War Is Over! Inspired by the Music of John & Yoko.Quem não subiu (novamente) ao palco para receber o prêmio foi Hayao Miyazaki. Aos 83 anos, a lenda viva do Studio Ghibli voltou a ganhar o Oscar de melhor filme de animação, que se soma agora à estatueta que ele conquistou em 2003 por A Viagem de Chihiro.Crédito, Getty ImagesLegenda da foto, Ao receber o Oscar de melhor curta-metragem de animação, Sean Lennon parabenizou Yoko Ono pelo Dia das MãesEssa não foi a noite dos latino-americanos e espanhóis.Ficaram sem Oscar: A Sociedade da Neve, longa dirigido pelo catalão Juan Antonio Bayona e estrelado, entre outros, pelo uruguaio Enzo Vogrincic e pelo argentino Matías Recalt; o filme de animação Meu Amigo Robô, do espanhol Pablo Berger, e o documentário A Memória Infinita, da diretora chilena Maite Alberdi.E até Martin Scorsese, cujo filme Assassinos da Lua das Flores havia recebido 10 indicações e era cotado como um dos favoritos, saiu de mãos abanando.Tópicos relacionadosCelebridade EntretenimentoCulturaCinemaOscarsHistórias relacionadas'Oppenheimer': Joseph Rotblat, o único cientista que abandonou o Projeto Manhattan por razões morais (e ganhou o Prêmio Nobel da Paz)10 março 2024'A Sociedade da Neve': a amizade entre protagonista e o homem que decidiu não embarcar no avião5 fevereiro 2024As irmãs que se juntaram ao Estado Islâmico e inspiraram documentário que concorre ao Oscar9 março 2024Principais notíciasA guerra política e fashion dos bonés, que vai do Oscar a Brasília e envolve até a ChinaHá 1 hora'Apenas o porrete': os resultados do 'método Trump' de negociar6 fevereiro 2025Como as grandes guerras começam — e os riscos que corremos em 20256 fevereiro 2025Leia maisQueda da popularidade de Lula no Nordeste acende alerta vermelho no governo5 fevereiro 2025Texugo admirando arte de Banksy e outras imagens vencedoras de prêmio internacional5 fevereiro 2025As mulheres que enfrentam a solidão com 'match' de amizades5 fevereiro 2025O dia em que Bob Marley jogou futebol com Chico Buarque e Moraes Moreira no Rio de Janeiro6 fevereiro 2025O dia em que tentaram matar Bob Marley com um tiro no coração6 fevereiro 2025A fúria no Oriente Médio com proposta de Trump sobre Gaza: 'Viveremos e morreremos em nossa terra'5 fevereiro 2025Análise: 'Plano de Trump para Gaza não vai se concretizar, mas terá consequências'5 fevereiro 2025'Deportados nordestinos', gays e prostitutas: a fotógrafa que retratou as desigualdades brasileiras5 fevereiro 20255 filmes para assistir que estreiam em fevereiro5 fevereiro 2025Mais lidas1Como críticas de Karla Gascón à equipe de Fernanda Torres afetam chances da estrela de 'Emilia Pérez' no Oscar2A praia selvagem brasileira que virou 'cemitério' de lixo asiático3Medo de ir à igreja e 'terror psicológico' no WhatsApp: a mudança de rotina dos imigrantes brasileiros nos EUA 4Os 4 erros mais cometidos ao estudar para concursos públicos — e como contorná-los5É possível mudar sua personalidade? Saiba como isso pode acontecer, segundo a ciênciaÚltima atualização: 11 outubro 20246Lei do Esforço Inverso: por que às vezes fracassamos quando nos esforçamos demaisÚltima atualização: 2 dezembro 20237Whey protein: como o suplemento ajuda a ganhar músculos e para quem é indicado8Tadalafila: os riscos do remédio para ereção que virou febre no pré-treino das academias9'Sexo no estúdio' e 'ameaças de morte': as revelações sobre o império musical do rapper Diddy10Como as grandes guerras começam — e os riscos que corremos em 2025BBC News, BrasilPor que você pode confiar na BBCTermos de UsoSobre a BBCPolítica de privacidadeCookiesContate a BBCBBC News em outras línguasDo not share or sell my info© 2025 BBC. A BBC não se responsabiliza pelo conteúdo de sites externos. Leia sobre nossa política em relação a links externos.\")]"
            ]
          },
          "metadata": {},
          "execution_count": 23
        }
      ]
    },
    {
      "cell_type": "markdown",
      "source": [
        "A linha de baixo imprime os primeiros 300 caracteres do conteúdo da primeira página carregada. A sintaxe [:300] é usada para obter uma substring dos primeiros 300 caracteres da string page_content. Pode ser uma maneira rápida de verificação"
      ],
      "metadata": {
        "id": "IKNWSHH2KbFm"
      },
      "id": "IKNWSHH2KbFm"
    },
    {
      "cell_type": "code",
      "source": [
        "print(docs[0].page_content[:300])"
      ],
      "metadata": {
        "colab": {
          "base_uri": "https://localhost:8080/"
        },
        "id": "IZwBcJX1KdxD",
        "outputId": "d07c0381-b8bd-492c-e299-3f09058fa924"
      },
      "id": "IZwBcJX1KdxD",
      "execution_count": 24,
      "outputs": [
        {
          "output_type": "stream",
          "name": "stdout",
          "text": [
            "Oscar 2024: confira todos os ganhadores dos prêmios da Academia de Hollywood  - BBC News BrasilBBC News, BrasilVá para o conteúdoSeçõesNotíciasBrasilInternacionalEconomiaSaúdeCiênciaTecnologiaVídeosBBC LêNotíciasBrasilInternacionalEconomiaSaúdeCiênciaTecnologiaVídeosBBC LêOscar 2024: confira todos o\n"
          ]
        }
      ]
    },
    {
      "cell_type": "markdown",
      "source": [
        "### 2 - Divisão em pedaços de texto / Split\n",
        "\n",
        "Nosso documento carregado tem mais de 10 mil caracteres, o que seria muito grande para passar como contexto usando o método que fizemos até então.\n",
        "\n",
        "Por exemplo pro GPT-4, o tamanho da janela de contexto do é de cerca de 8.000 tokens, o que equivale aproximadamente a 32.000 caracteres. Então na verdade para esse exemplo até poderia caber a postagem completa em sua janela de contexto, porém as LLMs geralmente terão dificuldade em localizar informações dentro de entradas tão longas.\n",
        "\n",
        "No entanto, verá que é bem fácil um documento passar esse limite de tokens, o que fará com que o modelo não consiga processar tudo, já que é uma sequência de texto muito longa para caber na janela de contexto da grande maioria dos modelos.\n",
        "\n",
        "Portanto, é uma boa prática fazer a divisão em documentos tão longos, assim já temos o código pronto e preparado para conseguir processar documentos muito maiores.\n",
        "\n",
        "> Processo de divisão\n",
        "\n",
        "* Dividiremos o `Document` em pedaços para incorporação e armazenamento vetorial. Isso deve nos ajudar a recuperar apenas os bits mais relevantes da postagem do blog em tempo de execução.\n",
        "\n",
        "* Usamos o RecursiveCharacterTextSplitter, que dividirá recursivamente o documento usando separadores comuns, como novas linhas, até que cada pedaço tenha o tamanho apropriado. Este é o divisor de texto recomendado para casos de uso de texto gerais ou genérico.\n",
        "\n",
        "* Neste caso, dividiremos em pedaços (chunks) de 1000 caracteres. Para isso usaremos o parâmetro `chunk_size`. Um tamanho de chunk menor resultará em mais pedaços, enquanto um tamanho de chunk maior resultará em menos pedaços.\n",
        "\n",
        "* Com a divisão, é necessário fazer o que chamamos de sobreposição (overlap). Essa sobreposição ajuda a evitar que uma declaração seja separada do seu contexto importante. Aqui nesse exemplo vamos definir 200 caracteres de sobreposição entre os pedaços - usamos o parâmetro `chunk_overlap`.  Uma sobreposição de chunks maiores resultará em mais pedaços compartilhando caracteres comuns, enquanto uma sobreposição de chunks menores resultará em menos pedaços compartilhando caracteres comuns.\n",
        "\n",
        " * Escolhendo o valor de `chunk_size` e o `chunk_overlap` - geralmente recomenda-se experimentar diferentes valores, pois depende do problema específico que você está tentando resolver. No entanto, em geral, é uma boa ideia usar um tamanho de chunk/bloco pequeno para tarefas que exigem uma visão detalhada do texto (fine-grained view) e um tamanho de bloco maior para tarefas que exigem uma visão mais \"holística\" do texto (ou seja, uma visão mais geral, do todo) .\n",
        "\n",
        "\n",
        "* E definimos `add_start_index=True` para que o índice de caracteres no qual cada Documento dividido começa dentro do Documento inicial seja preservado como atributo de metadados \"start_index\".\n",
        "\n",
        "> Para outros tipos de transformações possíveis de serem feitos com a biblioteca LangChain, consulte a documentação https://python.langchain.com/v0.2/docs/integrations/document_transformers/"
      ],
      "metadata": {
        "id": "18TA0k6AKg2j"
      },
      "id": "18TA0k6AKg2j"
    },
    {
      "cell_type": "code",
      "source": [
        "from langchain_text_splitters import RecursiveCharacterTextSplitter\n",
        "\n",
        "text_splitter = RecursiveCharacterTextSplitter(chunk_size = 1000, chunk_overlap = 200, add_start_index = True)\n",
        "splits = text_splitter.split_documents(docs)"
      ],
      "metadata": {
        "id": "SpR_r_iUKndO"
      },
      "id": "SpR_r_iUKndO",
      "execution_count": 25,
      "outputs": []
    },
    {
      "cell_type": "code",
      "source": [
        "len(splits)"
      ],
      "metadata": {
        "colab": {
          "base_uri": "https://localhost:8080/"
        },
        "id": "WM4YwV-NKpVS",
        "outputId": "da35ca56-76ef-4d27-fcfe-19d7eac27a55"
      },
      "id": "WM4YwV-NKpVS",
      "execution_count": 26,
      "outputs": [
        {
          "output_type": "execute_result",
          "data": {
            "text/plain": [
              "15"
            ]
          },
          "metadata": {},
          "execution_count": 26
        }
      ]
    },
    {
      "cell_type": "code",
      "source": [
        "splits[1]"
      ],
      "metadata": {
        "colab": {
          "base_uri": "https://localhost:8080/"
        },
        "id": "4EGeDO9kKsRZ",
        "outputId": "1537d24c-32b4-4077-e553-db5bfee88305"
      },
      "id": "4EGeDO9kKsRZ",
      "execution_count": 27,
      "outputs": [
        {
          "output_type": "execute_result",
          "data": {
            "text/plain": [
              "Document(metadata={'source': 'https://www.bbc.com/portuguese/articles/cd19vexw0y1o', 'title': 'Oscar 2024: confira todos os ganhadores dos prêmios da Academia de Hollywood  - BBC News Brasil', 'description': \"'Oppenheimer' foi o grande vencedor da noite com sete estatuetas, incluindo o prêmio de melhor filme, melhor diretor e melhor ator.\", 'language': 'pt-br', 'start_index': 800}, page_content=\"melhor filme, melhor diretor para Christopher Nolan, melhor ator para Cillian Murphy e melhor ator coadjuvante para Robert Downey Jr.Em uma cerimônia com poucas surpresas, na qual a maior parte das apostas da crítica e do público se concretizaram, Pobres Criaturas também conquistou vários prêmios.Uma das quatro estatuetas que o filme do grego Yorgos Lanthimos arrebatou foi graças a Emma Stone, que ganhou o prêmio de melhor atriz por interpretar a protagonista Bella Baxter.O Oscar de Da'Vine Joy Randolph como melhor atriz coadjuvante foi o único de Os Rejeitados; e o de Billie Eislish, que recebeu o prêmio de melhor canção original por What Was I Made For?, foi o único Oscar do grande sucesso de bilheteria do ano, Barbie.Pule Matérias recomendadas e continue lendoMatérias recomendadasDe Vani a Eunice Paiva: 5 papéis que mostram talento de Fernanda TorresDe 'Ainda Estou Aqui' a 'Wicked', por que Oscar 2025 é o mais politizado de todos os temposFernanda Torres indicada ao Oscar: veja os\")"
            ]
          },
          "metadata": {},
          "execution_count": 27
        }
      ]
    },
    {
      "cell_type": "markdown",
      "source": [
        "Podemos trabalhar com metadata usando RAG por exemplo para rastrear onde a LLM obteve a resposta (útil caso estejamos usando várias fontes/arquivos diferentes para RAG)"
      ],
      "metadata": {
        "id": "vHtcRfLiKuyC"
      },
      "id": "vHtcRfLiKuyC"
    },
    {
      "cell_type": "code",
      "source": [
        "splits[1].metadata"
      ],
      "metadata": {
        "colab": {
          "base_uri": "https://localhost:8080/"
        },
        "id": "kdSaM6fGKx9k",
        "outputId": "da51aaac-82b4-455f-e129-6e17001c940d"
      },
      "id": "kdSaM6fGKx9k",
      "execution_count": 28,
      "outputs": [
        {
          "output_type": "execute_result",
          "data": {
            "text/plain": [
              "{'source': 'https://www.bbc.com/portuguese/articles/cd19vexw0y1o',\n",
              " 'title': 'Oscar 2024: confira todos os ganhadores dos prêmios da Academia de Hollywood  - BBC News Brasil',\n",
              " 'description': \"'Oppenheimer' foi o grande vencedor da noite com sete estatuetas, incluindo o prêmio de melhor filme, melhor diretor e melhor ator.\",\n",
              " 'language': 'pt-br',\n",
              " 'start_index': 800}"
            ]
          },
          "metadata": {},
          "execution_count": 28
        }
      ]
    },
    {
      "cell_type": "markdown",
      "source": [
        "Mais sobre os text splitters https://python.langchain.com/v0.2/docs/how_to/#text-splitters"
      ],
      "metadata": {
        "id": "nAB927tvK0gl"
      },
      "id": "nAB927tvK0gl"
    },
    {
      "cell_type": "markdown",
      "source": [
        "### 3 - Armazenamento\n",
        "\n",
        "Agora precisamos indexar nossos pedaços de texto para que possamos pesquisá-los. A maneira mais comum de fazer isso é incorporar o conteúdo de cada divisão de document e inserir esses embeddings em um banco de dados de vetores (ou armazenamento de vetores).\n",
        "\n",
        "Quando queremos pesquisar em nossas divisões, pegamos uma consulta de pesquisa de texto, a incorporamos e realizamos algum tipo de pesquisa de \"similaridade\" para identificar as divisões armazenadas com os embeddings mais semelhantes ao nosso embedding de consulta.\n",
        "\n",
        "A medida de similaridade mais simples é a similaridade de cosseno — medimos o cosseno do ângulo entre cada par de embeddings (que são vetores de alta dimensão)."
      ],
      "metadata": {
        "id": "zUfHI2kaK2DO"
      },
      "id": "zUfHI2kaK2DO"
    },
    {
      "cell_type": "markdown",
      "source": [
        "#### Embeddings\n",
        "\n",
        "Embedding é uma representação numérica de um texto. Olhando para eles, não são nada além de números, mas por trás dos panos, eles possuem uma relação entre si. Isso significa que palavras ou frases com significados semelhantes terão embeddings próximos uns dos outros em um espaço vetorial. Através dos embeddings conseguiremos procurar por itens similares (nesse caso, palavras)\n",
        "\n",
        "> [ Mais explicações nos slides com título \"Embeddings\" ]\n",
        "\n",
        "Podemos incorporar e armazenar todas as nossas divisões de documentos em um único comando usando o armazenamento de vetores Chroma\n",
        "\n",
        "Mas antes, precisamos escolher qual embedding usar.\n",
        "\n",
        "> Modelos de embedding open source\n",
        " * A principal vantagem de uso de modelo é que, assim como a LLM, modelo open source podemos rodar de graça e localmente offline\n",
        "\n",
        " * No Hugging Face podemos encontrar vários:\n",
        "  * https://huggingface.co/models?sort=trending&search=embeddings\n",
        "  * https://huggingface.co/models?pipeline_tag=sentence-similarity&sort=trending\n",
        "\n",
        " * Vamos escolher o \"sentence-transformers/all-mpnet-base-v2\", que costuma ser bom e funcionou bem para nossos resultdos.\n",
        "\n",
        " * Mas você pode testar outros também se desejar.\n",
        "\n",
        "> Modelos de embedding proprietários\n",
        "\n",
        " * Você també pode encontrar modelos de embedding em soluções proprietárias com o OpenAI, que disponibiliza também modelo de embedding como o text-embedding-3-large (mais info, consulte [aqui](https://platform.openai.com/docs/guides/embeddings)). O valor do modelo de embedding é bem mais barato, para consultar veja [openai.com/api/pricing/](https://openai.com/api/pricing/)\n",
        "\n",
        " * Caso opte por essa opção, pode pular essa parte da definição da variável contendo o modelo de embeddings, pule direto para o código que faz o armazenamento como Chroma, onde é definido o OpenAIEmbeddings().\n",
        "\n",
        "> Além do HuggingFaceEmbeddings e do OpenAIEmbeddings, há várias outras classes disponíveis para você implementar outros tipos de modelos de embedding, consulte: https://python.langchain.com/v0.2/docs/integrations/text_embedding/\n",
        "\n"
      ],
      "metadata": {
        "id": "KVQB25kgK463"
      },
      "id": "KVQB25kgK463"
    },
    {
      "cell_type": "code",
      "source": [
        "hf_embeddings = HuggingFaceEmbeddings(model_name = \"sentence-transformers/all-mpnet-base-v2\")"
      ],
      "metadata": {
        "colab": {
          "base_uri": "https://localhost:8080/",
          "height": 369,
          "referenced_widgets": [
            "186ecca99d4a44c88db3847bf0cb13ba",
            "b8369ea0ea3f4d23a0028c6cdae39473",
            "836cbe3078074ea88491f231dc99cd13",
            "67307a2b892d4bd7aa64daddb28f67fc",
            "1bde3f744c9f4821990914ddbbe1fc3f",
            "fedd6f691ea44570b1a70ad3a00b04f6",
            "92db430d30be41a981673bebb7542143",
            "3007c0f5727b4d82a69985e0711fee0a",
            "65d3bec5cbde465e86233abd4f3e98ec",
            "98d230cf447f423c90e0f927d1496032",
            "0508479e7dcc48dd8085bfb72733326b",
            "67af1a7634b4424b95ae4a1032de7f9e",
            "6b28358485e74d83b9c2ddf87c62d4b2",
            "f469dfe9ee4b498187f3c155ecb18c11",
            "76b842e14f7b4a87a10d90ad878acf3e",
            "1da7058f70e1449b8f74abc65838b235",
            "f9842a91222148c5a5442fe46eab2885",
            "f2c818d40e3c4991a6449c9daa8eb1f0",
            "593547a158174a328772e91548e8a3a1",
            "16d6fdf6e4ed47ae957895a78995632e",
            "e3174a4b1f494472b529cc32b503db84",
            "da8c8aba5bce4538825a6a02206d9297",
            "54977882789040829202aae68e597fc5",
            "e9fa1c2d3c3f4bcb9b6f0b5f7fbe63c4",
            "2ca0e7fabb5548a09b88452479653b91",
            "7de0e13eeeb74e549b6c46aa635ffdb1",
            "3436dcba846b4b7b98713cc2e2030a1f",
            "5025f9ab37824ed4b26288cdf2b67e11",
            "227c5e13657e424db6090fe4104ab327",
            "9d7770c13b324ef5bc661022c8789236",
            "2eb14e4755034b289f6afe807e1bb931",
            "1a0f60f908654ee68c7e7a4253fd4d41",
            "e51bf7cc4c77446a96fcf2b5b84d247e",
            "eb0a0dcabb4341b580da35946fa0e92f",
            "6f0038b0c1554b1cba82e31393011f23",
            "61da17c7a30846f5b231c6c349eade2d",
            "5c88416ab7b14500ac0cf6d7e2856b8b",
            "c19e730a361644e59949549e493be138",
            "9a77407dd8784e6c96b5201e3061a781",
            "8151f3ae83b64f489e22a76841406e69",
            "cb580be097dc41b595b14f8ab08f9705",
            "bb6554c02cf544889a5a591a8b5e8f04",
            "c859f3d54dd4426c9e1e10cd868a8c1c",
            "0feebcad44d144359dceac158652d4fc",
            "b0dbcda4079345d784c93e0d8b0ce370",
            "e3fd47c2521d45d8a55b149b47261f72",
            "d95d8d7d3ede4690aaa85941a2578ec3",
            "4d3ede16c5bb4cc3b1114fa28e135160",
            "bd94f767d19e4bd4af9f050da5524480",
            "280661de54a34be9a74dfb13409926e6",
            "87e9162604d343d28de670032d37d59d",
            "e5ec4c5afc154806bbf349befaa5e67b",
            "b84571ad1fcf45219811542ae8d3e435",
            "a5c5359a76a145aea937039e86ca8957",
            "8986bbb789a64de29a7240b36a37388b",
            "06cfb6ccc23544dbad100cef9850e77f",
            "2db9aa7002004ee5aade32607ad97f1f",
            "ec671ed122d14634bfc7d7bca754ccf6",
            "93c0aedd89aa4533a19b27d92f4375b4",
            "ee1b75e4c54444b090401fc797cc14c6",
            "0e939f18391343518182f03410c81a44",
            "e026c12accf94b239b20bfdaeac74dc3",
            "18d0861e3f3e4baa8548b29db7f0ba42",
            "6be5c7bbc10e4d37bdc171d4eab3da9c",
            "1e42cec2389c4cdaaf71336c82d7bb3d",
            "4ee1ebaf62db4b599c48d3c547790714",
            "9c25478bb4c545bd8cd2220cc7ca619b",
            "8c91e8e56c8a4def9e53e95f4ba63f42",
            "a47d9dbc3f8c4528919dbb2388e46131",
            "1b400ef862f9421cb2f01dcc9312b8c7",
            "ebd27a1b169043b79a3eb1eb1b34f1e2",
            "5c46a08cb5514b2ab409580c1ebebb29",
            "1dda46b52a334658b97beeeb3301bb62",
            "dac88fb2109546ad948e31ad0ba340e7",
            "fcbcbbce441848ca80a6b00c1af27054",
            "0f4087cf9c644a8ab50ae6e25e3df8d7",
            "ed98e214e6864e979e1315a1c7f91e88",
            "9a0bec999e844574bc6a3b67e74973a3",
            "dff2ca9c346c4e2c8aa160e929a6d4c5",
            "bac2890748574a7fa28eac57fbccf06d",
            "b92875024224418d90fb4aa73ed6f5e9",
            "cd6cf7450d654dd983f84fd9b51adaa7",
            "1aa5a19fddaf4bcbaf9bf713ef2b283f",
            "43749bb1bb134d2e8d0b13924e0f4ed0",
            "26014dc988a947859a9d95b9f1f4decf",
            "66f4275f29db404b912ab859ebc98c61",
            "896f361babf14e06b3d9a6a89d38e7a6",
            "2ffd3a6601934dc89ed8d010b86a3b62",
            "599557c5fda642cd92f3a46c484dc985",
            "23a2f4133e75447498366d38c72681f9",
            "bd6a7ab664f747d7a35e514752299a5e",
            "34f96fa4dae94fafa1e4903c359f4e5a",
            "3b0b721ed7394cc987ada4b69b8d5a88",
            "1a113de32fa14a4b99c89e8b0214bc7a",
            "1a4afc60f1ae4a8483f823a95594534c",
            "d188cbfc5e51435bac437dc8a67728cd",
            "b2716dc25b2c413b87a63733e7db1e42",
            "d800e79f1c29421989fb2d086f9fb5f9",
            "93311010861b4a6aa0687a1d4c4d12cb",
            "ec915afb0d9d4884b20fbdbfb09cb617",
            "30e49719067844c5a21bf45319b06304",
            "1af47f2089074bab9cfe4727c09b3de9",
            "7c7407aba0da40a6b05986bf4b2c64fa",
            "081492d660e047e5a98b41040d8a07bc",
            "0869465f79dd4404b0229834259cfff9",
            "8cd1153366cd47eda0f85cd317663e9f",
            "79631a2faf6d4dd8af3e28ad40d810fe",
            "e76fa83f183848a8a38ce49ffeb59e5c",
            "1796dec6c65a431d912abd0d974d52be",
            "6fe27610b3684fcbb8bb5d3af34da0c6",
            "1ecbcbb3589c4f2faaf9c41a6b2c01f9",
            "c60d1623ef5448f6b79b891c0506c8b7",
            "3d1a67f4470244f2b02115500ea5b6ad",
            "445e2be7d77141d5808e9979326daf39",
            "ae33e12a62fa4d6db45f92f48a4ac756",
            "ad1092f08a874d1aa4363a3b4008a520",
            "597c6c4f44d3414497ba54941ce9de51",
            "a3fe0ed107e44f1c921cb9a309ab4164",
            "64d666bfca8241c196ef494fd88d4cce",
            "8f0e2de9d0a34257a8329e1f254d0f12",
            "9d128eb4d300440492c8c67f1ec6c037"
          ]
        },
        "id": "m0VCJ-DpK-U-",
        "outputId": "78b5f77d-7efa-42e2-fbe0-f15db576e102"
      },
      "id": "m0VCJ-DpK-U-",
      "execution_count": 29,
      "outputs": [
        {
          "output_type": "display_data",
          "data": {
            "text/plain": [
              "modules.json:   0%|          | 0.00/349 [00:00<?, ?B/s]"
            ],
            "application/vnd.jupyter.widget-view+json": {
              "version_major": 2,
              "version_minor": 0,
              "model_id": "186ecca99d4a44c88db3847bf0cb13ba"
            }
          },
          "metadata": {}
        },
        {
          "output_type": "display_data",
          "data": {
            "text/plain": [
              "config_sentence_transformers.json:   0%|          | 0.00/116 [00:00<?, ?B/s]"
            ],
            "application/vnd.jupyter.widget-view+json": {
              "version_major": 2,
              "version_minor": 0,
              "model_id": "67af1a7634b4424b95ae4a1032de7f9e"
            }
          },
          "metadata": {}
        },
        {
          "output_type": "display_data",
          "data": {
            "text/plain": [
              "README.md:   0%|          | 0.00/10.6k [00:00<?, ?B/s]"
            ],
            "application/vnd.jupyter.widget-view+json": {
              "version_major": 2,
              "version_minor": 0,
              "model_id": "54977882789040829202aae68e597fc5"
            }
          },
          "metadata": {}
        },
        {
          "output_type": "display_data",
          "data": {
            "text/plain": [
              "sentence_bert_config.json:   0%|          | 0.00/53.0 [00:00<?, ?B/s]"
            ],
            "application/vnd.jupyter.widget-view+json": {
              "version_major": 2,
              "version_minor": 0,
              "model_id": "eb0a0dcabb4341b580da35946fa0e92f"
            }
          },
          "metadata": {}
        },
        {
          "output_type": "display_data",
          "data": {
            "text/plain": [
              "config.json:   0%|          | 0.00/571 [00:00<?, ?B/s]"
            ],
            "application/vnd.jupyter.widget-view+json": {
              "version_major": 2,
              "version_minor": 0,
              "model_id": "b0dbcda4079345d784c93e0d8b0ce370"
            }
          },
          "metadata": {}
        },
        {
          "output_type": "display_data",
          "data": {
            "text/plain": [
              "model.safetensors:   0%|          | 0.00/438M [00:00<?, ?B/s]"
            ],
            "application/vnd.jupyter.widget-view+json": {
              "version_major": 2,
              "version_minor": 0,
              "model_id": "06cfb6ccc23544dbad100cef9850e77f"
            }
          },
          "metadata": {}
        },
        {
          "output_type": "display_data",
          "data": {
            "text/plain": [
              "tokenizer_config.json:   0%|          | 0.00/363 [00:00<?, ?B/s]"
            ],
            "application/vnd.jupyter.widget-view+json": {
              "version_major": 2,
              "version_minor": 0,
              "model_id": "9c25478bb4c545bd8cd2220cc7ca619b"
            }
          },
          "metadata": {}
        },
        {
          "output_type": "display_data",
          "data": {
            "text/plain": [
              "vocab.txt:   0%|          | 0.00/232k [00:00<?, ?B/s]"
            ],
            "application/vnd.jupyter.widget-view+json": {
              "version_major": 2,
              "version_minor": 0,
              "model_id": "9a0bec999e844574bc6a3b67e74973a3"
            }
          },
          "metadata": {}
        },
        {
          "output_type": "display_data",
          "data": {
            "text/plain": [
              "tokenizer.json:   0%|          | 0.00/466k [00:00<?, ?B/s]"
            ],
            "application/vnd.jupyter.widget-view+json": {
              "version_major": 2,
              "version_minor": 0,
              "model_id": "599557c5fda642cd92f3a46c484dc985"
            }
          },
          "metadata": {}
        },
        {
          "output_type": "display_data",
          "data": {
            "text/plain": [
              "special_tokens_map.json:   0%|          | 0.00/239 [00:00<?, ?B/s]"
            ],
            "application/vnd.jupyter.widget-view+json": {
              "version_major": 2,
              "version_minor": 0,
              "model_id": "ec915afb0d9d4884b20fbdbfb09cb617"
            }
          },
          "metadata": {}
        },
        {
          "output_type": "display_data",
          "data": {
            "text/plain": [
              "1_Pooling/config.json:   0%|          | 0.00/190 [00:00<?, ?B/s]"
            ],
            "application/vnd.jupyter.widget-view+json": {
              "version_major": 2,
              "version_minor": 0,
              "model_id": "1ecbcbb3589c4f2faaf9c41a6b2c01f9"
            }
          },
          "metadata": {}
        }
      ]
    },
    {
      "cell_type": "code",
      "source": [
        "input_test = \"Um teste apenas\"\n",
        "result = hf_embeddings.embed_query(input_test)"
      ],
      "metadata": {
        "id": "A6Tfxbn7LDsl"
      },
      "id": "A6Tfxbn7LDsl",
      "execution_count": 30,
      "outputs": []
    },
    {
      "cell_type": "code",
      "source": [
        "len(result)"
      ],
      "metadata": {
        "colab": {
          "base_uri": "https://localhost:8080/"
        },
        "id": "lzsE7vR7LGMX",
        "outputId": "05d7b506-c3f0-4fd9-d0f6-b7a1e5837cdb"
      },
      "id": "lzsE7vR7LGMX",
      "execution_count": 31,
      "outputs": [
        {
          "output_type": "execute_result",
          "data": {
            "text/plain": [
              "768"
            ]
          },
          "metadata": {},
          "execution_count": 31
        }
      ]
    },
    {
      "cell_type": "code",
      "source": [
        "print(result)"
      ],
      "metadata": {
        "colab": {
          "base_uri": "https://localhost:8080/"
        },
        "id": "NBF_JbnXLH0w",
        "outputId": "0eca40ab-0b39-4126-cb9b-ba0eb9076162"
      },
      "id": "NBF_JbnXLH0w",
      "execution_count": 32,
      "outputs": [
        {
          "output_type": "stream",
          "name": "stdout",
          "text": [
            "[-0.026895053684711456, -0.011064697988331318, -0.04531998932361603, -0.0013973648892715573, 0.042436011135578156, -0.014201739802956581, 0.023354941979050636, 0.06011558324098587, 0.061521951109170914, 0.006502094678580761, 0.008159150369465351, -0.030567463487386703, 0.002060323255136609, 0.01296155247837305, 0.004251229576766491, 0.0036631699185818434, -0.026755528524518013, 0.029737044125795364, -0.009770004078745842, -0.046504564583301544, -0.028108958154916763, 0.00016858700837474316, -0.024811016395688057, -0.011828277260065079, 0.08182830363512039, 0.0014993291115388274, 0.013264901004731655, -0.06242178753018379, -0.0012287781573832035, 0.02897716872394085, -0.029528986662626266, -0.025696074590086937, 0.003377106273546815, -0.028868991881608963, 1.518518047305406e-06, -0.03882475197315216, -0.019842026755213737, -0.01765800639986992, -0.008112344890832901, -0.02513054944574833, 0.025749174878001213, 0.11367511004209518, -0.006133120507001877, -0.017986472696065903, -0.04541151598095894, -0.027877165004611015, 0.0015603386564180255, -0.09155325591564178, -0.04099877178668976, 0.09265203773975372, 0.004412883892655373, 0.010464498773217201, 0.0007996232598088682, -0.01969101093709469, 0.03650812804698944, -0.03294997662305832, -0.008631055243313313, -0.0701548308134079, 0.04781185835599899, 0.01242687925696373, 0.03929930180311203, -0.033150848001241684, 0.03459770977497101, 0.05724991112947464, -0.08736559748649597, 0.03071819432079792, 0.031383298337459564, 0.01405106671154499, 0.0017950341571122408, -0.005633484106510878, 0.04815462604165077, -0.019206684082746506, -0.011559923179447651, 0.08503212034702301, -0.006487357430160046, 0.002352138515561819, -0.041903410106897354, 0.017692994326353073, -0.018437864258885384, -0.026105333119630814, 0.06485641002655029, 0.025859495624899864, 0.023214777931571007, 0.05545844882726669, 0.026868928223848343, 0.002058749319985509, 0.000931562390178442, -0.02609676495194435, 0.057364918291568756, -0.02261415123939514, -0.07133803516626358, -0.030265329405665398, -0.037073612213134766, 0.005593080539256334, -0.020938171073794365, 0.006007133983075619, 0.02880081534385681, -0.0708334743976593, 0.04129241406917572, -0.015260600484907627, 0.0034544726368039846, -0.044606395065784454, -0.015291173942387104, 0.02772432565689087, -0.05711260065436363, 0.04585936293005943, -0.005197740625590086, 0.0065271081402897835, -0.009516829624772072, 0.0257089976221323, -0.02121337503194809, -0.026100803166627884, -0.059945348650217056, 0.0018884144956246018, -0.02055685967206955, 0.03388509526848793, -0.032541852444410324, -0.03989897668361664, -0.028026051819324493, 0.03304499387741089, -0.07813955098390579, 0.028564518317580223, 0.007828607223927975, -0.021498817950487137, 0.023470856249332428, -0.04386097192764282, -0.025265324860811234, 0.021412551403045654, -0.005159985739737749, -0.006203569006174803, 0.030328521504998207, -0.015578138642013073, -0.03226373717188835, -0.014691643416881561, 0.027362851426005363, 0.0613548681139946, 0.008915924467146397, -0.06337063014507294, 0.09293574839830399, -0.072969451546669, 0.0050009614787995815, -0.02166321687400341, 0.016978997737169266, 0.0393311083316803, 0.05606892704963684, 0.004061495419591665, 0.04266587272286415, -0.009427386336028576, -0.013593750074505806, 0.004144074860960245, 0.10023456811904907, -0.024249080568552017, 0.00688911322504282, -0.006571982987225056, -0.0011964918812736869, 0.059758614748716354, 0.025898439809679985, -0.023822477087378502, -0.010319527238607407, 0.017328690737485886, 0.017304323613643646, 0.017995420843362808, -0.016577553004026413, 0.03262535482645035, 0.054933082312345505, 0.04279313236474991, 0.01080537959933281, 0.07248576730489731, 0.015065872110426426, 0.052979689091444016, -0.0184662826359272, -0.0021783090196549892, 0.013975213281810284, 0.016508769243955612, -0.0328894667327404, -0.02628203295171261, -0.01711881160736084, 0.05347096174955368, 0.03749585896730423, -0.09625163674354553, 0.0537499375641346, -0.09891687333583832, 0.04951917752623558, -0.044780537486076355, -0.005402594804763794, 0.030070586130023003, -0.018221404403448105, 0.00806620717048645, -0.04340556263923645, 0.03534470871090889, 0.031540822237730026, -0.0004620073887053877, -0.06522037088871002, 0.028470050543546677, 0.009117938578128815, -0.00185540656093508, -0.00044075105688534677, -0.04350679740309715, -0.026620855554938316, -0.004173607099801302, -0.002683888655155897, -0.06295045465230942, 0.13889798521995544, -0.002507589990273118, -0.008020876906812191, 0.005475195124745369, 0.04419318214058876, -0.01563056744635105, 0.008162658661603928, -0.04315406084060669, -0.0780256912112236, -0.02225547470152378, -0.008205278776586056, -0.012218842282891273, 0.006667322013527155, -0.008870579302310944, -0.01614365726709366, 0.04857475683093071, -0.06864816695451736, 0.10150329768657684, 0.014913693070411682, 0.002720428863540292, -0.0063642943277955055, 0.03729987516999245, -0.04535914957523346, 0.0015552924014627934, -0.008102726191282272, -0.0040617408230900764, -0.021751221269369125, 0.022363457828760147, 0.003913432825356722, -0.016853943467140198, 0.03583043813705444, -0.010102756321430206, 0.022809011861681938, 0.04941322281956673, 0.004059541970491409, -0.031630389392375946, -0.017502745613455772, -0.04231632873415947, -0.016446862369775772, 0.05341669172048569, -0.03999195620417595, -0.024126341566443443, -0.0008645046036690474, -0.03582377731800079, 0.04642068222165108, 0.03517131507396698, -0.0029336477164179087, -0.02181144617497921, -0.007590743713080883, -0.0033185489010065794, -0.017720676958560944, -0.004196131136268377, 0.060929734259843826, 0.031193872913718224, -0.04978979378938675, 0.02892782725393772, 0.018123481422662735, 0.0055874986574053764, 0.04935720935463905, -0.03837158903479576, 0.013980034738779068, -0.005702233407646418, 0.11206536740064621, -0.030786387622356415, -0.01954057067632675, -0.06197692081332207, -0.005198275204747915, -0.012934770435094833, 0.04317959025502205, 0.05277311056852341, -0.005386768374592066, -0.005968057084828615, -0.020812485367059708, 0.006294059567153454, -0.019052665680646896, 0.03348454460501671, 0.015530138276517391, -0.025307200849056244, 0.0038923807442188263, -0.011546185240149498, -0.02220572717487812, 0.005664369091391563, 0.024062564596533775, -0.0006229706341400743, 0.03223339095711708, -0.022099453955888748, 0.014996856451034546, 0.03907864913344383, -0.047266751527786255, -0.03156279772520065, -0.001101478235796094, 0.02936713397502899, -0.005944694392383099, 0.06348291784524918, -0.028771495446562767, 0.08674213290214539, 0.04289354756474495, 0.016258174553513527, 0.05796824395656586, 0.045200709253549576, 0.00011935827205888927, -0.05662570148706436, 0.033665891736745834, 0.022164030000567436, -0.06480123847723007, -0.04862647131085396, 0.05708761885762215, -0.031306445598602295, 0.008798126131296158, -0.01576833613216877, 0.03160414844751358, 0.05372082069516182, -0.005637482274323702, 0.0025356700643897057, 0.03380732983350754, -0.0781092718243599, -0.040026403963565826, -0.022713804617524147, -0.027494722977280617, 0.047700025141239166, 0.007517876103520393, 0.00420733354985714, -0.03007596731185913, -0.06297485530376434, 0.0298675037920475, -0.03143463283777237, -0.033699844032526016, 0.016761144623160362, 0.0012701336527243257, -0.05749844014644623, 0.02516699954867363, 0.03966623544692993, 0.007802706677466631, -0.023739291355013847, -0.022619320079684258, -0.004247014410793781, 0.022254617884755135, -0.012884608469903469, -0.002912837313488126, -0.017688916996121407, -0.013026570901274681, -0.005166490096598864, 0.001362227601930499, 0.05785772204399109, 0.004168892279267311, 0.051725033670663834, -0.05108501389622688, -0.04914678633213043, -0.02090972475707531, 0.008270793594419956, -0.0013398920418694615, -0.014617253094911575, 0.0003625804092735052, 0.013110173866152763, -0.0072990525513887405, -0.0019826069474220276, 0.0008838083012960851, -0.007931382395327091, -0.032286953181028366, -0.010726937092840672, -0.030969591811299324, -0.036131296306848526, -0.028829680755734444, 0.032394226640462875, -0.0021129141096025705, 0.0019669022876769304, -0.011133600026369095, -0.04089076817035675, 0.02914983592927456, 0.012858839705586433, -0.014429569244384766, 0.04041209816932678, -0.007630564738065004, 0.01890498399734497, 0.018534718081355095, 0.007928495295345783, -0.009208259172737598, -0.007835163734853268, 0.01292962022125721, -0.060546502470970154, 0.02852935902774334, -0.04050907865166664, -0.011371146887540817, -0.03471026197075844, 0.025328636169433594, 0.01980757713317871, -0.012731448747217655, 0.014655875973403454, 0.027469472959637642, -0.04595623165369034, 0.0630895122885704, 0.030518291518092155, 0.005620489362627268, -0.00937032513320446, 0.07778038829565048, 0.0033721786458045244, 0.03219781070947647, 0.04639967158436775, 0.05518962815403938, 0.0694604367017746, -0.06990892440080643, 0.025291183963418007, -0.014019875787198544, -0.04343266040086746, 0.0249183289706707, 0.04559719190001488, 0.014913607388734818, -0.05965794250369072, 0.026316102594137192, -0.03638666123151779, -0.012211638502776623, 0.0009538937592878938, -0.04916293919086456, -0.0048863026313483715, 0.01594819501042366, -0.036215122789144516, 0.0003700878587551415, 0.015516592189669609, 0.04279942065477371, 0.09239183366298676, 0.03407520055770874, -0.028672711923718452, -0.0442204624414444, -0.015852265059947968, -0.053673408925533295, -0.014707996509969234, -0.031728725880384445, 0.023120053112506866, 0.003933253698050976, 0.020892668515443802, 0.03424791246652603, -0.034081365913152695, -0.056498292833566666, -0.02956196665763855, -0.058831095695495605, -0.0012101989705115557, 0.007963180541992188, -0.04625135660171509, -0.025428015738725662, -0.0001385160576319322, -0.008623582310974598, 0.0242458488792181, -0.08036450296640396, -0.07633545249700546, -0.01668662577867508, 0.020801402628421783, -0.006170358043164015, 0.027865586802363396, 0.06136997789144516, 0.050424542278051376, -0.004134825896471739, -0.0045705982483923435, 0.06354054808616638, -0.017646174877882004, 0.002085944404825568, -0.004755123984068632, -0.00017062942788470536, 0.014183664694428444, 0.006581672467291355, 0.01828818768262863, 0.005858233664184809, -0.019091684371232986, -0.049882177263498306, -0.03656888008117676, -0.014485604129731655, -0.04697567597031593, 0.0195555929094553, -0.03956340253353119, -0.051466941833496094, -0.009109021164476871, -0.007895082235336304, 0.008904341608285904, -0.004791710525751114, 0.014999606646597385, -0.043376561254262924, -0.005429161246865988, -0.05800542235374451, 0.0136066609993577, 0.02750343270599842, 0.0029979748651385307, -0.0063028098084032536, -0.0470665767788887, -0.0004844830837100744, 0.006820735987275839, 0.028988581150770187, -0.008416913449764252, 0.043224867433309555, 0.06299037486314774, -0.02307990752160549, 0.014262547716498375, -0.008182890713214874, -0.04585276544094086, -0.0608292892575264, -0.017659448087215424, 0.032998863607645035, 0.014474357478320599, 0.04223334789276123, 0.014864042401313782, 0.014850080013275146, 0.04350018501281738, 0.004389965906739235, 0.020708497613668442, 0.028191376477479935, 0.05633515492081642, -0.022038020193576813, 0.012528261169791222, 0.020243149250745773, -0.027205130085349083, 0.030859969556331635, 0.05097557231783867, 0.05706193298101425, 0.04912218824028969, -0.07532688975334167, -0.038752634078264236, -0.06011521443724632, -0.047788165509700775, -0.041218146681785583, -0.006737362127751112, 0.022876949980854988, -0.005868763662874699, -0.031858984380960464, -0.001739666797220707, 0.011983754113316536, 0.025129979476332664, 0.0010289561469107866, -0.02750932052731514, 0.08624665439128876, 0.010777016170322895, -0.017090246081352234, -0.019142353907227516, 0.04873690754175186, -0.003805912798270583, -0.05204708129167557, 0.036526158452034, 0.06062298268079758, -0.03370005264878273, -0.05457992106676102, -0.03006918542087078, 0.023620707914233208, -0.00040282224654220045, -0.026550622656941414, 0.0003641492803581059, 0.04256284981966019, 0.04173566773533821, 0.013853291049599648, 0.0641976147890091, 0.002216935623437166, 0.01658572070300579, 0.0017610640497878194, 0.09430369734764099, -0.12284845113754272, 0.011991523206233978, -0.08268555998802185, -6.041273953162646e-33, 0.029623985290527344, -0.04171997308731079, 0.03399186581373215, -0.043173648416996, -0.021690096706151962, -0.005367735866457224, -0.015080617740750313, 0.015964554622769356, 0.008724525570869446, 0.014837730675935745, 0.012467598542571068, -0.08036109060049057, 0.011160045862197876, -0.008565978147089481, 0.013953981921076775, 0.03522086888551712, 0.009990070015192032, -0.04325594753026962, -0.042410172522068024, -0.026297926902770996, -0.018999401479959488, -0.023900441825389862, 0.06179909408092499, 0.015349975787103176, 0.036560818552970886, -0.0507681705057621, 0.014108461327850819, 0.006591141223907471, -0.08108485490083694, -0.0007322669262066483, 0.022310469299554825, 0.009007138200104237, 0.04123251512646675, 0.03427496924996376, 0.07497353106737137, 0.0013246563030406833, 0.039471011608839035, -0.03775465860962868, 0.051662299782037735, 0.03569386154413223, -0.05036347731947899, -0.03865088149905205, 0.0005450425669550896, -0.010135207325220108, 0.0053892419673502445, 0.020403489470481873, -0.0009993924759328365, -0.04171357676386833, 0.023081228137016296, -0.045247841626405716, 0.030325785279273987, 0.01059507392346859, 0.02601918764412403, -0.041253361850976944, 0.02241983264684677, 0.09777529537677765, -0.012653055600821972, -0.08025764673948288, 0.03153526782989502, -0.003796136472374201, 0.032681528478860855, -0.01577659323811531, 0.010834425687789917, -0.029962671920657158, -0.017286254093050957, -0.012102194130420685, 0.04526418074965477, -0.029832512140274048, 0.04376807436347008, 0.023305488750338554, -0.00014861096860840917, 0.0009504720219410956, 0.015173177234828472, 0.0022455696016550064, -0.007003620732575655, 0.029672903940081596, 0.004535204730927944, 0.014706582762300968, 0.03527464345097542, 0.03940526023507118, 0.005220023449510336, -0.031784165650606155, -0.02239246293902397, 0.009863285347819328, -0.008316876366734505, -0.046990688890218735, -0.027865998446941376, -0.06348729133605957, -0.05670996755361557, -0.010592471808195114, 0.0034514914732426405, 0.05052628740668297, -0.024081990122795105, -0.03432291001081467, 0.010506933555006981, -0.06821897625923157, -0.08237332850694656, -0.01446250919252634, 0.018882105126976967, 0.007988055236637592, -0.031108321622014046, 0.02713713049888611, 0.017847856506705284, 0.08641738444566727, -0.03292906656861305, -0.03030162863433361, 0.011653658002614975, -0.027213219553232193, -0.014072672463953495, 0.03499464690685272, 0.02563861571252346, 0.04131954908370972, 0.02094157598912716, -0.029840154573321342, 0.010065632872283459, 0.0634731724858284, 0.02500336430966854, -0.027065973728895187, -0.031641773879528046, -0.04833236336708069, -0.05961793288588524, 0.022296763956546783, -0.0037330782506614923, 0.00870359968394041, -0.042247261852025986, -0.034361276775598526, 0.01910862885415554, 0.06573142856359482, -0.06816920638084412, -0.03570789843797684, -0.006035950966179371, -0.02602393738925457, 2.3450331809726777e-07, -0.021343087777495384, 0.0628800317645073, 0.023480772972106934, -0.018586428835988045, 0.030350325629115105, -0.016687771305441856, -0.018327657133340836, 0.04241564869880676, 0.011716802604496479, 0.01138859149068594, 0.016773052513599396, -0.022977743297815323, -0.007362912409007549, 0.00027961714658886194, -0.031322773545980453, 0.031277772039175034, -0.06951127201318741, -0.013779822736978531, -0.02424202300608158, -0.05249482020735741, -0.025316331535577774, 0.010528521612286568, -0.0065851965919137, -0.02347673662006855, -0.049025170505046844, -0.01490033883601427, 0.025055954232811928, 0.022544873878359795, -0.04918356239795685, -0.06017880141735077, 0.0427793487906456, 0.08589533716440201, 0.0031902152113616467, 0.0242992602288723, 0.015067122876644135, -0.021560028195381165, 0.002398459007963538, -0.0007855859585106373, 0.018858419731259346, 0.03064674139022827, 0.04828720539808273, -0.04779693856835365, -0.01701468601822853, 0.0034241441171616316, 0.04564569890499115, -0.006248499266803265, -0.019756225869059563, -0.02017008699476719, 0.05161752924323082, -0.03356385603547096, -0.022708702832460403, 0.0026186613831669092, 0.007378587033599615, 0.030401092022657394, -0.022932281717658043, -0.0004075298202224076, 0.024469031020998955, -0.03299549221992493, -0.0006159942713566124, 0.10305841267108917, -0.002326441230252385, -0.043820858001708984, 0.034792833030223846, 0.08542444556951523, 0.0026990969199687243, -0.05801435187458992, 0.017570791766047478, 1.3583878408689223e-34, -0.03432239964604378, 0.0009078576695173979, -0.0041879648342728615, -0.010864580050110817, 0.00746581656858325, -0.003714600345119834, 0.0018862003926187754, -0.01174075622111559, 0.05101265758275986, 0.0008827742421999574, 0.004050463438034058]\n"
          ]
        }
      ]
    },
    {
      "cell_type": "markdown",
      "source": [
        "#### Armazenando no banco de dados vetorial\n",
        "\n",
        "Nós estamos escolhendo o **Chroma** como nosso banco de dados de vetores por ser bastante usado e versátil.\n",
        "\n",
        "Assim como os outros componentes, o wrapper VectorStore possui diversas outras classes além do Chroma, assim você pode armazenar os vetores usando outro método ou serviço de sua preferência: https://python.langchain.com/v0.2/docs/integrations/vectorstores/\n",
        "\n",
        "* Outras opções: FAISS, Pinecone, Qdrant, etc."
      ],
      "metadata": {
        "id": "IXXGuRx_LMpo"
      },
      "id": "IXXGuRx_LMpo"
    },
    {
      "cell_type": "code",
      "source": [
        "vectorstore = Chroma.from_documents(documents=splits, embedding=hf_embeddings)\n",
        "\n",
        "# caso fossemos usar os embeddings da Open AI, basta mudar o método, passando direto conforme abaixo\n",
        "# vectorstore = Chroma.from_documents(documents=splits, embedding=OpenAIEmbeddings())"
      ],
      "metadata": {
        "id": "ASXRV9ixLTD-"
      },
      "id": "ASXRV9ixLTD-",
      "execution_count": 33,
      "outputs": []
    },
    {
      "cell_type": "markdown",
      "source": [
        "Isso conclui a parte de Indexação de nessa pipeline de RAG.\n",
        "\n",
        "Até este ponto, já temos um repositório de vetores consultável contendo os conteúdos em blocos.\n",
        "\n",
        "Dada uma pergunta feita, devemos ser capazes de retornar os snippets de conteúdo que respondem à pergunta.\n",
        "\n",
        "## Etapas de Recuperação e geração"
      ],
      "metadata": {
        "id": "NBXrTFVSLWjG"
      },
      "id": "NBXrTFVSLWjG"
    },
    {
      "cell_type": "markdown",
      "source": [
        "### 4 - Configurando o recuperador de texto / Retriever\n",
        "\n",
        "Nessa aplicação que estamos montando, queremos que receba uma pergunta do usuário, busque documentos relevantes para essa pergunta, passe os documentos recuperados e a pergunta inicial para um modelo e retorne uma resposta.\n",
        "\n",
        "Primeiro, precisamos definir nossa lógica para buscar nos documentos. O LangChain define uma interface chamada Retriever, que envolve um índice capaz de retornar `Documents` relevantes dado uma consulta em forma de string.\n",
        "\n",
        "O tipo mais comum de Retriever é o [VectorStoreRetriever](https://api.python.langchain.com/en/latest/vectorstores/langchain_core.vectorstores.VectorStoreRetriever.html), que utiliza as capacidades de busca por similaridade de um vector store para facilitar a recuperação.\n",
        "\n",
        "Qualquer VectorStore pode ser facilmente transformado em um Retriever com `VectorStore.as_retriever()`. Quanto aos parâmetros:\n",
        "\n",
        "* search_type - é o tipo de pesquisa que será realizada. Lembrando que o que estamos buscando basicamente é similaridade, dentro do documento, como uma página web ou pdf por exemplo\n",
        "\n",
        "* search_kwargs: \"k\" - Também podemos limitar o número de documentos k retornados pelo recuperador. Aqui você pode testar bastante os valores e verificar os resultados. 6 é um valor considerado meio padrão - e que funcionou bem para nossos testes - mas você pode variar ele para mais ou para menos, testar qual valor fica melhor pro seu caso\n",
        "(aqui numero menor como 3 não deu conta de algumas perguntas, você pode diminuir e testar para comprovar)"
      ],
      "metadata": {
        "id": "B-PUCk59LaRI"
      },
      "id": "B-PUCk59LaRI"
    },
    {
      "cell_type": "code",
      "source": [
        "retriever = vectorstore.as_retriever(search_type = \"similarity\", search_kwargs={\"k\": 6})"
      ],
      "metadata": {
        "id": "8d9IcuRnLcxE"
      },
      "id": "8d9IcuRnLcxE",
      "execution_count": 34,
      "outputs": []
    },
    {
      "cell_type": "markdown",
      "source": [
        "> Explorando mais os retrievers  \n",
        "\n",
        "* Outros métodos de busca - Por padrão, o retriever de armazenamento de vetores usa pesquisa de similaridade. Se o armazenamento de vetores que estiver usando suportar pesquisa de \"relevância marginal máxima\" (baseado no MMR - Maximum marginal relevance retrieval), você pode especificar isso como o tipo de pesquisa, basta trocar \"similarity\" por \"mmr\"\n",
        "\n",
        " * O [MMR](https://www.cs.cmu.edu/~jgc/publication/The_Use_MMR_Diversity_Based_LTMIR_1998.pdf) (Relevância Marginal Máxima) seleciona por relevância e diversidade entre os documentos recuperados para evitar passar em contexto duplicado. Ou seja, é um método usado para evitar redundância ao recuperar itens relevantes para uma consulta. Em vez de simplesmente recuperar os itens mais relevantes (que muitas vezes podem ser muito semelhantes entre si), o MMR garante um equilíbrio entre relevância e diversidade nos itens recuperados.\n",
        "\n",
        "* MultiQueryRetriever - permite gerar variações da pergunta de entrada para melhorar a taxa de acerto de recuperação ([mais info](https://python.langchain.com/v0.2/docs/how_to/MultiQueryRetriever/))\n",
        "\n",
        "* MultiVectorRetriever - já esse gera variantes dos embeddings, também para melhorar a taxa de acerto de recuperação ([mais info](https://python.langchain.com/v0.2/docs/how_to/multi_vector/))"
      ],
      "metadata": {
        "id": "UI1RJeb3Lfx3"
      },
      "id": "UI1RJeb3Lfx3"
    },
    {
      "cell_type": "markdown",
      "source": [
        "### 5 - Geração\n",
        "\n",
        "Vamos juntar tudo em uma chain, que irá: pegar uma pergunta -> recupera documentos relevantes -> construir um prompt -> passar para o modelo -> processar a saída.\n"
      ],
      "metadata": {
        "id": "RsXMFQD8Lj0d"
      },
      "id": "RsXMFQD8Lj0d"
    },
    {
      "cell_type": "code",
      "source": [
        "template_rag"
      ],
      "metadata": {
        "colab": {
          "base_uri": "https://localhost:8080/",
          "height": 70
        },
        "id": "mzOF9ATqLmoX",
        "outputId": "587a20dc-5e12-4067-abdb-3f5bcf896f68"
      },
      "id": "mzOF9ATqLmoX",
      "execution_count": 35,
      "outputs": [
        {
          "output_type": "execute_result",
          "data": {
            "text/plain": [
              "'\\n<|begin_of_text|>\\n<|start_header_id|>system<|end_header_id|>\\nVocê é um assistente virtual prestativo e está respondendo perguntas gerais.\\nUse os seguintes pedaços de contexto recuperado para responder à pergunta.\\nSe você não sabe a resposta, apenas diga que não sabe. Mantenha a resposta concisa.\\n<|eot_id|>\\n<|start_header_id|>user<|end_header_id|>\\nPergunta: {pergunta}\\nContexto: {contexto}\\n<|eot_id|>\\n<|start_header_id|>assistant<|end_header_id|>\\n'"
            ],
            "application/vnd.google.colaboratory.intrinsic+json": {
              "type": "string"
            }
          },
          "metadata": {},
          "execution_count": 35
        }
      ]
    },
    {
      "cell_type": "code",
      "source": [
        "prompt_rag = PromptTemplate(\n",
        "    input_variables=[\"contexto\", \"pergunta\"],\n",
        "    template=template_rag,\n",
        ")\n",
        "prompt_rag"
      ],
      "metadata": {
        "colab": {
          "base_uri": "https://localhost:8080/"
        },
        "id": "SfvP-zkXLsom",
        "outputId": "1052076b-6c8e-4c31-8388-ca2d6b26b974"
      },
      "id": "SfvP-zkXLsom",
      "execution_count": 36,
      "outputs": [
        {
          "output_type": "execute_result",
          "data": {
            "text/plain": [
              "PromptTemplate(input_variables=['contexto', 'pergunta'], input_types={}, partial_variables={}, template='\\n<|begin_of_text|>\\n<|start_header_id|>system<|end_header_id|>\\nVocê é um assistente virtual prestativo e está respondendo perguntas gerais.\\nUse os seguintes pedaços de contexto recuperado para responder à pergunta.\\nSe você não sabe a resposta, apenas diga que não sabe. Mantenha a resposta concisa.\\n<|eot_id|>\\n<|start_header_id|>user<|end_header_id|>\\nPergunta: {pergunta}\\nContexto: {contexto}\\n<|eot_id|>\\n<|start_header_id|>assistant<|end_header_id|>\\n')"
            ]
          },
          "metadata": {},
          "execution_count": 36
        }
      ]
    },
    {
      "cell_type": "markdown",
      "source": [
        "> Formação de documentos\n",
        "\n",
        "A função abaixo recebe uma lista de documentos (docs) e retorna uma única string onde o conteúdo de cada documento é concatenado com duas quebras de linha entre eles. No contexto de processamento de texto para uma pipeline de RAG, essa função formata os documentos recuperados de modo que seu conteúdo possa ser passado de maneira estruturada para um modelo de linguagem, facilitando a geração de respostas baseadas nos dados dos documentos"
      ],
      "metadata": {
        "id": "JDfltcoiLvmt"
      },
      "id": "JDfltcoiLvmt"
    },
    {
      "cell_type": "code",
      "source": [
        "def format_docs(docs):\n",
        "  return \"\\n\\n\".join(doc.page_content for doc in docs)"
      ],
      "metadata": {
        "id": "q3VWZ23yLws2"
      },
      "id": "q3VWZ23yLws2",
      "execution_count": 37,
      "outputs": []
    },
    {
      "cell_type": "markdown",
      "source": [
        "> Definição da chain\n",
        "\n",
        "Podemos deixar a chain desse modo, com quebra de linha, pois dará mais legibilidade (também graças à sintaxe do LCEL, conforme citado) já que agora temos mais elos / componentes em nossa chain\n",
        "\n",
        "Aqui usamos o método RunnablePassthrough, que por si só permite que você passe entradas inalteradas"
      ],
      "metadata": {
        "id": "v59pZjmTL28o"
      },
      "id": "v59pZjmTL28o"
    },
    {
      "cell_type": "code",
      "source": [
        "chain_rag = ({\"contexto\": retriever | format_docs, \"pergunta\": RunnablePassthrough()}\n",
        "             | prompt_rag\n",
        "             | llm\n",
        "             | StrOutputParser())"
      ],
      "metadata": {
        "id": "9o9C-PGqL5Cz"
      },
      "id": "9o9C-PGqL5Cz",
      "execution_count": 38,
      "outputs": []
    },
    {
      "cell_type": "markdown",
      "source": [
        "### Teste sem RAG"
      ],
      "metadata": {
        "id": "AZqYNsO4MCRp"
      },
      "id": "AZqYNsO4MCRp"
    },
    {
      "cell_type": "code",
      "source": [
        "chain.invoke(\"Qual filme ganhou mais oscars na premiação de 2024?\")"
      ],
      "metadata": {
        "colab": {
          "base_uri": "https://localhost:8080/",
          "height": 70
        },
        "id": "WWJ_P6XoL8Zc",
        "outputId": "fbe6e5ba-5ec9-4cbb-f387-be98abb95c45"
      },
      "id": "WWJ_P6XoL8Zc",
      "execution_count": 39,
      "outputs": [
        {
          "output_type": "stream",
          "name": "stderr",
          "text": [
            "Setting `pad_token_id` to `eos_token_id`:128001 for open-end generation.\n"
          ]
        },
        {
          "output_type": "execute_result",
          "data": {
            "text/plain": [
              "'Infelizmente, a premiação dos Oscars de 2024 ainda não ocorreu. A cerimônia anual dos Academy Awards é realizada todos os anos em fevereiro ou março, e o resultado do concurso é divulgado nessa época. Por isso, não há um filme que tenha ganhado mais Oscars na premiação de 2024, pois ela ainda não aconteceu.'"
            ],
            "application/vnd.google.colaboratory.intrinsic+json": {
              "type": "string"
            }
          },
          "metadata": {},
          "execution_count": 39
        }
      ]
    },
    {
      "cell_type": "markdown",
      "source": [
        "### Teste com RAG"
      ],
      "metadata": {
        "id": "F0XWNlpdMHSD"
      },
      "id": "F0XWNlpdMHSD"
    },
    {
      "cell_type": "code",
      "source": [
        "chain_rag.invoke(\"Qual filme ganhou mais oscars na premiação de 2024?\")"
      ],
      "metadata": {
        "colab": {
          "base_uri": "https://localhost:8080/",
          "height": 70
        },
        "id": "pSmZNcbrMK84",
        "outputId": "510d510a-ea28-4fd5-b5fa-0574599a2132"
      },
      "id": "pSmZNcbrMK84",
      "execution_count": 40,
      "outputs": [
        {
          "output_type": "stream",
          "name": "stderr",
          "text": [
            "Setting `pad_token_id` to `eos_token_id`:128001 for open-end generation.\n"
          ]
        },
        {
          "output_type": "execute_result",
          "data": {
            "text/plain": [
              "'O filme \"Oppenheimer\" ganhou sete estatuetas, incluindo o prêmio de melhor filme, melhor diretor para Christopher Nolan, melhor ator para Cillian Murphy e melhor ator coadjuvante para Robert Downey Jr. na premiação do Oscar 2024.'"
            ],
            "application/vnd.google.colaboratory.intrinsic+json": {
              "type": "string"
            }
          },
          "metadata": {},
          "execution_count": 40
        }
      ]
    },
    {
      "cell_type": "code",
      "source": [
        "chain_rag.invoke(\"Quem ganhou o premio de melhor ator?\")"
      ],
      "metadata": {
        "colab": {
          "base_uri": "https://localhost:8080/",
          "height": 53
        },
        "id": "SKNYjWQ0MOKU",
        "outputId": "ae272200-b161-4e69-bfcb-0235c0d5a574"
      },
      "id": "SKNYjWQ0MOKU",
      "execution_count": 41,
      "outputs": [
        {
          "output_type": "stream",
          "name": "stderr",
          "text": [
            "Setting `pad_token_id` to `eos_token_id`:128001 for open-end generation.\n"
          ]
        },
        {
          "output_type": "execute_result",
          "data": {
            "text/plain": [
              "'A pergunta é: Quem ganhou o prêmio de melhor ator?\\n\\nA resposta é: Cillian Murphy, que ganhou o prêmio de melhor ator por seu papel em \"Oppenheimer\".'"
            ],
            "application/vnd.google.colaboratory.intrinsic+json": {
              "type": "string"
            }
          },
          "metadata": {},
          "execution_count": 41
        }
      ]
    },
    {
      "cell_type": "markdown",
      "source": [
        "> Limpando o vector store\n",
        "\n",
        "\n",
        "O comando vectorstore.delete_collection() é usado no contexto de gerenciamento de um repositório de vetores, que em sua aplicação é uma estrutura semelhante a um banco de dados que armazena representações vetoriais de dados de texto"
      ],
      "metadata": {
        "id": "_T6rio32MUEi"
      },
      "id": "_T6rio32MUEi"
    },
    {
      "cell_type": "code",
      "source": [
        "vectorstore.delete_collection()"
      ],
      "metadata": {
        "id": "e94fG4q-MVEE"
      },
      "id": "e94fG4q-MVEE",
      "execution_count": 42,
      "outputs": []
    },
    {
      "cell_type": "markdown",
      "source": [
        "* Este comando instrui o vectorstore a deletar toda a coleção de dados que ele contém. Uma coleção refere-se ao conjunto de todos os documentos (trechos de texto) e suas representações vetoriais correspondentes que foram indexados e armazenados no vectorstore.\n",
        "\n",
        "* Observação sobre impacto na aplicação: Ao executar vectorstore.delete_collection(), você remove efetivamente todos os dados indexados do repositório de vetores. Esta ação limpa o banco de dados, o que pode ser necessário durante redefinições do sistema, atualizações ou quando você deseja limpar dados antigos para abrir espaço para novos dados a serem processados e armazenados.\n",
        "\n",
        "Esta função é crítica para manter a limpeza e a relevância dos dados em aplicações que dependem de conjuntos de dados dinâmicos ou que requerem atualizações periódicas na sua estrutura de informações. Ela garante que o sistema possa ser atualizado ou reestruturado sem que dados residuais de operações anteriores interfiram nas novas operações."
      ],
      "metadata": {
        "id": "2rR_NyjuMeKB"
      },
      "id": "2rR_NyjuMeKB"
    },
    {
      "cell_type": "markdown",
      "source": [
        "## Resumo sobre RAG e LLMs usando LangChain\n",
        "\n",
        "Resumo geral do pipeline que montamos acima:\n",
        "\n",
        "1. Carregar o conteúdo da página ou PDF ou outro arquivo/mídia\n",
        "2. Divisão em Chunks: O primeiro passo é dividir os documentos em pequenos pedaços, ou chunks.\n",
        "3. Armazenamento e Transformação em Embeddings: Esses chunks são transformados em embeddings, que são representações vetoriais dos textos. Os embeddings são armazenados em um banco de dados vetorial (vector database).\n",
        "4. Uso de Retriever: O banco de dados vetorial fornece um retriever (recuperador de informações) que busca os chunks mais relevantes com base em um algoritmo de similaridade.\n",
        "5. Junção do contexto ao prompt e geração do resultado final\n",
        "\n",
        "**Fluxo de Trabalho:**\n",
        "* Primeira Chain (LLM + Prompt): O modelo de linguagem (LLM) recebe um prompt inicial e gera uma resposta.\n",
        "* Integração com Retriever: A resposta inicial é combinada com o retriever para formar outro elo na cadeia.\n",
        "\n",
        "**Funcionamento do Sistema:**\n",
        "* Input como Embedding: O input fornecido é convertido em um embedding.\n",
        "* Busca no banco de dados: O embedding do input é usado para buscar os chunks mais relevantes no banco de dados.\n",
        "* Execução do LLM: Os chunks encontrados são utilizados pelo LLM para gerar a resposta final.\n",
        "* Rastreamento de chunks utilizados: É possível acessar quais chunks foram usados na geração da resposta.\n",
        "\n"
      ],
      "metadata": {
        "id": "hBJErWNUMgic"
      },
      "id": "hBJErWNUMgic"
    }
  ],
  "metadata": {
    "kernelspec": {
      "display_name": "Python 3",
      "name": "python3"
    },
    "language_info": {
      "codemirror_mode": {
        "name": "ipython",
        "version": 3
      },
      "file_extension": ".py",
      "mimetype": "text/x-python",
      "name": "python",
      "nbconvert_exporter": "python",
      "pygments_lexer": "ipython3",
      "version": "3.10.12"
    },
    "colab": {
      "provenance": [],
      "gpuType": "T4"
    },
    "accelerator": "GPU",
    "widgets": {
      "application/vnd.jupyter.widget-state+json": {
        "1129efad53e84dc4984f930033c07876": {
          "model_module": "@jupyter-widgets/controls",
          "model_name": "HBoxModel",
          "model_module_version": "1.5.0",
          "state": {
            "_dom_classes": [],
            "_model_module": "@jupyter-widgets/controls",
            "_model_module_version": "1.5.0",
            "_model_name": "HBoxModel",
            "_view_count": null,
            "_view_module": "@jupyter-widgets/controls",
            "_view_module_version": "1.5.0",
            "_view_name": "HBoxView",
            "box_style": "",
            "children": [
              "IPY_MODEL_b01585f4463c4f3080c395d4d1d4e3f5",
              "IPY_MODEL_86576c1a3b174264b9bbeb7e7409cae5",
              "IPY_MODEL_9084605f99be4415839c26813579d86c"
            ],
            "layout": "IPY_MODEL_b53a30674cea4c509cf0d1d0677d49cf"
          }
        },
        "b01585f4463c4f3080c395d4d1d4e3f5": {
          "model_module": "@jupyter-widgets/controls",
          "model_name": "HTMLModel",
          "model_module_version": "1.5.0",
          "state": {
            "_dom_classes": [],
            "_model_module": "@jupyter-widgets/controls",
            "_model_module_version": "1.5.0",
            "_model_name": "HTMLModel",
            "_view_count": null,
            "_view_module": "@jupyter-widgets/controls",
            "_view_module_version": "1.5.0",
            "_view_name": "HTMLView",
            "description": "",
            "description_tooltip": null,
            "layout": "IPY_MODEL_03eaa311109f431d97190b0d13321d29",
            "placeholder": "​",
            "style": "IPY_MODEL_a99c962197f74a78a3cd8b29dd6204b9",
            "value": "config.json: 100%"
          }
        },
        "86576c1a3b174264b9bbeb7e7409cae5": {
          "model_module": "@jupyter-widgets/controls",
          "model_name": "FloatProgressModel",
          "model_module_version": "1.5.0",
          "state": {
            "_dom_classes": [],
            "_model_module": "@jupyter-widgets/controls",
            "_model_module_version": "1.5.0",
            "_model_name": "FloatProgressModel",
            "_view_count": null,
            "_view_module": "@jupyter-widgets/controls",
            "_view_module_version": "1.5.0",
            "_view_name": "ProgressView",
            "bar_style": "success",
            "description": "",
            "description_tooltip": null,
            "layout": "IPY_MODEL_6258111471d34dbc8203fddc31cff1af",
            "max": 654,
            "min": 0,
            "orientation": "horizontal",
            "style": "IPY_MODEL_2ba06a51333840609db99aefcbff9f98",
            "value": 654
          }
        },
        "9084605f99be4415839c26813579d86c": {
          "model_module": "@jupyter-widgets/controls",
          "model_name": "HTMLModel",
          "model_module_version": "1.5.0",
          "state": {
            "_dom_classes": [],
            "_model_module": "@jupyter-widgets/controls",
            "_model_module_version": "1.5.0",
            "_model_name": "HTMLModel",
            "_view_count": null,
            "_view_module": "@jupyter-widgets/controls",
            "_view_module_version": "1.5.0",
            "_view_name": "HTMLView",
            "description": "",
            "description_tooltip": null,
            "layout": "IPY_MODEL_5e71294940094595ad78bec5b5db311a",
            "placeholder": "​",
            "style": "IPY_MODEL_c3456a5bcd0349e18dfd60d2b9195338",
            "value": " 654/654 [00:00&lt;00:00, 34.9kB/s]"
          }
        },
        "b53a30674cea4c509cf0d1d0677d49cf": {
          "model_module": "@jupyter-widgets/base",
          "model_name": "LayoutModel",
          "model_module_version": "1.2.0",
          "state": {
            "_model_module": "@jupyter-widgets/base",
            "_model_module_version": "1.2.0",
            "_model_name": "LayoutModel",
            "_view_count": null,
            "_view_module": "@jupyter-widgets/base",
            "_view_module_version": "1.2.0",
            "_view_name": "LayoutView",
            "align_content": null,
            "align_items": null,
            "align_self": null,
            "border": null,
            "bottom": null,
            "display": null,
            "flex": null,
            "flex_flow": null,
            "grid_area": null,
            "grid_auto_columns": null,
            "grid_auto_flow": null,
            "grid_auto_rows": null,
            "grid_column": null,
            "grid_gap": null,
            "grid_row": null,
            "grid_template_areas": null,
            "grid_template_columns": null,
            "grid_template_rows": null,
            "height": null,
            "justify_content": null,
            "justify_items": null,
            "left": null,
            "margin": null,
            "max_height": null,
            "max_width": null,
            "min_height": null,
            "min_width": null,
            "object_fit": null,
            "object_position": null,
            "order": null,
            "overflow": null,
            "overflow_x": null,
            "overflow_y": null,
            "padding": null,
            "right": null,
            "top": null,
            "visibility": null,
            "width": null
          }
        },
        "03eaa311109f431d97190b0d13321d29": {
          "model_module": "@jupyter-widgets/base",
          "model_name": "LayoutModel",
          "model_module_version": "1.2.0",
          "state": {
            "_model_module": "@jupyter-widgets/base",
            "_model_module_version": "1.2.0",
            "_model_name": "LayoutModel",
            "_view_count": null,
            "_view_module": "@jupyter-widgets/base",
            "_view_module_version": "1.2.0",
            "_view_name": "LayoutView",
            "align_content": null,
            "align_items": null,
            "align_self": null,
            "border": null,
            "bottom": null,
            "display": null,
            "flex": null,
            "flex_flow": null,
            "grid_area": null,
            "grid_auto_columns": null,
            "grid_auto_flow": null,
            "grid_auto_rows": null,
            "grid_column": null,
            "grid_gap": null,
            "grid_row": null,
            "grid_template_areas": null,
            "grid_template_columns": null,
            "grid_template_rows": null,
            "height": null,
            "justify_content": null,
            "justify_items": null,
            "left": null,
            "margin": null,
            "max_height": null,
            "max_width": null,
            "min_height": null,
            "min_width": null,
            "object_fit": null,
            "object_position": null,
            "order": null,
            "overflow": null,
            "overflow_x": null,
            "overflow_y": null,
            "padding": null,
            "right": null,
            "top": null,
            "visibility": null,
            "width": null
          }
        },
        "a99c962197f74a78a3cd8b29dd6204b9": {
          "model_module": "@jupyter-widgets/controls",
          "model_name": "DescriptionStyleModel",
          "model_module_version": "1.5.0",
          "state": {
            "_model_module": "@jupyter-widgets/controls",
            "_model_module_version": "1.5.0",
            "_model_name": "DescriptionStyleModel",
            "_view_count": null,
            "_view_module": "@jupyter-widgets/base",
            "_view_module_version": "1.2.0",
            "_view_name": "StyleView",
            "description_width": ""
          }
        },
        "6258111471d34dbc8203fddc31cff1af": {
          "model_module": "@jupyter-widgets/base",
          "model_name": "LayoutModel",
          "model_module_version": "1.2.0",
          "state": {
            "_model_module": "@jupyter-widgets/base",
            "_model_module_version": "1.2.0",
            "_model_name": "LayoutModel",
            "_view_count": null,
            "_view_module": "@jupyter-widgets/base",
            "_view_module_version": "1.2.0",
            "_view_name": "LayoutView",
            "align_content": null,
            "align_items": null,
            "align_self": null,
            "border": null,
            "bottom": null,
            "display": null,
            "flex": null,
            "flex_flow": null,
            "grid_area": null,
            "grid_auto_columns": null,
            "grid_auto_flow": null,
            "grid_auto_rows": null,
            "grid_column": null,
            "grid_gap": null,
            "grid_row": null,
            "grid_template_areas": null,
            "grid_template_columns": null,
            "grid_template_rows": null,
            "height": null,
            "justify_content": null,
            "justify_items": null,
            "left": null,
            "margin": null,
            "max_height": null,
            "max_width": null,
            "min_height": null,
            "min_width": null,
            "object_fit": null,
            "object_position": null,
            "order": null,
            "overflow": null,
            "overflow_x": null,
            "overflow_y": null,
            "padding": null,
            "right": null,
            "top": null,
            "visibility": null,
            "width": null
          }
        },
        "2ba06a51333840609db99aefcbff9f98": {
          "model_module": "@jupyter-widgets/controls",
          "model_name": "ProgressStyleModel",
          "model_module_version": "1.5.0",
          "state": {
            "_model_module": "@jupyter-widgets/controls",
            "_model_module_version": "1.5.0",
            "_model_name": "ProgressStyleModel",
            "_view_count": null,
            "_view_module": "@jupyter-widgets/base",
            "_view_module_version": "1.2.0",
            "_view_name": "StyleView",
            "bar_color": null,
            "description_width": ""
          }
        },
        "5e71294940094595ad78bec5b5db311a": {
          "model_module": "@jupyter-widgets/base",
          "model_name": "LayoutModel",
          "model_module_version": "1.2.0",
          "state": {
            "_model_module": "@jupyter-widgets/base",
            "_model_module_version": "1.2.0",
            "_model_name": "LayoutModel",
            "_view_count": null,
            "_view_module": "@jupyter-widgets/base",
            "_view_module_version": "1.2.0",
            "_view_name": "LayoutView",
            "align_content": null,
            "align_items": null,
            "align_self": null,
            "border": null,
            "bottom": null,
            "display": null,
            "flex": null,
            "flex_flow": null,
            "grid_area": null,
            "grid_auto_columns": null,
            "grid_auto_flow": null,
            "grid_auto_rows": null,
            "grid_column": null,
            "grid_gap": null,
            "grid_row": null,
            "grid_template_areas": null,
            "grid_template_columns": null,
            "grid_template_rows": null,
            "height": null,
            "justify_content": null,
            "justify_items": null,
            "left": null,
            "margin": null,
            "max_height": null,
            "max_width": null,
            "min_height": null,
            "min_width": null,
            "object_fit": null,
            "object_position": null,
            "order": null,
            "overflow": null,
            "overflow_x": null,
            "overflow_y": null,
            "padding": null,
            "right": null,
            "top": null,
            "visibility": null,
            "width": null
          }
        },
        "c3456a5bcd0349e18dfd60d2b9195338": {
          "model_module": "@jupyter-widgets/controls",
          "model_name": "DescriptionStyleModel",
          "model_module_version": "1.5.0",
          "state": {
            "_model_module": "@jupyter-widgets/controls",
            "_model_module_version": "1.5.0",
            "_model_name": "DescriptionStyleModel",
            "_view_count": null,
            "_view_module": "@jupyter-widgets/base",
            "_view_module_version": "1.2.0",
            "_view_name": "StyleView",
            "description_width": ""
          }
        },
        "0ab70a8431894ec4a86e55e86e1550b7": {
          "model_module": "@jupyter-widgets/controls",
          "model_name": "HBoxModel",
          "model_module_version": "1.5.0",
          "state": {
            "_dom_classes": [],
            "_model_module": "@jupyter-widgets/controls",
            "_model_module_version": "1.5.0",
            "_model_name": "HBoxModel",
            "_view_count": null,
            "_view_module": "@jupyter-widgets/controls",
            "_view_module_version": "1.5.0",
            "_view_name": "HBoxView",
            "box_style": "",
            "children": [
              "IPY_MODEL_668dffd7ac6940d9a320baa278e42480",
              "IPY_MODEL_87c802b150c2400ab4717950c79d467e",
              "IPY_MODEL_d05985505eeb427e872232f7325ca124"
            ],
            "layout": "IPY_MODEL_49684281cacb4d51913b4269a759fd91"
          }
        },
        "668dffd7ac6940d9a320baa278e42480": {
          "model_module": "@jupyter-widgets/controls",
          "model_name": "HTMLModel",
          "model_module_version": "1.5.0",
          "state": {
            "_dom_classes": [],
            "_model_module": "@jupyter-widgets/controls",
            "_model_module_version": "1.5.0",
            "_model_name": "HTMLModel",
            "_view_count": null,
            "_view_module": "@jupyter-widgets/controls",
            "_view_module_version": "1.5.0",
            "_view_name": "HTMLView",
            "description": "",
            "description_tooltip": null,
            "layout": "IPY_MODEL_04f6399b84204cbc8a62f156a3a16ee9",
            "placeholder": "​",
            "style": "IPY_MODEL_185091bc12b74cb18d41228d5ae3c0c0",
            "value": "model.safetensors.index.json: 100%"
          }
        },
        "87c802b150c2400ab4717950c79d467e": {
          "model_module": "@jupyter-widgets/controls",
          "model_name": "FloatProgressModel",
          "model_module_version": "1.5.0",
          "state": {
            "_dom_classes": [],
            "_model_module": "@jupyter-widgets/controls",
            "_model_module_version": "1.5.0",
            "_model_name": "FloatProgressModel",
            "_view_count": null,
            "_view_module": "@jupyter-widgets/controls",
            "_view_module_version": "1.5.0",
            "_view_name": "ProgressView",
            "bar_style": "success",
            "description": "",
            "description_tooltip": null,
            "layout": "IPY_MODEL_1c661b8f600e4ff192c6b2210d3d5a58",
            "max": 23950,
            "min": 0,
            "orientation": "horizontal",
            "style": "IPY_MODEL_5d1b73eec4094c33b8f0f2c6c620edee",
            "value": 23950
          }
        },
        "d05985505eeb427e872232f7325ca124": {
          "model_module": "@jupyter-widgets/controls",
          "model_name": "HTMLModel",
          "model_module_version": "1.5.0",
          "state": {
            "_dom_classes": [],
            "_model_module": "@jupyter-widgets/controls",
            "_model_module_version": "1.5.0",
            "_model_name": "HTMLModel",
            "_view_count": null,
            "_view_module": "@jupyter-widgets/controls",
            "_view_module_version": "1.5.0",
            "_view_name": "HTMLView",
            "description": "",
            "description_tooltip": null,
            "layout": "IPY_MODEL_d50006a73ae94394bf6871fca674981e",
            "placeholder": "​",
            "style": "IPY_MODEL_a4184a39403c448ba9b7fa463b438c11",
            "value": " 23.9k/23.9k [00:00&lt;00:00, 1.42MB/s]"
          }
        },
        "49684281cacb4d51913b4269a759fd91": {
          "model_module": "@jupyter-widgets/base",
          "model_name": "LayoutModel",
          "model_module_version": "1.2.0",
          "state": {
            "_model_module": "@jupyter-widgets/base",
            "_model_module_version": "1.2.0",
            "_model_name": "LayoutModel",
            "_view_count": null,
            "_view_module": "@jupyter-widgets/base",
            "_view_module_version": "1.2.0",
            "_view_name": "LayoutView",
            "align_content": null,
            "align_items": null,
            "align_self": null,
            "border": null,
            "bottom": null,
            "display": null,
            "flex": null,
            "flex_flow": null,
            "grid_area": null,
            "grid_auto_columns": null,
            "grid_auto_flow": null,
            "grid_auto_rows": null,
            "grid_column": null,
            "grid_gap": null,
            "grid_row": null,
            "grid_template_areas": null,
            "grid_template_columns": null,
            "grid_template_rows": null,
            "height": null,
            "justify_content": null,
            "justify_items": null,
            "left": null,
            "margin": null,
            "max_height": null,
            "max_width": null,
            "min_height": null,
            "min_width": null,
            "object_fit": null,
            "object_position": null,
            "order": null,
            "overflow": null,
            "overflow_x": null,
            "overflow_y": null,
            "padding": null,
            "right": null,
            "top": null,
            "visibility": null,
            "width": null
          }
        },
        "04f6399b84204cbc8a62f156a3a16ee9": {
          "model_module": "@jupyter-widgets/base",
          "model_name": "LayoutModel",
          "model_module_version": "1.2.0",
          "state": {
            "_model_module": "@jupyter-widgets/base",
            "_model_module_version": "1.2.0",
            "_model_name": "LayoutModel",
            "_view_count": null,
            "_view_module": "@jupyter-widgets/base",
            "_view_module_version": "1.2.0",
            "_view_name": "LayoutView",
            "align_content": null,
            "align_items": null,
            "align_self": null,
            "border": null,
            "bottom": null,
            "display": null,
            "flex": null,
            "flex_flow": null,
            "grid_area": null,
            "grid_auto_columns": null,
            "grid_auto_flow": null,
            "grid_auto_rows": null,
            "grid_column": null,
            "grid_gap": null,
            "grid_row": null,
            "grid_template_areas": null,
            "grid_template_columns": null,
            "grid_template_rows": null,
            "height": null,
            "justify_content": null,
            "justify_items": null,
            "left": null,
            "margin": null,
            "max_height": null,
            "max_width": null,
            "min_height": null,
            "min_width": null,
            "object_fit": null,
            "object_position": null,
            "order": null,
            "overflow": null,
            "overflow_x": null,
            "overflow_y": null,
            "padding": null,
            "right": null,
            "top": null,
            "visibility": null,
            "width": null
          }
        },
        "185091bc12b74cb18d41228d5ae3c0c0": {
          "model_module": "@jupyter-widgets/controls",
          "model_name": "DescriptionStyleModel",
          "model_module_version": "1.5.0",
          "state": {
            "_model_module": "@jupyter-widgets/controls",
            "_model_module_version": "1.5.0",
            "_model_name": "DescriptionStyleModel",
            "_view_count": null,
            "_view_module": "@jupyter-widgets/base",
            "_view_module_version": "1.2.0",
            "_view_name": "StyleView",
            "description_width": ""
          }
        },
        "1c661b8f600e4ff192c6b2210d3d5a58": {
          "model_module": "@jupyter-widgets/base",
          "model_name": "LayoutModel",
          "model_module_version": "1.2.0",
          "state": {
            "_model_module": "@jupyter-widgets/base",
            "_model_module_version": "1.2.0",
            "_model_name": "LayoutModel",
            "_view_count": null,
            "_view_module": "@jupyter-widgets/base",
            "_view_module_version": "1.2.0",
            "_view_name": "LayoutView",
            "align_content": null,
            "align_items": null,
            "align_self": null,
            "border": null,
            "bottom": null,
            "display": null,
            "flex": null,
            "flex_flow": null,
            "grid_area": null,
            "grid_auto_columns": null,
            "grid_auto_flow": null,
            "grid_auto_rows": null,
            "grid_column": null,
            "grid_gap": null,
            "grid_row": null,
            "grid_template_areas": null,
            "grid_template_columns": null,
            "grid_template_rows": null,
            "height": null,
            "justify_content": null,
            "justify_items": null,
            "left": null,
            "margin": null,
            "max_height": null,
            "max_width": null,
            "min_height": null,
            "min_width": null,
            "object_fit": null,
            "object_position": null,
            "order": null,
            "overflow": null,
            "overflow_x": null,
            "overflow_y": null,
            "padding": null,
            "right": null,
            "top": null,
            "visibility": null,
            "width": null
          }
        },
        "5d1b73eec4094c33b8f0f2c6c620edee": {
          "model_module": "@jupyter-widgets/controls",
          "model_name": "ProgressStyleModel",
          "model_module_version": "1.5.0",
          "state": {
            "_model_module": "@jupyter-widgets/controls",
            "_model_module_version": "1.5.0",
            "_model_name": "ProgressStyleModel",
            "_view_count": null,
            "_view_module": "@jupyter-widgets/base",
            "_view_module_version": "1.2.0",
            "_view_name": "StyleView",
            "bar_color": null,
            "description_width": ""
          }
        },
        "d50006a73ae94394bf6871fca674981e": {
          "model_module": "@jupyter-widgets/base",
          "model_name": "LayoutModel",
          "model_module_version": "1.2.0",
          "state": {
            "_model_module": "@jupyter-widgets/base",
            "_model_module_version": "1.2.0",
            "_model_name": "LayoutModel",
            "_view_count": null,
            "_view_module": "@jupyter-widgets/base",
            "_view_module_version": "1.2.0",
            "_view_name": "LayoutView",
            "align_content": null,
            "align_items": null,
            "align_self": null,
            "border": null,
            "bottom": null,
            "display": null,
            "flex": null,
            "flex_flow": null,
            "grid_area": null,
            "grid_auto_columns": null,
            "grid_auto_flow": null,
            "grid_auto_rows": null,
            "grid_column": null,
            "grid_gap": null,
            "grid_row": null,
            "grid_template_areas": null,
            "grid_template_columns": null,
            "grid_template_rows": null,
            "height": null,
            "justify_content": null,
            "justify_items": null,
            "left": null,
            "margin": null,
            "max_height": null,
            "max_width": null,
            "min_height": null,
            "min_width": null,
            "object_fit": null,
            "object_position": null,
            "order": null,
            "overflow": null,
            "overflow_x": null,
            "overflow_y": null,
            "padding": null,
            "right": null,
            "top": null,
            "visibility": null,
            "width": null
          }
        },
        "a4184a39403c448ba9b7fa463b438c11": {
          "model_module": "@jupyter-widgets/controls",
          "model_name": "DescriptionStyleModel",
          "model_module_version": "1.5.0",
          "state": {
            "_model_module": "@jupyter-widgets/controls",
            "_model_module_version": "1.5.0",
            "_model_name": "DescriptionStyleModel",
            "_view_count": null,
            "_view_module": "@jupyter-widgets/base",
            "_view_module_version": "1.2.0",
            "_view_name": "StyleView",
            "description_width": ""
          }
        },
        "894d30a0c708437596e69a1d5502c3b2": {
          "model_module": "@jupyter-widgets/controls",
          "model_name": "HBoxModel",
          "model_module_version": "1.5.0",
          "state": {
            "_dom_classes": [],
            "_model_module": "@jupyter-widgets/controls",
            "_model_module_version": "1.5.0",
            "_model_name": "HBoxModel",
            "_view_count": null,
            "_view_module": "@jupyter-widgets/controls",
            "_view_module_version": "1.5.0",
            "_view_name": "HBoxView",
            "box_style": "",
            "children": [
              "IPY_MODEL_85a4f1d5ffc74b08aa1bd60d708c85ce",
              "IPY_MODEL_0613ced93e5f4eb880455f1689ade1c7",
              "IPY_MODEL_7bd4ad3d7e664e9491ed8b632c6d1424"
            ],
            "layout": "IPY_MODEL_09aecaf55ee94194b966535bf87c8be9"
          }
        },
        "85a4f1d5ffc74b08aa1bd60d708c85ce": {
          "model_module": "@jupyter-widgets/controls",
          "model_name": "HTMLModel",
          "model_module_version": "1.5.0",
          "state": {
            "_dom_classes": [],
            "_model_module": "@jupyter-widgets/controls",
            "_model_module_version": "1.5.0",
            "_model_name": "HTMLModel",
            "_view_count": null,
            "_view_module": "@jupyter-widgets/controls",
            "_view_module_version": "1.5.0",
            "_view_name": "HTMLView",
            "description": "",
            "description_tooltip": null,
            "layout": "IPY_MODEL_01e062ed417246b58cc423614a73f641",
            "placeholder": "​",
            "style": "IPY_MODEL_1a8cbf2779c54b93891a276192164f21",
            "value": "Downloading shards: 100%"
          }
        },
        "0613ced93e5f4eb880455f1689ade1c7": {
          "model_module": "@jupyter-widgets/controls",
          "model_name": "FloatProgressModel",
          "model_module_version": "1.5.0",
          "state": {
            "_dom_classes": [],
            "_model_module": "@jupyter-widgets/controls",
            "_model_module_version": "1.5.0",
            "_model_name": "FloatProgressModel",
            "_view_count": null,
            "_view_module": "@jupyter-widgets/controls",
            "_view_module_version": "1.5.0",
            "_view_name": "ProgressView",
            "bar_style": "success",
            "description": "",
            "description_tooltip": null,
            "layout": "IPY_MODEL_d27fc3c6471942b9846ed40a452d2649",
            "max": 4,
            "min": 0,
            "orientation": "horizontal",
            "style": "IPY_MODEL_f34917640ec8458e9fb7cb955f16eaef",
            "value": 4
          }
        },
        "7bd4ad3d7e664e9491ed8b632c6d1424": {
          "model_module": "@jupyter-widgets/controls",
          "model_name": "HTMLModel",
          "model_module_version": "1.5.0",
          "state": {
            "_dom_classes": [],
            "_model_module": "@jupyter-widgets/controls",
            "_model_module_version": "1.5.0",
            "_model_name": "HTMLModel",
            "_view_count": null,
            "_view_module": "@jupyter-widgets/controls",
            "_view_module_version": "1.5.0",
            "_view_name": "HTMLView",
            "description": "",
            "description_tooltip": null,
            "layout": "IPY_MODEL_7d02059fc78b46868da8f14857d10abd",
            "placeholder": "​",
            "style": "IPY_MODEL_183a697efb9d43439ce11e794a1b34bf",
            "value": " 4/4 [06:22&lt;00:00, 82.43s/it]"
          }
        },
        "09aecaf55ee94194b966535bf87c8be9": {
          "model_module": "@jupyter-widgets/base",
          "model_name": "LayoutModel",
          "model_module_version": "1.2.0",
          "state": {
            "_model_module": "@jupyter-widgets/base",
            "_model_module_version": "1.2.0",
            "_model_name": "LayoutModel",
            "_view_count": null,
            "_view_module": "@jupyter-widgets/base",
            "_view_module_version": "1.2.0",
            "_view_name": "LayoutView",
            "align_content": null,
            "align_items": null,
            "align_self": null,
            "border": null,
            "bottom": null,
            "display": null,
            "flex": null,
            "flex_flow": null,
            "grid_area": null,
            "grid_auto_columns": null,
            "grid_auto_flow": null,
            "grid_auto_rows": null,
            "grid_column": null,
            "grid_gap": null,
            "grid_row": null,
            "grid_template_areas": null,
            "grid_template_columns": null,
            "grid_template_rows": null,
            "height": null,
            "justify_content": null,
            "justify_items": null,
            "left": null,
            "margin": null,
            "max_height": null,
            "max_width": null,
            "min_height": null,
            "min_width": null,
            "object_fit": null,
            "object_position": null,
            "order": null,
            "overflow": null,
            "overflow_x": null,
            "overflow_y": null,
            "padding": null,
            "right": null,
            "top": null,
            "visibility": null,
            "width": null
          }
        },
        "01e062ed417246b58cc423614a73f641": {
          "model_module": "@jupyter-widgets/base",
          "model_name": "LayoutModel",
          "model_module_version": "1.2.0",
          "state": {
            "_model_module": "@jupyter-widgets/base",
            "_model_module_version": "1.2.0",
            "_model_name": "LayoutModel",
            "_view_count": null,
            "_view_module": "@jupyter-widgets/base",
            "_view_module_version": "1.2.0",
            "_view_name": "LayoutView",
            "align_content": null,
            "align_items": null,
            "align_self": null,
            "border": null,
            "bottom": null,
            "display": null,
            "flex": null,
            "flex_flow": null,
            "grid_area": null,
            "grid_auto_columns": null,
            "grid_auto_flow": null,
            "grid_auto_rows": null,
            "grid_column": null,
            "grid_gap": null,
            "grid_row": null,
            "grid_template_areas": null,
            "grid_template_columns": null,
            "grid_template_rows": null,
            "height": null,
            "justify_content": null,
            "justify_items": null,
            "left": null,
            "margin": null,
            "max_height": null,
            "max_width": null,
            "min_height": null,
            "min_width": null,
            "object_fit": null,
            "object_position": null,
            "order": null,
            "overflow": null,
            "overflow_x": null,
            "overflow_y": null,
            "padding": null,
            "right": null,
            "top": null,
            "visibility": null,
            "width": null
          }
        },
        "1a8cbf2779c54b93891a276192164f21": {
          "model_module": "@jupyter-widgets/controls",
          "model_name": "DescriptionStyleModel",
          "model_module_version": "1.5.0",
          "state": {
            "_model_module": "@jupyter-widgets/controls",
            "_model_module_version": "1.5.0",
            "_model_name": "DescriptionStyleModel",
            "_view_count": null,
            "_view_module": "@jupyter-widgets/base",
            "_view_module_version": "1.2.0",
            "_view_name": "StyleView",
            "description_width": ""
          }
        },
        "d27fc3c6471942b9846ed40a452d2649": {
          "model_module": "@jupyter-widgets/base",
          "model_name": "LayoutModel",
          "model_module_version": "1.2.0",
          "state": {
            "_model_module": "@jupyter-widgets/base",
            "_model_module_version": "1.2.0",
            "_model_name": "LayoutModel",
            "_view_count": null,
            "_view_module": "@jupyter-widgets/base",
            "_view_module_version": "1.2.0",
            "_view_name": "LayoutView",
            "align_content": null,
            "align_items": null,
            "align_self": null,
            "border": null,
            "bottom": null,
            "display": null,
            "flex": null,
            "flex_flow": null,
            "grid_area": null,
            "grid_auto_columns": null,
            "grid_auto_flow": null,
            "grid_auto_rows": null,
            "grid_column": null,
            "grid_gap": null,
            "grid_row": null,
            "grid_template_areas": null,
            "grid_template_columns": null,
            "grid_template_rows": null,
            "height": null,
            "justify_content": null,
            "justify_items": null,
            "left": null,
            "margin": null,
            "max_height": null,
            "max_width": null,
            "min_height": null,
            "min_width": null,
            "object_fit": null,
            "object_position": null,
            "order": null,
            "overflow": null,
            "overflow_x": null,
            "overflow_y": null,
            "padding": null,
            "right": null,
            "top": null,
            "visibility": null,
            "width": null
          }
        },
        "f34917640ec8458e9fb7cb955f16eaef": {
          "model_module": "@jupyter-widgets/controls",
          "model_name": "ProgressStyleModel",
          "model_module_version": "1.5.0",
          "state": {
            "_model_module": "@jupyter-widgets/controls",
            "_model_module_version": "1.5.0",
            "_model_name": "ProgressStyleModel",
            "_view_count": null,
            "_view_module": "@jupyter-widgets/base",
            "_view_module_version": "1.2.0",
            "_view_name": "StyleView",
            "bar_color": null,
            "description_width": ""
          }
        },
        "7d02059fc78b46868da8f14857d10abd": {
          "model_module": "@jupyter-widgets/base",
          "model_name": "LayoutModel",
          "model_module_version": "1.2.0",
          "state": {
            "_model_module": "@jupyter-widgets/base",
            "_model_module_version": "1.2.0",
            "_model_name": "LayoutModel",
            "_view_count": null,
            "_view_module": "@jupyter-widgets/base",
            "_view_module_version": "1.2.0",
            "_view_name": "LayoutView",
            "align_content": null,
            "align_items": null,
            "align_self": null,
            "border": null,
            "bottom": null,
            "display": null,
            "flex": null,
            "flex_flow": null,
            "grid_area": null,
            "grid_auto_columns": null,
            "grid_auto_flow": null,
            "grid_auto_rows": null,
            "grid_column": null,
            "grid_gap": null,
            "grid_row": null,
            "grid_template_areas": null,
            "grid_template_columns": null,
            "grid_template_rows": null,
            "height": null,
            "justify_content": null,
            "justify_items": null,
            "left": null,
            "margin": null,
            "max_height": null,
            "max_width": null,
            "min_height": null,
            "min_width": null,
            "object_fit": null,
            "object_position": null,
            "order": null,
            "overflow": null,
            "overflow_x": null,
            "overflow_y": null,
            "padding": null,
            "right": null,
            "top": null,
            "visibility": null,
            "width": null
          }
        },
        "183a697efb9d43439ce11e794a1b34bf": {
          "model_module": "@jupyter-widgets/controls",
          "model_name": "DescriptionStyleModel",
          "model_module_version": "1.5.0",
          "state": {
            "_model_module": "@jupyter-widgets/controls",
            "_model_module_version": "1.5.0",
            "_model_name": "DescriptionStyleModel",
            "_view_count": null,
            "_view_module": "@jupyter-widgets/base",
            "_view_module_version": "1.2.0",
            "_view_name": "StyleView",
            "description_width": ""
          }
        },
        "8fd7ea41cb9b4dc3952d68200d2e68d0": {
          "model_module": "@jupyter-widgets/controls",
          "model_name": "HBoxModel",
          "model_module_version": "1.5.0",
          "state": {
            "_dom_classes": [],
            "_model_module": "@jupyter-widgets/controls",
            "_model_module_version": "1.5.0",
            "_model_name": "HBoxModel",
            "_view_count": null,
            "_view_module": "@jupyter-widgets/controls",
            "_view_module_version": "1.5.0",
            "_view_name": "HBoxView",
            "box_style": "",
            "children": [
              "IPY_MODEL_7f66b575b8374266ba1053af7a6af4e0",
              "IPY_MODEL_07fc5a3faa014a2a919f6c046c45a47b",
              "IPY_MODEL_9bb7053624a24cddb60cb1deea58f6b6"
            ],
            "layout": "IPY_MODEL_0ccff74eafa447febe09a40cca5af4a8"
          }
        },
        "7f66b575b8374266ba1053af7a6af4e0": {
          "model_module": "@jupyter-widgets/controls",
          "model_name": "HTMLModel",
          "model_module_version": "1.5.0",
          "state": {
            "_dom_classes": [],
            "_model_module": "@jupyter-widgets/controls",
            "_model_module_version": "1.5.0",
            "_model_name": "HTMLModel",
            "_view_count": null,
            "_view_module": "@jupyter-widgets/controls",
            "_view_module_version": "1.5.0",
            "_view_name": "HTMLView",
            "description": "",
            "description_tooltip": null,
            "layout": "IPY_MODEL_544ffb5cb7ef46bf86af2559bad269b9",
            "placeholder": "​",
            "style": "IPY_MODEL_6e50200220804ab6acede8bb94650ddd",
            "value": "model-00001-of-00004.safetensors: 100%"
          }
        },
        "07fc5a3faa014a2a919f6c046c45a47b": {
          "model_module": "@jupyter-widgets/controls",
          "model_name": "FloatProgressModel",
          "model_module_version": "1.5.0",
          "state": {
            "_dom_classes": [],
            "_model_module": "@jupyter-widgets/controls",
            "_model_module_version": "1.5.0",
            "_model_name": "FloatProgressModel",
            "_view_count": null,
            "_view_module": "@jupyter-widgets/controls",
            "_view_module_version": "1.5.0",
            "_view_name": "ProgressView",
            "bar_style": "success",
            "description": "",
            "description_tooltip": null,
            "layout": "IPY_MODEL_fc8b27892b0e49acbdc87cff7bd0c751",
            "max": 4976698672,
            "min": 0,
            "orientation": "horizontal",
            "style": "IPY_MODEL_6d8d3a78f62240128da8d0198320bc83",
            "value": 4976698672
          }
        },
        "9bb7053624a24cddb60cb1deea58f6b6": {
          "model_module": "@jupyter-widgets/controls",
          "model_name": "HTMLModel",
          "model_module_version": "1.5.0",
          "state": {
            "_dom_classes": [],
            "_model_module": "@jupyter-widgets/controls",
            "_model_module_version": "1.5.0",
            "_model_name": "HTMLModel",
            "_view_count": null,
            "_view_module": "@jupyter-widgets/controls",
            "_view_module_version": "1.5.0",
            "_view_name": "HTMLView",
            "description": "",
            "description_tooltip": null,
            "layout": "IPY_MODEL_78b25fb1beb74550b1b1736c875d2a11",
            "placeholder": "​",
            "style": "IPY_MODEL_12cef39c28c9406bb9dfce1f70cf071a",
            "value": " 4.98G/4.98G [01:57&lt;00:00, 42.4MB/s]"
          }
        },
        "0ccff74eafa447febe09a40cca5af4a8": {
          "model_module": "@jupyter-widgets/base",
          "model_name": "LayoutModel",
          "model_module_version": "1.2.0",
          "state": {
            "_model_module": "@jupyter-widgets/base",
            "_model_module_version": "1.2.0",
            "_model_name": "LayoutModel",
            "_view_count": null,
            "_view_module": "@jupyter-widgets/base",
            "_view_module_version": "1.2.0",
            "_view_name": "LayoutView",
            "align_content": null,
            "align_items": null,
            "align_self": null,
            "border": null,
            "bottom": null,
            "display": null,
            "flex": null,
            "flex_flow": null,
            "grid_area": null,
            "grid_auto_columns": null,
            "grid_auto_flow": null,
            "grid_auto_rows": null,
            "grid_column": null,
            "grid_gap": null,
            "grid_row": null,
            "grid_template_areas": null,
            "grid_template_columns": null,
            "grid_template_rows": null,
            "height": null,
            "justify_content": null,
            "justify_items": null,
            "left": null,
            "margin": null,
            "max_height": null,
            "max_width": null,
            "min_height": null,
            "min_width": null,
            "object_fit": null,
            "object_position": null,
            "order": null,
            "overflow": null,
            "overflow_x": null,
            "overflow_y": null,
            "padding": null,
            "right": null,
            "top": null,
            "visibility": null,
            "width": null
          }
        },
        "544ffb5cb7ef46bf86af2559bad269b9": {
          "model_module": "@jupyter-widgets/base",
          "model_name": "LayoutModel",
          "model_module_version": "1.2.0",
          "state": {
            "_model_module": "@jupyter-widgets/base",
            "_model_module_version": "1.2.0",
            "_model_name": "LayoutModel",
            "_view_count": null,
            "_view_module": "@jupyter-widgets/base",
            "_view_module_version": "1.2.0",
            "_view_name": "LayoutView",
            "align_content": null,
            "align_items": null,
            "align_self": null,
            "border": null,
            "bottom": null,
            "display": null,
            "flex": null,
            "flex_flow": null,
            "grid_area": null,
            "grid_auto_columns": null,
            "grid_auto_flow": null,
            "grid_auto_rows": null,
            "grid_column": null,
            "grid_gap": null,
            "grid_row": null,
            "grid_template_areas": null,
            "grid_template_columns": null,
            "grid_template_rows": null,
            "height": null,
            "justify_content": null,
            "justify_items": null,
            "left": null,
            "margin": null,
            "max_height": null,
            "max_width": null,
            "min_height": null,
            "min_width": null,
            "object_fit": null,
            "object_position": null,
            "order": null,
            "overflow": null,
            "overflow_x": null,
            "overflow_y": null,
            "padding": null,
            "right": null,
            "top": null,
            "visibility": null,
            "width": null
          }
        },
        "6e50200220804ab6acede8bb94650ddd": {
          "model_module": "@jupyter-widgets/controls",
          "model_name": "DescriptionStyleModel",
          "model_module_version": "1.5.0",
          "state": {
            "_model_module": "@jupyter-widgets/controls",
            "_model_module_version": "1.5.0",
            "_model_name": "DescriptionStyleModel",
            "_view_count": null,
            "_view_module": "@jupyter-widgets/base",
            "_view_module_version": "1.2.0",
            "_view_name": "StyleView",
            "description_width": ""
          }
        },
        "fc8b27892b0e49acbdc87cff7bd0c751": {
          "model_module": "@jupyter-widgets/base",
          "model_name": "LayoutModel",
          "model_module_version": "1.2.0",
          "state": {
            "_model_module": "@jupyter-widgets/base",
            "_model_module_version": "1.2.0",
            "_model_name": "LayoutModel",
            "_view_count": null,
            "_view_module": "@jupyter-widgets/base",
            "_view_module_version": "1.2.0",
            "_view_name": "LayoutView",
            "align_content": null,
            "align_items": null,
            "align_self": null,
            "border": null,
            "bottom": null,
            "display": null,
            "flex": null,
            "flex_flow": null,
            "grid_area": null,
            "grid_auto_columns": null,
            "grid_auto_flow": null,
            "grid_auto_rows": null,
            "grid_column": null,
            "grid_gap": null,
            "grid_row": null,
            "grid_template_areas": null,
            "grid_template_columns": null,
            "grid_template_rows": null,
            "height": null,
            "justify_content": null,
            "justify_items": null,
            "left": null,
            "margin": null,
            "max_height": null,
            "max_width": null,
            "min_height": null,
            "min_width": null,
            "object_fit": null,
            "object_position": null,
            "order": null,
            "overflow": null,
            "overflow_x": null,
            "overflow_y": null,
            "padding": null,
            "right": null,
            "top": null,
            "visibility": null,
            "width": null
          }
        },
        "6d8d3a78f62240128da8d0198320bc83": {
          "model_module": "@jupyter-widgets/controls",
          "model_name": "ProgressStyleModel",
          "model_module_version": "1.5.0",
          "state": {
            "_model_module": "@jupyter-widgets/controls",
            "_model_module_version": "1.5.0",
            "_model_name": "ProgressStyleModel",
            "_view_count": null,
            "_view_module": "@jupyter-widgets/base",
            "_view_module_version": "1.2.0",
            "_view_name": "StyleView",
            "bar_color": null,
            "description_width": ""
          }
        },
        "78b25fb1beb74550b1b1736c875d2a11": {
          "model_module": "@jupyter-widgets/base",
          "model_name": "LayoutModel",
          "model_module_version": "1.2.0",
          "state": {
            "_model_module": "@jupyter-widgets/base",
            "_model_module_version": "1.2.0",
            "_model_name": "LayoutModel",
            "_view_count": null,
            "_view_module": "@jupyter-widgets/base",
            "_view_module_version": "1.2.0",
            "_view_name": "LayoutView",
            "align_content": null,
            "align_items": null,
            "align_self": null,
            "border": null,
            "bottom": null,
            "display": null,
            "flex": null,
            "flex_flow": null,
            "grid_area": null,
            "grid_auto_columns": null,
            "grid_auto_flow": null,
            "grid_auto_rows": null,
            "grid_column": null,
            "grid_gap": null,
            "grid_row": null,
            "grid_template_areas": null,
            "grid_template_columns": null,
            "grid_template_rows": null,
            "height": null,
            "justify_content": null,
            "justify_items": null,
            "left": null,
            "margin": null,
            "max_height": null,
            "max_width": null,
            "min_height": null,
            "min_width": null,
            "object_fit": null,
            "object_position": null,
            "order": null,
            "overflow": null,
            "overflow_x": null,
            "overflow_y": null,
            "padding": null,
            "right": null,
            "top": null,
            "visibility": null,
            "width": null
          }
        },
        "12cef39c28c9406bb9dfce1f70cf071a": {
          "model_module": "@jupyter-widgets/controls",
          "model_name": "DescriptionStyleModel",
          "model_module_version": "1.5.0",
          "state": {
            "_model_module": "@jupyter-widgets/controls",
            "_model_module_version": "1.5.0",
            "_model_name": "DescriptionStyleModel",
            "_view_count": null,
            "_view_module": "@jupyter-widgets/base",
            "_view_module_version": "1.2.0",
            "_view_name": "StyleView",
            "description_width": ""
          }
        },
        "524d8ff44d0044248ea7daf5471f4c03": {
          "model_module": "@jupyter-widgets/controls",
          "model_name": "HBoxModel",
          "model_module_version": "1.5.0",
          "state": {
            "_dom_classes": [],
            "_model_module": "@jupyter-widgets/controls",
            "_model_module_version": "1.5.0",
            "_model_name": "HBoxModel",
            "_view_count": null,
            "_view_module": "@jupyter-widgets/controls",
            "_view_module_version": "1.5.0",
            "_view_name": "HBoxView",
            "box_style": "",
            "children": [
              "IPY_MODEL_a8aabb741ba04ba6ba291e4d75f7bc27",
              "IPY_MODEL_93ef2413c4e54fd8b56603b6cc8dcba0",
              "IPY_MODEL_4f3381b52cf745ca9b2337aada6ecc0c"
            ],
            "layout": "IPY_MODEL_611c6de91115432b963bea06c9480fc4"
          }
        },
        "a8aabb741ba04ba6ba291e4d75f7bc27": {
          "model_module": "@jupyter-widgets/controls",
          "model_name": "HTMLModel",
          "model_module_version": "1.5.0",
          "state": {
            "_dom_classes": [],
            "_model_module": "@jupyter-widgets/controls",
            "_model_module_version": "1.5.0",
            "_model_name": "HTMLModel",
            "_view_count": null,
            "_view_module": "@jupyter-widgets/controls",
            "_view_module_version": "1.5.0",
            "_view_name": "HTMLView",
            "description": "",
            "description_tooltip": null,
            "layout": "IPY_MODEL_12c02e8caaf74fc98bc61d79f68e0ea6",
            "placeholder": "​",
            "style": "IPY_MODEL_8798dc05b6f84b158698db5b399c8dec",
            "value": "model-00002-of-00004.safetensors: 100%"
          }
        },
        "93ef2413c4e54fd8b56603b6cc8dcba0": {
          "model_module": "@jupyter-widgets/controls",
          "model_name": "FloatProgressModel",
          "model_module_version": "1.5.0",
          "state": {
            "_dom_classes": [],
            "_model_module": "@jupyter-widgets/controls",
            "_model_module_version": "1.5.0",
            "_model_name": "FloatProgressModel",
            "_view_count": null,
            "_view_module": "@jupyter-widgets/controls",
            "_view_module_version": "1.5.0",
            "_view_name": "ProgressView",
            "bar_style": "success",
            "description": "",
            "description_tooltip": null,
            "layout": "IPY_MODEL_17155b74e3594c0b8e8b18bbf7477431",
            "max": 4999802720,
            "min": 0,
            "orientation": "horizontal",
            "style": "IPY_MODEL_b79be3f6685c43a5a8c7815209790d00",
            "value": 4999802720
          }
        },
        "4f3381b52cf745ca9b2337aada6ecc0c": {
          "model_module": "@jupyter-widgets/controls",
          "model_name": "HTMLModel",
          "model_module_version": "1.5.0",
          "state": {
            "_dom_classes": [],
            "_model_module": "@jupyter-widgets/controls",
            "_model_module_version": "1.5.0",
            "_model_name": "HTMLModel",
            "_view_count": null,
            "_view_module": "@jupyter-widgets/controls",
            "_view_module_version": "1.5.0",
            "_view_name": "HTMLView",
            "description": "",
            "description_tooltip": null,
            "layout": "IPY_MODEL_c11c0eecd7f547b785adbe02ad80bb59",
            "placeholder": "​",
            "style": "IPY_MODEL_f79baaee189041d4992e63605cd64d27",
            "value": " 5.00G/5.00G [01:59&lt;00:00, 39.4MB/s]"
          }
        },
        "611c6de91115432b963bea06c9480fc4": {
          "model_module": "@jupyter-widgets/base",
          "model_name": "LayoutModel",
          "model_module_version": "1.2.0",
          "state": {
            "_model_module": "@jupyter-widgets/base",
            "_model_module_version": "1.2.0",
            "_model_name": "LayoutModel",
            "_view_count": null,
            "_view_module": "@jupyter-widgets/base",
            "_view_module_version": "1.2.0",
            "_view_name": "LayoutView",
            "align_content": null,
            "align_items": null,
            "align_self": null,
            "border": null,
            "bottom": null,
            "display": null,
            "flex": null,
            "flex_flow": null,
            "grid_area": null,
            "grid_auto_columns": null,
            "grid_auto_flow": null,
            "grid_auto_rows": null,
            "grid_column": null,
            "grid_gap": null,
            "grid_row": null,
            "grid_template_areas": null,
            "grid_template_columns": null,
            "grid_template_rows": null,
            "height": null,
            "justify_content": null,
            "justify_items": null,
            "left": null,
            "margin": null,
            "max_height": null,
            "max_width": null,
            "min_height": null,
            "min_width": null,
            "object_fit": null,
            "object_position": null,
            "order": null,
            "overflow": null,
            "overflow_x": null,
            "overflow_y": null,
            "padding": null,
            "right": null,
            "top": null,
            "visibility": null,
            "width": null
          }
        },
        "12c02e8caaf74fc98bc61d79f68e0ea6": {
          "model_module": "@jupyter-widgets/base",
          "model_name": "LayoutModel",
          "model_module_version": "1.2.0",
          "state": {
            "_model_module": "@jupyter-widgets/base",
            "_model_module_version": "1.2.0",
            "_model_name": "LayoutModel",
            "_view_count": null,
            "_view_module": "@jupyter-widgets/base",
            "_view_module_version": "1.2.0",
            "_view_name": "LayoutView",
            "align_content": null,
            "align_items": null,
            "align_self": null,
            "border": null,
            "bottom": null,
            "display": null,
            "flex": null,
            "flex_flow": null,
            "grid_area": null,
            "grid_auto_columns": null,
            "grid_auto_flow": null,
            "grid_auto_rows": null,
            "grid_column": null,
            "grid_gap": null,
            "grid_row": null,
            "grid_template_areas": null,
            "grid_template_columns": null,
            "grid_template_rows": null,
            "height": null,
            "justify_content": null,
            "justify_items": null,
            "left": null,
            "margin": null,
            "max_height": null,
            "max_width": null,
            "min_height": null,
            "min_width": null,
            "object_fit": null,
            "object_position": null,
            "order": null,
            "overflow": null,
            "overflow_x": null,
            "overflow_y": null,
            "padding": null,
            "right": null,
            "top": null,
            "visibility": null,
            "width": null
          }
        },
        "8798dc05b6f84b158698db5b399c8dec": {
          "model_module": "@jupyter-widgets/controls",
          "model_name": "DescriptionStyleModel",
          "model_module_version": "1.5.0",
          "state": {
            "_model_module": "@jupyter-widgets/controls",
            "_model_module_version": "1.5.0",
            "_model_name": "DescriptionStyleModel",
            "_view_count": null,
            "_view_module": "@jupyter-widgets/base",
            "_view_module_version": "1.2.0",
            "_view_name": "StyleView",
            "description_width": ""
          }
        },
        "17155b74e3594c0b8e8b18bbf7477431": {
          "model_module": "@jupyter-widgets/base",
          "model_name": "LayoutModel",
          "model_module_version": "1.2.0",
          "state": {
            "_model_module": "@jupyter-widgets/base",
            "_model_module_version": "1.2.0",
            "_model_name": "LayoutModel",
            "_view_count": null,
            "_view_module": "@jupyter-widgets/base",
            "_view_module_version": "1.2.0",
            "_view_name": "LayoutView",
            "align_content": null,
            "align_items": null,
            "align_self": null,
            "border": null,
            "bottom": null,
            "display": null,
            "flex": null,
            "flex_flow": null,
            "grid_area": null,
            "grid_auto_columns": null,
            "grid_auto_flow": null,
            "grid_auto_rows": null,
            "grid_column": null,
            "grid_gap": null,
            "grid_row": null,
            "grid_template_areas": null,
            "grid_template_columns": null,
            "grid_template_rows": null,
            "height": null,
            "justify_content": null,
            "justify_items": null,
            "left": null,
            "margin": null,
            "max_height": null,
            "max_width": null,
            "min_height": null,
            "min_width": null,
            "object_fit": null,
            "object_position": null,
            "order": null,
            "overflow": null,
            "overflow_x": null,
            "overflow_y": null,
            "padding": null,
            "right": null,
            "top": null,
            "visibility": null,
            "width": null
          }
        },
        "b79be3f6685c43a5a8c7815209790d00": {
          "model_module": "@jupyter-widgets/controls",
          "model_name": "ProgressStyleModel",
          "model_module_version": "1.5.0",
          "state": {
            "_model_module": "@jupyter-widgets/controls",
            "_model_module_version": "1.5.0",
            "_model_name": "ProgressStyleModel",
            "_view_count": null,
            "_view_module": "@jupyter-widgets/base",
            "_view_module_version": "1.2.0",
            "_view_name": "StyleView",
            "bar_color": null,
            "description_width": ""
          }
        },
        "c11c0eecd7f547b785adbe02ad80bb59": {
          "model_module": "@jupyter-widgets/base",
          "model_name": "LayoutModel",
          "model_module_version": "1.2.0",
          "state": {
            "_model_module": "@jupyter-widgets/base",
            "_model_module_version": "1.2.0",
            "_model_name": "LayoutModel",
            "_view_count": null,
            "_view_module": "@jupyter-widgets/base",
            "_view_module_version": "1.2.0",
            "_view_name": "LayoutView",
            "align_content": null,
            "align_items": null,
            "align_self": null,
            "border": null,
            "bottom": null,
            "display": null,
            "flex": null,
            "flex_flow": null,
            "grid_area": null,
            "grid_auto_columns": null,
            "grid_auto_flow": null,
            "grid_auto_rows": null,
            "grid_column": null,
            "grid_gap": null,
            "grid_row": null,
            "grid_template_areas": null,
            "grid_template_columns": null,
            "grid_template_rows": null,
            "height": null,
            "justify_content": null,
            "justify_items": null,
            "left": null,
            "margin": null,
            "max_height": null,
            "max_width": null,
            "min_height": null,
            "min_width": null,
            "object_fit": null,
            "object_position": null,
            "order": null,
            "overflow": null,
            "overflow_x": null,
            "overflow_y": null,
            "padding": null,
            "right": null,
            "top": null,
            "visibility": null,
            "width": null
          }
        },
        "f79baaee189041d4992e63605cd64d27": {
          "model_module": "@jupyter-widgets/controls",
          "model_name": "DescriptionStyleModel",
          "model_module_version": "1.5.0",
          "state": {
            "_model_module": "@jupyter-widgets/controls",
            "_model_module_version": "1.5.0",
            "_model_name": "DescriptionStyleModel",
            "_view_count": null,
            "_view_module": "@jupyter-widgets/base",
            "_view_module_version": "1.2.0",
            "_view_name": "StyleView",
            "description_width": ""
          }
        },
        "aab068454ae04efbaca5ecca66c50c49": {
          "model_module": "@jupyter-widgets/controls",
          "model_name": "HBoxModel",
          "model_module_version": "1.5.0",
          "state": {
            "_dom_classes": [],
            "_model_module": "@jupyter-widgets/controls",
            "_model_module_version": "1.5.0",
            "_model_name": "HBoxModel",
            "_view_count": null,
            "_view_module": "@jupyter-widgets/controls",
            "_view_module_version": "1.5.0",
            "_view_name": "HBoxView",
            "box_style": "",
            "children": [
              "IPY_MODEL_e49e3c46060647e1993276cad3db22cd",
              "IPY_MODEL_2ac55843e5424649b6a291d3aa515f49",
              "IPY_MODEL_caa82cba032c4bd38c684893b5e45be3"
            ],
            "layout": "IPY_MODEL_d174ac6559ef4bd38d7f7c025706e02f"
          }
        },
        "e49e3c46060647e1993276cad3db22cd": {
          "model_module": "@jupyter-widgets/controls",
          "model_name": "HTMLModel",
          "model_module_version": "1.5.0",
          "state": {
            "_dom_classes": [],
            "_model_module": "@jupyter-widgets/controls",
            "_model_module_version": "1.5.0",
            "_model_name": "HTMLModel",
            "_view_count": null,
            "_view_module": "@jupyter-widgets/controls",
            "_view_module_version": "1.5.0",
            "_view_name": "HTMLView",
            "description": "",
            "description_tooltip": null,
            "layout": "IPY_MODEL_b5500eff9b234ebdaaf350f82c2821c7",
            "placeholder": "​",
            "style": "IPY_MODEL_b9e5f1934cc045169e6c3669766bf3bf",
            "value": "model-00003-of-00004.safetensors: 100%"
          }
        },
        "2ac55843e5424649b6a291d3aa515f49": {
          "model_module": "@jupyter-widgets/controls",
          "model_name": "FloatProgressModel",
          "model_module_version": "1.5.0",
          "state": {
            "_dom_classes": [],
            "_model_module": "@jupyter-widgets/controls",
            "_model_module_version": "1.5.0",
            "_model_name": "FloatProgressModel",
            "_view_count": null,
            "_view_module": "@jupyter-widgets/controls",
            "_view_module_version": "1.5.0",
            "_view_name": "ProgressView",
            "bar_style": "success",
            "description": "",
            "description_tooltip": null,
            "layout": "IPY_MODEL_cbf593374def4c6d93d6a1058fcbba13",
            "max": 4915916176,
            "min": 0,
            "orientation": "horizontal",
            "style": "IPY_MODEL_7742a1bc8be7488082eac7abdc2f6fd8",
            "value": 4915916176
          }
        },
        "caa82cba032c4bd38c684893b5e45be3": {
          "model_module": "@jupyter-widgets/controls",
          "model_name": "HTMLModel",
          "model_module_version": "1.5.0",
          "state": {
            "_dom_classes": [],
            "_model_module": "@jupyter-widgets/controls",
            "_model_module_version": "1.5.0",
            "_model_name": "HTMLModel",
            "_view_count": null,
            "_view_module": "@jupyter-widgets/controls",
            "_view_module_version": "1.5.0",
            "_view_name": "HTMLView",
            "description": "",
            "description_tooltip": null,
            "layout": "IPY_MODEL_c59a27237e3f4198b61c4f4e3b610d45",
            "placeholder": "​",
            "style": "IPY_MODEL_34828c0acb8643cbb71a39ab8cf7e58f",
            "value": " 4.92G/4.92G [01:56&lt;00:00, 41.7MB/s]"
          }
        },
        "d174ac6559ef4bd38d7f7c025706e02f": {
          "model_module": "@jupyter-widgets/base",
          "model_name": "LayoutModel",
          "model_module_version": "1.2.0",
          "state": {
            "_model_module": "@jupyter-widgets/base",
            "_model_module_version": "1.2.0",
            "_model_name": "LayoutModel",
            "_view_count": null,
            "_view_module": "@jupyter-widgets/base",
            "_view_module_version": "1.2.0",
            "_view_name": "LayoutView",
            "align_content": null,
            "align_items": null,
            "align_self": null,
            "border": null,
            "bottom": null,
            "display": null,
            "flex": null,
            "flex_flow": null,
            "grid_area": null,
            "grid_auto_columns": null,
            "grid_auto_flow": null,
            "grid_auto_rows": null,
            "grid_column": null,
            "grid_gap": null,
            "grid_row": null,
            "grid_template_areas": null,
            "grid_template_columns": null,
            "grid_template_rows": null,
            "height": null,
            "justify_content": null,
            "justify_items": null,
            "left": null,
            "margin": null,
            "max_height": null,
            "max_width": null,
            "min_height": null,
            "min_width": null,
            "object_fit": null,
            "object_position": null,
            "order": null,
            "overflow": null,
            "overflow_x": null,
            "overflow_y": null,
            "padding": null,
            "right": null,
            "top": null,
            "visibility": null,
            "width": null
          }
        },
        "b5500eff9b234ebdaaf350f82c2821c7": {
          "model_module": "@jupyter-widgets/base",
          "model_name": "LayoutModel",
          "model_module_version": "1.2.0",
          "state": {
            "_model_module": "@jupyter-widgets/base",
            "_model_module_version": "1.2.0",
            "_model_name": "LayoutModel",
            "_view_count": null,
            "_view_module": "@jupyter-widgets/base",
            "_view_module_version": "1.2.0",
            "_view_name": "LayoutView",
            "align_content": null,
            "align_items": null,
            "align_self": null,
            "border": null,
            "bottom": null,
            "display": null,
            "flex": null,
            "flex_flow": null,
            "grid_area": null,
            "grid_auto_columns": null,
            "grid_auto_flow": null,
            "grid_auto_rows": null,
            "grid_column": null,
            "grid_gap": null,
            "grid_row": null,
            "grid_template_areas": null,
            "grid_template_columns": null,
            "grid_template_rows": null,
            "height": null,
            "justify_content": null,
            "justify_items": null,
            "left": null,
            "margin": null,
            "max_height": null,
            "max_width": null,
            "min_height": null,
            "min_width": null,
            "object_fit": null,
            "object_position": null,
            "order": null,
            "overflow": null,
            "overflow_x": null,
            "overflow_y": null,
            "padding": null,
            "right": null,
            "top": null,
            "visibility": null,
            "width": null
          }
        },
        "b9e5f1934cc045169e6c3669766bf3bf": {
          "model_module": "@jupyter-widgets/controls",
          "model_name": "DescriptionStyleModel",
          "model_module_version": "1.5.0",
          "state": {
            "_model_module": "@jupyter-widgets/controls",
            "_model_module_version": "1.5.0",
            "_model_name": "DescriptionStyleModel",
            "_view_count": null,
            "_view_module": "@jupyter-widgets/base",
            "_view_module_version": "1.2.0",
            "_view_name": "StyleView",
            "description_width": ""
          }
        },
        "cbf593374def4c6d93d6a1058fcbba13": {
          "model_module": "@jupyter-widgets/base",
          "model_name": "LayoutModel",
          "model_module_version": "1.2.0",
          "state": {
            "_model_module": "@jupyter-widgets/base",
            "_model_module_version": "1.2.0",
            "_model_name": "LayoutModel",
            "_view_count": null,
            "_view_module": "@jupyter-widgets/base",
            "_view_module_version": "1.2.0",
            "_view_name": "LayoutView",
            "align_content": null,
            "align_items": null,
            "align_self": null,
            "border": null,
            "bottom": null,
            "display": null,
            "flex": null,
            "flex_flow": null,
            "grid_area": null,
            "grid_auto_columns": null,
            "grid_auto_flow": null,
            "grid_auto_rows": null,
            "grid_column": null,
            "grid_gap": null,
            "grid_row": null,
            "grid_template_areas": null,
            "grid_template_columns": null,
            "grid_template_rows": null,
            "height": null,
            "justify_content": null,
            "justify_items": null,
            "left": null,
            "margin": null,
            "max_height": null,
            "max_width": null,
            "min_height": null,
            "min_width": null,
            "object_fit": null,
            "object_position": null,
            "order": null,
            "overflow": null,
            "overflow_x": null,
            "overflow_y": null,
            "padding": null,
            "right": null,
            "top": null,
            "visibility": null,
            "width": null
          }
        },
        "7742a1bc8be7488082eac7abdc2f6fd8": {
          "model_module": "@jupyter-widgets/controls",
          "model_name": "ProgressStyleModel",
          "model_module_version": "1.5.0",
          "state": {
            "_model_module": "@jupyter-widgets/controls",
            "_model_module_version": "1.5.0",
            "_model_name": "ProgressStyleModel",
            "_view_count": null,
            "_view_module": "@jupyter-widgets/base",
            "_view_module_version": "1.2.0",
            "_view_name": "StyleView",
            "bar_color": null,
            "description_width": ""
          }
        },
        "c59a27237e3f4198b61c4f4e3b610d45": {
          "model_module": "@jupyter-widgets/base",
          "model_name": "LayoutModel",
          "model_module_version": "1.2.0",
          "state": {
            "_model_module": "@jupyter-widgets/base",
            "_model_module_version": "1.2.0",
            "_model_name": "LayoutModel",
            "_view_count": null,
            "_view_module": "@jupyter-widgets/base",
            "_view_module_version": "1.2.0",
            "_view_name": "LayoutView",
            "align_content": null,
            "align_items": null,
            "align_self": null,
            "border": null,
            "bottom": null,
            "display": null,
            "flex": null,
            "flex_flow": null,
            "grid_area": null,
            "grid_auto_columns": null,
            "grid_auto_flow": null,
            "grid_auto_rows": null,
            "grid_column": null,
            "grid_gap": null,
            "grid_row": null,
            "grid_template_areas": null,
            "grid_template_columns": null,
            "grid_template_rows": null,
            "height": null,
            "justify_content": null,
            "justify_items": null,
            "left": null,
            "margin": null,
            "max_height": null,
            "max_width": null,
            "min_height": null,
            "min_width": null,
            "object_fit": null,
            "object_position": null,
            "order": null,
            "overflow": null,
            "overflow_x": null,
            "overflow_y": null,
            "padding": null,
            "right": null,
            "top": null,
            "visibility": null,
            "width": null
          }
        },
        "34828c0acb8643cbb71a39ab8cf7e58f": {
          "model_module": "@jupyter-widgets/controls",
          "model_name": "DescriptionStyleModel",
          "model_module_version": "1.5.0",
          "state": {
            "_model_module": "@jupyter-widgets/controls",
            "_model_module_version": "1.5.0",
            "_model_name": "DescriptionStyleModel",
            "_view_count": null,
            "_view_module": "@jupyter-widgets/base",
            "_view_module_version": "1.2.0",
            "_view_name": "StyleView",
            "description_width": ""
          }
        },
        "94d5d8931ce54cd9b1b3e6c48b17c4b3": {
          "model_module": "@jupyter-widgets/controls",
          "model_name": "HBoxModel",
          "model_module_version": "1.5.0",
          "state": {
            "_dom_classes": [],
            "_model_module": "@jupyter-widgets/controls",
            "_model_module_version": "1.5.0",
            "_model_name": "HBoxModel",
            "_view_count": null,
            "_view_module": "@jupyter-widgets/controls",
            "_view_module_version": "1.5.0",
            "_view_name": "HBoxView",
            "box_style": "",
            "children": [
              "IPY_MODEL_a325532ad5914190b580389a3c2e0d15",
              "IPY_MODEL_bfc930e5c0854bafb4c3eb583846371f",
              "IPY_MODEL_845c1a36ab8546e3a39cad8273e15d8d"
            ],
            "layout": "IPY_MODEL_5ba7da77c80a45238c683cb74c5a679f"
          }
        },
        "a325532ad5914190b580389a3c2e0d15": {
          "model_module": "@jupyter-widgets/controls",
          "model_name": "HTMLModel",
          "model_module_version": "1.5.0",
          "state": {
            "_dom_classes": [],
            "_model_module": "@jupyter-widgets/controls",
            "_model_module_version": "1.5.0",
            "_model_name": "HTMLModel",
            "_view_count": null,
            "_view_module": "@jupyter-widgets/controls",
            "_view_module_version": "1.5.0",
            "_view_name": "HTMLView",
            "description": "",
            "description_tooltip": null,
            "layout": "IPY_MODEL_ee0cbe3d03bf48c2940733bf557c444b",
            "placeholder": "​",
            "style": "IPY_MODEL_fb5186ce6a614c8d953b38df58ec8fc3",
            "value": "model-00004-of-00004.safetensors: 100%"
          }
        },
        "bfc930e5c0854bafb4c3eb583846371f": {
          "model_module": "@jupyter-widgets/controls",
          "model_name": "FloatProgressModel",
          "model_module_version": "1.5.0",
          "state": {
            "_dom_classes": [],
            "_model_module": "@jupyter-widgets/controls",
            "_model_module_version": "1.5.0",
            "_model_name": "FloatProgressModel",
            "_view_count": null,
            "_view_module": "@jupyter-widgets/controls",
            "_view_module_version": "1.5.0",
            "_view_name": "ProgressView",
            "bar_style": "success",
            "description": "",
            "description_tooltip": null,
            "layout": "IPY_MODEL_6ee5a0187d6448538b1db3ebd55c0c30",
            "max": 1168138808,
            "min": 0,
            "orientation": "horizontal",
            "style": "IPY_MODEL_33c7e72830544c9a8096fc5b903e0806",
            "value": 1168138808
          }
        },
        "845c1a36ab8546e3a39cad8273e15d8d": {
          "model_module": "@jupyter-widgets/controls",
          "model_name": "HTMLModel",
          "model_module_version": "1.5.0",
          "state": {
            "_dom_classes": [],
            "_model_module": "@jupyter-widgets/controls",
            "_model_module_version": "1.5.0",
            "_model_name": "HTMLModel",
            "_view_count": null,
            "_view_module": "@jupyter-widgets/controls",
            "_view_module_version": "1.5.0",
            "_view_name": "HTMLView",
            "description": "",
            "description_tooltip": null,
            "layout": "IPY_MODEL_262e210f6062486086922ce155daf5b5",
            "placeholder": "​",
            "style": "IPY_MODEL_614d66714ef9418090140ec445d2ab5d",
            "value": " 1.17G/1.17G [00:27&lt;00:00, 42.3MB/s]"
          }
        },
        "5ba7da77c80a45238c683cb74c5a679f": {
          "model_module": "@jupyter-widgets/base",
          "model_name": "LayoutModel",
          "model_module_version": "1.2.0",
          "state": {
            "_model_module": "@jupyter-widgets/base",
            "_model_module_version": "1.2.0",
            "_model_name": "LayoutModel",
            "_view_count": null,
            "_view_module": "@jupyter-widgets/base",
            "_view_module_version": "1.2.0",
            "_view_name": "LayoutView",
            "align_content": null,
            "align_items": null,
            "align_self": null,
            "border": null,
            "bottom": null,
            "display": null,
            "flex": null,
            "flex_flow": null,
            "grid_area": null,
            "grid_auto_columns": null,
            "grid_auto_flow": null,
            "grid_auto_rows": null,
            "grid_column": null,
            "grid_gap": null,
            "grid_row": null,
            "grid_template_areas": null,
            "grid_template_columns": null,
            "grid_template_rows": null,
            "height": null,
            "justify_content": null,
            "justify_items": null,
            "left": null,
            "margin": null,
            "max_height": null,
            "max_width": null,
            "min_height": null,
            "min_width": null,
            "object_fit": null,
            "object_position": null,
            "order": null,
            "overflow": null,
            "overflow_x": null,
            "overflow_y": null,
            "padding": null,
            "right": null,
            "top": null,
            "visibility": null,
            "width": null
          }
        },
        "ee0cbe3d03bf48c2940733bf557c444b": {
          "model_module": "@jupyter-widgets/base",
          "model_name": "LayoutModel",
          "model_module_version": "1.2.0",
          "state": {
            "_model_module": "@jupyter-widgets/base",
            "_model_module_version": "1.2.0",
            "_model_name": "LayoutModel",
            "_view_count": null,
            "_view_module": "@jupyter-widgets/base",
            "_view_module_version": "1.2.0",
            "_view_name": "LayoutView",
            "align_content": null,
            "align_items": null,
            "align_self": null,
            "border": null,
            "bottom": null,
            "display": null,
            "flex": null,
            "flex_flow": null,
            "grid_area": null,
            "grid_auto_columns": null,
            "grid_auto_flow": null,
            "grid_auto_rows": null,
            "grid_column": null,
            "grid_gap": null,
            "grid_row": null,
            "grid_template_areas": null,
            "grid_template_columns": null,
            "grid_template_rows": null,
            "height": null,
            "justify_content": null,
            "justify_items": null,
            "left": null,
            "margin": null,
            "max_height": null,
            "max_width": null,
            "min_height": null,
            "min_width": null,
            "object_fit": null,
            "object_position": null,
            "order": null,
            "overflow": null,
            "overflow_x": null,
            "overflow_y": null,
            "padding": null,
            "right": null,
            "top": null,
            "visibility": null,
            "width": null
          }
        },
        "fb5186ce6a614c8d953b38df58ec8fc3": {
          "model_module": "@jupyter-widgets/controls",
          "model_name": "DescriptionStyleModel",
          "model_module_version": "1.5.0",
          "state": {
            "_model_module": "@jupyter-widgets/controls",
            "_model_module_version": "1.5.0",
            "_model_name": "DescriptionStyleModel",
            "_view_count": null,
            "_view_module": "@jupyter-widgets/base",
            "_view_module_version": "1.2.0",
            "_view_name": "StyleView",
            "description_width": ""
          }
        },
        "6ee5a0187d6448538b1db3ebd55c0c30": {
          "model_module": "@jupyter-widgets/base",
          "model_name": "LayoutModel",
          "model_module_version": "1.2.0",
          "state": {
            "_model_module": "@jupyter-widgets/base",
            "_model_module_version": "1.2.0",
            "_model_name": "LayoutModel",
            "_view_count": null,
            "_view_module": "@jupyter-widgets/base",
            "_view_module_version": "1.2.0",
            "_view_name": "LayoutView",
            "align_content": null,
            "align_items": null,
            "align_self": null,
            "border": null,
            "bottom": null,
            "display": null,
            "flex": null,
            "flex_flow": null,
            "grid_area": null,
            "grid_auto_columns": null,
            "grid_auto_flow": null,
            "grid_auto_rows": null,
            "grid_column": null,
            "grid_gap": null,
            "grid_row": null,
            "grid_template_areas": null,
            "grid_template_columns": null,
            "grid_template_rows": null,
            "height": null,
            "justify_content": null,
            "justify_items": null,
            "left": null,
            "margin": null,
            "max_height": null,
            "max_width": null,
            "min_height": null,
            "min_width": null,
            "object_fit": null,
            "object_position": null,
            "order": null,
            "overflow": null,
            "overflow_x": null,
            "overflow_y": null,
            "padding": null,
            "right": null,
            "top": null,
            "visibility": null,
            "width": null
          }
        },
        "33c7e72830544c9a8096fc5b903e0806": {
          "model_module": "@jupyter-widgets/controls",
          "model_name": "ProgressStyleModel",
          "model_module_version": "1.5.0",
          "state": {
            "_model_module": "@jupyter-widgets/controls",
            "_model_module_version": "1.5.0",
            "_model_name": "ProgressStyleModel",
            "_view_count": null,
            "_view_module": "@jupyter-widgets/base",
            "_view_module_version": "1.2.0",
            "_view_name": "StyleView",
            "bar_color": null,
            "description_width": ""
          }
        },
        "262e210f6062486086922ce155daf5b5": {
          "model_module": "@jupyter-widgets/base",
          "model_name": "LayoutModel",
          "model_module_version": "1.2.0",
          "state": {
            "_model_module": "@jupyter-widgets/base",
            "_model_module_version": "1.2.0",
            "_model_name": "LayoutModel",
            "_view_count": null,
            "_view_module": "@jupyter-widgets/base",
            "_view_module_version": "1.2.0",
            "_view_name": "LayoutView",
            "align_content": null,
            "align_items": null,
            "align_self": null,
            "border": null,
            "bottom": null,
            "display": null,
            "flex": null,
            "flex_flow": null,
            "grid_area": null,
            "grid_auto_columns": null,
            "grid_auto_flow": null,
            "grid_auto_rows": null,
            "grid_column": null,
            "grid_gap": null,
            "grid_row": null,
            "grid_template_areas": null,
            "grid_template_columns": null,
            "grid_template_rows": null,
            "height": null,
            "justify_content": null,
            "justify_items": null,
            "left": null,
            "margin": null,
            "max_height": null,
            "max_width": null,
            "min_height": null,
            "min_width": null,
            "object_fit": null,
            "object_position": null,
            "order": null,
            "overflow": null,
            "overflow_x": null,
            "overflow_y": null,
            "padding": null,
            "right": null,
            "top": null,
            "visibility": null,
            "width": null
          }
        },
        "614d66714ef9418090140ec445d2ab5d": {
          "model_module": "@jupyter-widgets/controls",
          "model_name": "DescriptionStyleModel",
          "model_module_version": "1.5.0",
          "state": {
            "_model_module": "@jupyter-widgets/controls",
            "_model_module_version": "1.5.0",
            "_model_name": "DescriptionStyleModel",
            "_view_count": null,
            "_view_module": "@jupyter-widgets/base",
            "_view_module_version": "1.2.0",
            "_view_name": "StyleView",
            "description_width": ""
          }
        },
        "cff95fd753814605adc7e89997d69499": {
          "model_module": "@jupyter-widgets/controls",
          "model_name": "HBoxModel",
          "model_module_version": "1.5.0",
          "state": {
            "_dom_classes": [],
            "_model_module": "@jupyter-widgets/controls",
            "_model_module_version": "1.5.0",
            "_model_name": "HBoxModel",
            "_view_count": null,
            "_view_module": "@jupyter-widgets/controls",
            "_view_module_version": "1.5.0",
            "_view_name": "HBoxView",
            "box_style": "",
            "children": [
              "IPY_MODEL_a2d1cf3370f740448f6753162fcbb994",
              "IPY_MODEL_15cdacecc04b427991e536fc90346daa",
              "IPY_MODEL_8f2d8e58c20142c7a4ab78fd871d0f9c"
            ],
            "layout": "IPY_MODEL_710dbb18ddc241d3b22e50e75ef6f4ff"
          }
        },
        "a2d1cf3370f740448f6753162fcbb994": {
          "model_module": "@jupyter-widgets/controls",
          "model_name": "HTMLModel",
          "model_module_version": "1.5.0",
          "state": {
            "_dom_classes": [],
            "_model_module": "@jupyter-widgets/controls",
            "_model_module_version": "1.5.0",
            "_model_name": "HTMLModel",
            "_view_count": null,
            "_view_module": "@jupyter-widgets/controls",
            "_view_module_version": "1.5.0",
            "_view_name": "HTMLView",
            "description": "",
            "description_tooltip": null,
            "layout": "IPY_MODEL_127c249aebde48e6b1838f18998f7657",
            "placeholder": "​",
            "style": "IPY_MODEL_61132ef051c14cf3ba72df6af27ae7c9",
            "value": "Loading checkpoint shards: 100%"
          }
        },
        "15cdacecc04b427991e536fc90346daa": {
          "model_module": "@jupyter-widgets/controls",
          "model_name": "FloatProgressModel",
          "model_module_version": "1.5.0",
          "state": {
            "_dom_classes": [],
            "_model_module": "@jupyter-widgets/controls",
            "_model_module_version": "1.5.0",
            "_model_name": "FloatProgressModel",
            "_view_count": null,
            "_view_module": "@jupyter-widgets/controls",
            "_view_module_version": "1.5.0",
            "_view_name": "ProgressView",
            "bar_style": "success",
            "description": "",
            "description_tooltip": null,
            "layout": "IPY_MODEL_d2b8974de3d44a4bac48b6266c2e4d22",
            "max": 4,
            "min": 0,
            "orientation": "horizontal",
            "style": "IPY_MODEL_68e9d7f56db6497aa1541c2572014dd5",
            "value": 4
          }
        },
        "8f2d8e58c20142c7a4ab78fd871d0f9c": {
          "model_module": "@jupyter-widgets/controls",
          "model_name": "HTMLModel",
          "model_module_version": "1.5.0",
          "state": {
            "_dom_classes": [],
            "_model_module": "@jupyter-widgets/controls",
            "_model_module_version": "1.5.0",
            "_model_name": "HTMLModel",
            "_view_count": null,
            "_view_module": "@jupyter-widgets/controls",
            "_view_module_version": "1.5.0",
            "_view_name": "HTMLView",
            "description": "",
            "description_tooltip": null,
            "layout": "IPY_MODEL_b73cc0f54ce84038866f51a785d1c316",
            "placeholder": "​",
            "style": "IPY_MODEL_497a0b596bf446fbbc1400ef3d09a5d8",
            "value": " 4/4 [01:26&lt;00:00, 18.96s/it]"
          }
        },
        "710dbb18ddc241d3b22e50e75ef6f4ff": {
          "model_module": "@jupyter-widgets/base",
          "model_name": "LayoutModel",
          "model_module_version": "1.2.0",
          "state": {
            "_model_module": "@jupyter-widgets/base",
            "_model_module_version": "1.2.0",
            "_model_name": "LayoutModel",
            "_view_count": null,
            "_view_module": "@jupyter-widgets/base",
            "_view_module_version": "1.2.0",
            "_view_name": "LayoutView",
            "align_content": null,
            "align_items": null,
            "align_self": null,
            "border": null,
            "bottom": null,
            "display": null,
            "flex": null,
            "flex_flow": null,
            "grid_area": null,
            "grid_auto_columns": null,
            "grid_auto_flow": null,
            "grid_auto_rows": null,
            "grid_column": null,
            "grid_gap": null,
            "grid_row": null,
            "grid_template_areas": null,
            "grid_template_columns": null,
            "grid_template_rows": null,
            "height": null,
            "justify_content": null,
            "justify_items": null,
            "left": null,
            "margin": null,
            "max_height": null,
            "max_width": null,
            "min_height": null,
            "min_width": null,
            "object_fit": null,
            "object_position": null,
            "order": null,
            "overflow": null,
            "overflow_x": null,
            "overflow_y": null,
            "padding": null,
            "right": null,
            "top": null,
            "visibility": null,
            "width": null
          }
        },
        "127c249aebde48e6b1838f18998f7657": {
          "model_module": "@jupyter-widgets/base",
          "model_name": "LayoutModel",
          "model_module_version": "1.2.0",
          "state": {
            "_model_module": "@jupyter-widgets/base",
            "_model_module_version": "1.2.0",
            "_model_name": "LayoutModel",
            "_view_count": null,
            "_view_module": "@jupyter-widgets/base",
            "_view_module_version": "1.2.0",
            "_view_name": "LayoutView",
            "align_content": null,
            "align_items": null,
            "align_self": null,
            "border": null,
            "bottom": null,
            "display": null,
            "flex": null,
            "flex_flow": null,
            "grid_area": null,
            "grid_auto_columns": null,
            "grid_auto_flow": null,
            "grid_auto_rows": null,
            "grid_column": null,
            "grid_gap": null,
            "grid_row": null,
            "grid_template_areas": null,
            "grid_template_columns": null,
            "grid_template_rows": null,
            "height": null,
            "justify_content": null,
            "justify_items": null,
            "left": null,
            "margin": null,
            "max_height": null,
            "max_width": null,
            "min_height": null,
            "min_width": null,
            "object_fit": null,
            "object_position": null,
            "order": null,
            "overflow": null,
            "overflow_x": null,
            "overflow_y": null,
            "padding": null,
            "right": null,
            "top": null,
            "visibility": null,
            "width": null
          }
        },
        "61132ef051c14cf3ba72df6af27ae7c9": {
          "model_module": "@jupyter-widgets/controls",
          "model_name": "DescriptionStyleModel",
          "model_module_version": "1.5.0",
          "state": {
            "_model_module": "@jupyter-widgets/controls",
            "_model_module_version": "1.5.0",
            "_model_name": "DescriptionStyleModel",
            "_view_count": null,
            "_view_module": "@jupyter-widgets/base",
            "_view_module_version": "1.2.0",
            "_view_name": "StyleView",
            "description_width": ""
          }
        },
        "d2b8974de3d44a4bac48b6266c2e4d22": {
          "model_module": "@jupyter-widgets/base",
          "model_name": "LayoutModel",
          "model_module_version": "1.2.0",
          "state": {
            "_model_module": "@jupyter-widgets/base",
            "_model_module_version": "1.2.0",
            "_model_name": "LayoutModel",
            "_view_count": null,
            "_view_module": "@jupyter-widgets/base",
            "_view_module_version": "1.2.0",
            "_view_name": "LayoutView",
            "align_content": null,
            "align_items": null,
            "align_self": null,
            "border": null,
            "bottom": null,
            "display": null,
            "flex": null,
            "flex_flow": null,
            "grid_area": null,
            "grid_auto_columns": null,
            "grid_auto_flow": null,
            "grid_auto_rows": null,
            "grid_column": null,
            "grid_gap": null,
            "grid_row": null,
            "grid_template_areas": null,
            "grid_template_columns": null,
            "grid_template_rows": null,
            "height": null,
            "justify_content": null,
            "justify_items": null,
            "left": null,
            "margin": null,
            "max_height": null,
            "max_width": null,
            "min_height": null,
            "min_width": null,
            "object_fit": null,
            "object_position": null,
            "order": null,
            "overflow": null,
            "overflow_x": null,
            "overflow_y": null,
            "padding": null,
            "right": null,
            "top": null,
            "visibility": null,
            "width": null
          }
        },
        "68e9d7f56db6497aa1541c2572014dd5": {
          "model_module": "@jupyter-widgets/controls",
          "model_name": "ProgressStyleModel",
          "model_module_version": "1.5.0",
          "state": {
            "_model_module": "@jupyter-widgets/controls",
            "_model_module_version": "1.5.0",
            "_model_name": "ProgressStyleModel",
            "_view_count": null,
            "_view_module": "@jupyter-widgets/base",
            "_view_module_version": "1.2.0",
            "_view_name": "StyleView",
            "bar_color": null,
            "description_width": ""
          }
        },
        "b73cc0f54ce84038866f51a785d1c316": {
          "model_module": "@jupyter-widgets/base",
          "model_name": "LayoutModel",
          "model_module_version": "1.2.0",
          "state": {
            "_model_module": "@jupyter-widgets/base",
            "_model_module_version": "1.2.0",
            "_model_name": "LayoutModel",
            "_view_count": null,
            "_view_module": "@jupyter-widgets/base",
            "_view_module_version": "1.2.0",
            "_view_name": "LayoutView",
            "align_content": null,
            "align_items": null,
            "align_self": null,
            "border": null,
            "bottom": null,
            "display": null,
            "flex": null,
            "flex_flow": null,
            "grid_area": null,
            "grid_auto_columns": null,
            "grid_auto_flow": null,
            "grid_auto_rows": null,
            "grid_column": null,
            "grid_gap": null,
            "grid_row": null,
            "grid_template_areas": null,
            "grid_template_columns": null,
            "grid_template_rows": null,
            "height": null,
            "justify_content": null,
            "justify_items": null,
            "left": null,
            "margin": null,
            "max_height": null,
            "max_width": null,
            "min_height": null,
            "min_width": null,
            "object_fit": null,
            "object_position": null,
            "order": null,
            "overflow": null,
            "overflow_x": null,
            "overflow_y": null,
            "padding": null,
            "right": null,
            "top": null,
            "visibility": null,
            "width": null
          }
        },
        "497a0b596bf446fbbc1400ef3d09a5d8": {
          "model_module": "@jupyter-widgets/controls",
          "model_name": "DescriptionStyleModel",
          "model_module_version": "1.5.0",
          "state": {
            "_model_module": "@jupyter-widgets/controls",
            "_model_module_version": "1.5.0",
            "_model_name": "DescriptionStyleModel",
            "_view_count": null,
            "_view_module": "@jupyter-widgets/base",
            "_view_module_version": "1.2.0",
            "_view_name": "StyleView",
            "description_width": ""
          }
        },
        "e24309ab3ec948f9800aedafc752d036": {
          "model_module": "@jupyter-widgets/controls",
          "model_name": "HBoxModel",
          "model_module_version": "1.5.0",
          "state": {
            "_dom_classes": [],
            "_model_module": "@jupyter-widgets/controls",
            "_model_module_version": "1.5.0",
            "_model_name": "HBoxModel",
            "_view_count": null,
            "_view_module": "@jupyter-widgets/controls",
            "_view_module_version": "1.5.0",
            "_view_name": "HBoxView",
            "box_style": "",
            "children": [
              "IPY_MODEL_fc38098492ba4f3c99c16b8c15071d66",
              "IPY_MODEL_f9ebaa06ed3c483cbfd547110069ed4b",
              "IPY_MODEL_02ccb496556a4ac88719f766a0f946c1"
            ],
            "layout": "IPY_MODEL_b2493bf79e1143738efbbdb8e59b0f44"
          }
        },
        "fc38098492ba4f3c99c16b8c15071d66": {
          "model_module": "@jupyter-widgets/controls",
          "model_name": "HTMLModel",
          "model_module_version": "1.5.0",
          "state": {
            "_dom_classes": [],
            "_model_module": "@jupyter-widgets/controls",
            "_model_module_version": "1.5.0",
            "_model_name": "HTMLModel",
            "_view_count": null,
            "_view_module": "@jupyter-widgets/controls",
            "_view_module_version": "1.5.0",
            "_view_name": "HTMLView",
            "description": "",
            "description_tooltip": null,
            "layout": "IPY_MODEL_9444f5bb466f4cb6bdcfa54748027e0b",
            "placeholder": "​",
            "style": "IPY_MODEL_5e1443ccc54e45e1ae18790d9e6848bf",
            "value": "generation_config.json: 100%"
          }
        },
        "f9ebaa06ed3c483cbfd547110069ed4b": {
          "model_module": "@jupyter-widgets/controls",
          "model_name": "FloatProgressModel",
          "model_module_version": "1.5.0",
          "state": {
            "_dom_classes": [],
            "_model_module": "@jupyter-widgets/controls",
            "_model_module_version": "1.5.0",
            "_model_name": "FloatProgressModel",
            "_view_count": null,
            "_view_module": "@jupyter-widgets/controls",
            "_view_module_version": "1.5.0",
            "_view_name": "ProgressView",
            "bar_style": "success",
            "description": "",
            "description_tooltip": null,
            "layout": "IPY_MODEL_4ef43131cfd54b9dbf24442dca926221",
            "max": 187,
            "min": 0,
            "orientation": "horizontal",
            "style": "IPY_MODEL_3ec3254846ea494fb94eb1f5d1c881e2",
            "value": 187
          }
        },
        "02ccb496556a4ac88719f766a0f946c1": {
          "model_module": "@jupyter-widgets/controls",
          "model_name": "HTMLModel",
          "model_module_version": "1.5.0",
          "state": {
            "_dom_classes": [],
            "_model_module": "@jupyter-widgets/controls",
            "_model_module_version": "1.5.0",
            "_model_name": "HTMLModel",
            "_view_count": null,
            "_view_module": "@jupyter-widgets/controls",
            "_view_module_version": "1.5.0",
            "_view_name": "HTMLView",
            "description": "",
            "description_tooltip": null,
            "layout": "IPY_MODEL_1c82e01a54e942499710e6ab8e6f0d1d",
            "placeholder": "​",
            "style": "IPY_MODEL_df4a818565fd4475a1b7f0135156426a",
            "value": " 187/187 [00:00&lt;00:00, 4.66kB/s]"
          }
        },
        "b2493bf79e1143738efbbdb8e59b0f44": {
          "model_module": "@jupyter-widgets/base",
          "model_name": "LayoutModel",
          "model_module_version": "1.2.0",
          "state": {
            "_model_module": "@jupyter-widgets/base",
            "_model_module_version": "1.2.0",
            "_model_name": "LayoutModel",
            "_view_count": null,
            "_view_module": "@jupyter-widgets/base",
            "_view_module_version": "1.2.0",
            "_view_name": "LayoutView",
            "align_content": null,
            "align_items": null,
            "align_self": null,
            "border": null,
            "bottom": null,
            "display": null,
            "flex": null,
            "flex_flow": null,
            "grid_area": null,
            "grid_auto_columns": null,
            "grid_auto_flow": null,
            "grid_auto_rows": null,
            "grid_column": null,
            "grid_gap": null,
            "grid_row": null,
            "grid_template_areas": null,
            "grid_template_columns": null,
            "grid_template_rows": null,
            "height": null,
            "justify_content": null,
            "justify_items": null,
            "left": null,
            "margin": null,
            "max_height": null,
            "max_width": null,
            "min_height": null,
            "min_width": null,
            "object_fit": null,
            "object_position": null,
            "order": null,
            "overflow": null,
            "overflow_x": null,
            "overflow_y": null,
            "padding": null,
            "right": null,
            "top": null,
            "visibility": null,
            "width": null
          }
        },
        "9444f5bb466f4cb6bdcfa54748027e0b": {
          "model_module": "@jupyter-widgets/base",
          "model_name": "LayoutModel",
          "model_module_version": "1.2.0",
          "state": {
            "_model_module": "@jupyter-widgets/base",
            "_model_module_version": "1.2.0",
            "_model_name": "LayoutModel",
            "_view_count": null,
            "_view_module": "@jupyter-widgets/base",
            "_view_module_version": "1.2.0",
            "_view_name": "LayoutView",
            "align_content": null,
            "align_items": null,
            "align_self": null,
            "border": null,
            "bottom": null,
            "display": null,
            "flex": null,
            "flex_flow": null,
            "grid_area": null,
            "grid_auto_columns": null,
            "grid_auto_flow": null,
            "grid_auto_rows": null,
            "grid_column": null,
            "grid_gap": null,
            "grid_row": null,
            "grid_template_areas": null,
            "grid_template_columns": null,
            "grid_template_rows": null,
            "height": null,
            "justify_content": null,
            "justify_items": null,
            "left": null,
            "margin": null,
            "max_height": null,
            "max_width": null,
            "min_height": null,
            "min_width": null,
            "object_fit": null,
            "object_position": null,
            "order": null,
            "overflow": null,
            "overflow_x": null,
            "overflow_y": null,
            "padding": null,
            "right": null,
            "top": null,
            "visibility": null,
            "width": null
          }
        },
        "5e1443ccc54e45e1ae18790d9e6848bf": {
          "model_module": "@jupyter-widgets/controls",
          "model_name": "DescriptionStyleModel",
          "model_module_version": "1.5.0",
          "state": {
            "_model_module": "@jupyter-widgets/controls",
            "_model_module_version": "1.5.0",
            "_model_name": "DescriptionStyleModel",
            "_view_count": null,
            "_view_module": "@jupyter-widgets/base",
            "_view_module_version": "1.2.0",
            "_view_name": "StyleView",
            "description_width": ""
          }
        },
        "4ef43131cfd54b9dbf24442dca926221": {
          "model_module": "@jupyter-widgets/base",
          "model_name": "LayoutModel",
          "model_module_version": "1.2.0",
          "state": {
            "_model_module": "@jupyter-widgets/base",
            "_model_module_version": "1.2.0",
            "_model_name": "LayoutModel",
            "_view_count": null,
            "_view_module": "@jupyter-widgets/base",
            "_view_module_version": "1.2.0",
            "_view_name": "LayoutView",
            "align_content": null,
            "align_items": null,
            "align_self": null,
            "border": null,
            "bottom": null,
            "display": null,
            "flex": null,
            "flex_flow": null,
            "grid_area": null,
            "grid_auto_columns": null,
            "grid_auto_flow": null,
            "grid_auto_rows": null,
            "grid_column": null,
            "grid_gap": null,
            "grid_row": null,
            "grid_template_areas": null,
            "grid_template_columns": null,
            "grid_template_rows": null,
            "height": null,
            "justify_content": null,
            "justify_items": null,
            "left": null,
            "margin": null,
            "max_height": null,
            "max_width": null,
            "min_height": null,
            "min_width": null,
            "object_fit": null,
            "object_position": null,
            "order": null,
            "overflow": null,
            "overflow_x": null,
            "overflow_y": null,
            "padding": null,
            "right": null,
            "top": null,
            "visibility": null,
            "width": null
          }
        },
        "3ec3254846ea494fb94eb1f5d1c881e2": {
          "model_module": "@jupyter-widgets/controls",
          "model_name": "ProgressStyleModel",
          "model_module_version": "1.5.0",
          "state": {
            "_model_module": "@jupyter-widgets/controls",
            "_model_module_version": "1.5.0",
            "_model_name": "ProgressStyleModel",
            "_view_count": null,
            "_view_module": "@jupyter-widgets/base",
            "_view_module_version": "1.2.0",
            "_view_name": "StyleView",
            "bar_color": null,
            "description_width": ""
          }
        },
        "1c82e01a54e942499710e6ab8e6f0d1d": {
          "model_module": "@jupyter-widgets/base",
          "model_name": "LayoutModel",
          "model_module_version": "1.2.0",
          "state": {
            "_model_module": "@jupyter-widgets/base",
            "_model_module_version": "1.2.0",
            "_model_name": "LayoutModel",
            "_view_count": null,
            "_view_module": "@jupyter-widgets/base",
            "_view_module_version": "1.2.0",
            "_view_name": "LayoutView",
            "align_content": null,
            "align_items": null,
            "align_self": null,
            "border": null,
            "bottom": null,
            "display": null,
            "flex": null,
            "flex_flow": null,
            "grid_area": null,
            "grid_auto_columns": null,
            "grid_auto_flow": null,
            "grid_auto_rows": null,
            "grid_column": null,
            "grid_gap": null,
            "grid_row": null,
            "grid_template_areas": null,
            "grid_template_columns": null,
            "grid_template_rows": null,
            "height": null,
            "justify_content": null,
            "justify_items": null,
            "left": null,
            "margin": null,
            "max_height": null,
            "max_width": null,
            "min_height": null,
            "min_width": null,
            "object_fit": null,
            "object_position": null,
            "order": null,
            "overflow": null,
            "overflow_x": null,
            "overflow_y": null,
            "padding": null,
            "right": null,
            "top": null,
            "visibility": null,
            "width": null
          }
        },
        "df4a818565fd4475a1b7f0135156426a": {
          "model_module": "@jupyter-widgets/controls",
          "model_name": "DescriptionStyleModel",
          "model_module_version": "1.5.0",
          "state": {
            "_model_module": "@jupyter-widgets/controls",
            "_model_module_version": "1.5.0",
            "_model_name": "DescriptionStyleModel",
            "_view_count": null,
            "_view_module": "@jupyter-widgets/base",
            "_view_module_version": "1.2.0",
            "_view_name": "StyleView",
            "description_width": ""
          }
        },
        "0aaabb5c9a6440c68d0f5885871154b7": {
          "model_module": "@jupyter-widgets/controls",
          "model_name": "HBoxModel",
          "model_module_version": "1.5.0",
          "state": {
            "_dom_classes": [],
            "_model_module": "@jupyter-widgets/controls",
            "_model_module_version": "1.5.0",
            "_model_name": "HBoxModel",
            "_view_count": null,
            "_view_module": "@jupyter-widgets/controls",
            "_view_module_version": "1.5.0",
            "_view_name": "HBoxView",
            "box_style": "",
            "children": [
              "IPY_MODEL_6fe69887876c48438fd51c961ff1bbe8",
              "IPY_MODEL_19ec774d035e4f4d90c39f9d355bbf75",
              "IPY_MODEL_668ef7489b254321b89040aca95acc87"
            ],
            "layout": "IPY_MODEL_f2bb39cd07364ec296f2a8edb061b04b"
          }
        },
        "6fe69887876c48438fd51c961ff1bbe8": {
          "model_module": "@jupyter-widgets/controls",
          "model_name": "HTMLModel",
          "model_module_version": "1.5.0",
          "state": {
            "_dom_classes": [],
            "_model_module": "@jupyter-widgets/controls",
            "_model_module_version": "1.5.0",
            "_model_name": "HTMLModel",
            "_view_count": null,
            "_view_module": "@jupyter-widgets/controls",
            "_view_module_version": "1.5.0",
            "_view_name": "HTMLView",
            "description": "",
            "description_tooltip": null,
            "layout": "IPY_MODEL_c5e5f3decb164f23812e8c0300c04cd5",
            "placeholder": "​",
            "style": "IPY_MODEL_a00e49c47c3f4a7c9dd3b8c82882696c",
            "value": "tokenizer_config.json: 100%"
          }
        },
        "19ec774d035e4f4d90c39f9d355bbf75": {
          "model_module": "@jupyter-widgets/controls",
          "model_name": "FloatProgressModel",
          "model_module_version": "1.5.0",
          "state": {
            "_dom_classes": [],
            "_model_module": "@jupyter-widgets/controls",
            "_model_module_version": "1.5.0",
            "_model_name": "FloatProgressModel",
            "_view_count": null,
            "_view_module": "@jupyter-widgets/controls",
            "_view_module_version": "1.5.0",
            "_view_name": "ProgressView",
            "bar_style": "success",
            "description": "",
            "description_tooltip": null,
            "layout": "IPY_MODEL_4c0fa70a02254a8a87a196c388c60f42",
            "max": 50977,
            "min": 0,
            "orientation": "horizontal",
            "style": "IPY_MODEL_88698ea2d90f456d9f9e2afbd0703364",
            "value": 50977
          }
        },
        "668ef7489b254321b89040aca95acc87": {
          "model_module": "@jupyter-widgets/controls",
          "model_name": "HTMLModel",
          "model_module_version": "1.5.0",
          "state": {
            "_dom_classes": [],
            "_model_module": "@jupyter-widgets/controls",
            "_model_module_version": "1.5.0",
            "_model_name": "HTMLModel",
            "_view_count": null,
            "_view_module": "@jupyter-widgets/controls",
            "_view_module_version": "1.5.0",
            "_view_name": "HTMLView",
            "description": "",
            "description_tooltip": null,
            "layout": "IPY_MODEL_8777596b115445cd9db357f762cdfc57",
            "placeholder": "​",
            "style": "IPY_MODEL_41b554440d3f4c63b0536ac1e081b2b3",
            "value": " 51.0k/51.0k [00:00&lt;00:00, 794kB/s]"
          }
        },
        "f2bb39cd07364ec296f2a8edb061b04b": {
          "model_module": "@jupyter-widgets/base",
          "model_name": "LayoutModel",
          "model_module_version": "1.2.0",
          "state": {
            "_model_module": "@jupyter-widgets/base",
            "_model_module_version": "1.2.0",
            "_model_name": "LayoutModel",
            "_view_count": null,
            "_view_module": "@jupyter-widgets/base",
            "_view_module_version": "1.2.0",
            "_view_name": "LayoutView",
            "align_content": null,
            "align_items": null,
            "align_self": null,
            "border": null,
            "bottom": null,
            "display": null,
            "flex": null,
            "flex_flow": null,
            "grid_area": null,
            "grid_auto_columns": null,
            "grid_auto_flow": null,
            "grid_auto_rows": null,
            "grid_column": null,
            "grid_gap": null,
            "grid_row": null,
            "grid_template_areas": null,
            "grid_template_columns": null,
            "grid_template_rows": null,
            "height": null,
            "justify_content": null,
            "justify_items": null,
            "left": null,
            "margin": null,
            "max_height": null,
            "max_width": null,
            "min_height": null,
            "min_width": null,
            "object_fit": null,
            "object_position": null,
            "order": null,
            "overflow": null,
            "overflow_x": null,
            "overflow_y": null,
            "padding": null,
            "right": null,
            "top": null,
            "visibility": null,
            "width": null
          }
        },
        "c5e5f3decb164f23812e8c0300c04cd5": {
          "model_module": "@jupyter-widgets/base",
          "model_name": "LayoutModel",
          "model_module_version": "1.2.0",
          "state": {
            "_model_module": "@jupyter-widgets/base",
            "_model_module_version": "1.2.0",
            "_model_name": "LayoutModel",
            "_view_count": null,
            "_view_module": "@jupyter-widgets/base",
            "_view_module_version": "1.2.0",
            "_view_name": "LayoutView",
            "align_content": null,
            "align_items": null,
            "align_self": null,
            "border": null,
            "bottom": null,
            "display": null,
            "flex": null,
            "flex_flow": null,
            "grid_area": null,
            "grid_auto_columns": null,
            "grid_auto_flow": null,
            "grid_auto_rows": null,
            "grid_column": null,
            "grid_gap": null,
            "grid_row": null,
            "grid_template_areas": null,
            "grid_template_columns": null,
            "grid_template_rows": null,
            "height": null,
            "justify_content": null,
            "justify_items": null,
            "left": null,
            "margin": null,
            "max_height": null,
            "max_width": null,
            "min_height": null,
            "min_width": null,
            "object_fit": null,
            "object_position": null,
            "order": null,
            "overflow": null,
            "overflow_x": null,
            "overflow_y": null,
            "padding": null,
            "right": null,
            "top": null,
            "visibility": null,
            "width": null
          }
        },
        "a00e49c47c3f4a7c9dd3b8c82882696c": {
          "model_module": "@jupyter-widgets/controls",
          "model_name": "DescriptionStyleModel",
          "model_module_version": "1.5.0",
          "state": {
            "_model_module": "@jupyter-widgets/controls",
            "_model_module_version": "1.5.0",
            "_model_name": "DescriptionStyleModel",
            "_view_count": null,
            "_view_module": "@jupyter-widgets/base",
            "_view_module_version": "1.2.0",
            "_view_name": "StyleView",
            "description_width": ""
          }
        },
        "4c0fa70a02254a8a87a196c388c60f42": {
          "model_module": "@jupyter-widgets/base",
          "model_name": "LayoutModel",
          "model_module_version": "1.2.0",
          "state": {
            "_model_module": "@jupyter-widgets/base",
            "_model_module_version": "1.2.0",
            "_model_name": "LayoutModel",
            "_view_count": null,
            "_view_module": "@jupyter-widgets/base",
            "_view_module_version": "1.2.0",
            "_view_name": "LayoutView",
            "align_content": null,
            "align_items": null,
            "align_self": null,
            "border": null,
            "bottom": null,
            "display": null,
            "flex": null,
            "flex_flow": null,
            "grid_area": null,
            "grid_auto_columns": null,
            "grid_auto_flow": null,
            "grid_auto_rows": null,
            "grid_column": null,
            "grid_gap": null,
            "grid_row": null,
            "grid_template_areas": null,
            "grid_template_columns": null,
            "grid_template_rows": null,
            "height": null,
            "justify_content": null,
            "justify_items": null,
            "left": null,
            "margin": null,
            "max_height": null,
            "max_width": null,
            "min_height": null,
            "min_width": null,
            "object_fit": null,
            "object_position": null,
            "order": null,
            "overflow": null,
            "overflow_x": null,
            "overflow_y": null,
            "padding": null,
            "right": null,
            "top": null,
            "visibility": null,
            "width": null
          }
        },
        "88698ea2d90f456d9f9e2afbd0703364": {
          "model_module": "@jupyter-widgets/controls",
          "model_name": "ProgressStyleModel",
          "model_module_version": "1.5.0",
          "state": {
            "_model_module": "@jupyter-widgets/controls",
            "_model_module_version": "1.5.0",
            "_model_name": "ProgressStyleModel",
            "_view_count": null,
            "_view_module": "@jupyter-widgets/base",
            "_view_module_version": "1.2.0",
            "_view_name": "StyleView",
            "bar_color": null,
            "description_width": ""
          }
        },
        "8777596b115445cd9db357f762cdfc57": {
          "model_module": "@jupyter-widgets/base",
          "model_name": "LayoutModel",
          "model_module_version": "1.2.0",
          "state": {
            "_model_module": "@jupyter-widgets/base",
            "_model_module_version": "1.2.0",
            "_model_name": "LayoutModel",
            "_view_count": null,
            "_view_module": "@jupyter-widgets/base",
            "_view_module_version": "1.2.0",
            "_view_name": "LayoutView",
            "align_content": null,
            "align_items": null,
            "align_self": null,
            "border": null,
            "bottom": null,
            "display": null,
            "flex": null,
            "flex_flow": null,
            "grid_area": null,
            "grid_auto_columns": null,
            "grid_auto_flow": null,
            "grid_auto_rows": null,
            "grid_column": null,
            "grid_gap": null,
            "grid_row": null,
            "grid_template_areas": null,
            "grid_template_columns": null,
            "grid_template_rows": null,
            "height": null,
            "justify_content": null,
            "justify_items": null,
            "left": null,
            "margin": null,
            "max_height": null,
            "max_width": null,
            "min_height": null,
            "min_width": null,
            "object_fit": null,
            "object_position": null,
            "order": null,
            "overflow": null,
            "overflow_x": null,
            "overflow_y": null,
            "padding": null,
            "right": null,
            "top": null,
            "visibility": null,
            "width": null
          }
        },
        "41b554440d3f4c63b0536ac1e081b2b3": {
          "model_module": "@jupyter-widgets/controls",
          "model_name": "DescriptionStyleModel",
          "model_module_version": "1.5.0",
          "state": {
            "_model_module": "@jupyter-widgets/controls",
            "_model_module_version": "1.5.0",
            "_model_name": "DescriptionStyleModel",
            "_view_count": null,
            "_view_module": "@jupyter-widgets/base",
            "_view_module_version": "1.2.0",
            "_view_name": "StyleView",
            "description_width": ""
          }
        },
        "e9f784f7974d458f9a6c84d0dad9d778": {
          "model_module": "@jupyter-widgets/controls",
          "model_name": "HBoxModel",
          "model_module_version": "1.5.0",
          "state": {
            "_dom_classes": [],
            "_model_module": "@jupyter-widgets/controls",
            "_model_module_version": "1.5.0",
            "_model_name": "HBoxModel",
            "_view_count": null,
            "_view_module": "@jupyter-widgets/controls",
            "_view_module_version": "1.5.0",
            "_view_name": "HBoxView",
            "box_style": "",
            "children": [
              "IPY_MODEL_84171d34a67d4c3e9e1ef6e47d4c010c",
              "IPY_MODEL_2563f02f35284a7f8cc641cb0e666568",
              "IPY_MODEL_9f8d6721663d447d95d4f5bc33d3019d"
            ],
            "layout": "IPY_MODEL_373773e697104daf8b35c67d11faa61d"
          }
        },
        "84171d34a67d4c3e9e1ef6e47d4c010c": {
          "model_module": "@jupyter-widgets/controls",
          "model_name": "HTMLModel",
          "model_module_version": "1.5.0",
          "state": {
            "_dom_classes": [],
            "_model_module": "@jupyter-widgets/controls",
            "_model_module_version": "1.5.0",
            "_model_name": "HTMLModel",
            "_view_count": null,
            "_view_module": "@jupyter-widgets/controls",
            "_view_module_version": "1.5.0",
            "_view_name": "HTMLView",
            "description": "",
            "description_tooltip": null,
            "layout": "IPY_MODEL_e5e84996b7724d428363e5e1f85db3eb",
            "placeholder": "​",
            "style": "IPY_MODEL_d24c951438a84a9f869c3d938a2d5b2c",
            "value": "tokenizer.json: 100%"
          }
        },
        "2563f02f35284a7f8cc641cb0e666568": {
          "model_module": "@jupyter-widgets/controls",
          "model_name": "FloatProgressModel",
          "model_module_version": "1.5.0",
          "state": {
            "_dom_classes": [],
            "_model_module": "@jupyter-widgets/controls",
            "_model_module_version": "1.5.0",
            "_model_name": "FloatProgressModel",
            "_view_count": null,
            "_view_module": "@jupyter-widgets/controls",
            "_view_module_version": "1.5.0",
            "_view_name": "ProgressView",
            "bar_style": "success",
            "description": "",
            "description_tooltip": null,
            "layout": "IPY_MODEL_cacf73b3551f4eed802480dc709baa33",
            "max": 9085698,
            "min": 0,
            "orientation": "horizontal",
            "style": "IPY_MODEL_1e653f4f19a74f909dbc9e3bd6bf0bf3",
            "value": 9085698
          }
        },
        "9f8d6721663d447d95d4f5bc33d3019d": {
          "model_module": "@jupyter-widgets/controls",
          "model_name": "HTMLModel",
          "model_module_version": "1.5.0",
          "state": {
            "_dom_classes": [],
            "_model_module": "@jupyter-widgets/controls",
            "_model_module_version": "1.5.0",
            "_model_name": "HTMLModel",
            "_view_count": null,
            "_view_module": "@jupyter-widgets/controls",
            "_view_module_version": "1.5.0",
            "_view_name": "HTMLView",
            "description": "",
            "description_tooltip": null,
            "layout": "IPY_MODEL_f7cc8e5e2a2d4d7a9c954331d235344d",
            "placeholder": "​",
            "style": "IPY_MODEL_5a6f2148d87f4bc28bdf6d6dfea3d304",
            "value": " 9.09M/9.09M [00:01&lt;00:00, 5.95MB/s]"
          }
        },
        "373773e697104daf8b35c67d11faa61d": {
          "model_module": "@jupyter-widgets/base",
          "model_name": "LayoutModel",
          "model_module_version": "1.2.0",
          "state": {
            "_model_module": "@jupyter-widgets/base",
            "_model_module_version": "1.2.0",
            "_model_name": "LayoutModel",
            "_view_count": null,
            "_view_module": "@jupyter-widgets/base",
            "_view_module_version": "1.2.0",
            "_view_name": "LayoutView",
            "align_content": null,
            "align_items": null,
            "align_self": null,
            "border": null,
            "bottom": null,
            "display": null,
            "flex": null,
            "flex_flow": null,
            "grid_area": null,
            "grid_auto_columns": null,
            "grid_auto_flow": null,
            "grid_auto_rows": null,
            "grid_column": null,
            "grid_gap": null,
            "grid_row": null,
            "grid_template_areas": null,
            "grid_template_columns": null,
            "grid_template_rows": null,
            "height": null,
            "justify_content": null,
            "justify_items": null,
            "left": null,
            "margin": null,
            "max_height": null,
            "max_width": null,
            "min_height": null,
            "min_width": null,
            "object_fit": null,
            "object_position": null,
            "order": null,
            "overflow": null,
            "overflow_x": null,
            "overflow_y": null,
            "padding": null,
            "right": null,
            "top": null,
            "visibility": null,
            "width": null
          }
        },
        "e5e84996b7724d428363e5e1f85db3eb": {
          "model_module": "@jupyter-widgets/base",
          "model_name": "LayoutModel",
          "model_module_version": "1.2.0",
          "state": {
            "_model_module": "@jupyter-widgets/base",
            "_model_module_version": "1.2.0",
            "_model_name": "LayoutModel",
            "_view_count": null,
            "_view_module": "@jupyter-widgets/base",
            "_view_module_version": "1.2.0",
            "_view_name": "LayoutView",
            "align_content": null,
            "align_items": null,
            "align_self": null,
            "border": null,
            "bottom": null,
            "display": null,
            "flex": null,
            "flex_flow": null,
            "grid_area": null,
            "grid_auto_columns": null,
            "grid_auto_flow": null,
            "grid_auto_rows": null,
            "grid_column": null,
            "grid_gap": null,
            "grid_row": null,
            "grid_template_areas": null,
            "grid_template_columns": null,
            "grid_template_rows": null,
            "height": null,
            "justify_content": null,
            "justify_items": null,
            "left": null,
            "margin": null,
            "max_height": null,
            "max_width": null,
            "min_height": null,
            "min_width": null,
            "object_fit": null,
            "object_position": null,
            "order": null,
            "overflow": null,
            "overflow_x": null,
            "overflow_y": null,
            "padding": null,
            "right": null,
            "top": null,
            "visibility": null,
            "width": null
          }
        },
        "d24c951438a84a9f869c3d938a2d5b2c": {
          "model_module": "@jupyter-widgets/controls",
          "model_name": "DescriptionStyleModel",
          "model_module_version": "1.5.0",
          "state": {
            "_model_module": "@jupyter-widgets/controls",
            "_model_module_version": "1.5.0",
            "_model_name": "DescriptionStyleModel",
            "_view_count": null,
            "_view_module": "@jupyter-widgets/base",
            "_view_module_version": "1.2.0",
            "_view_name": "StyleView",
            "description_width": ""
          }
        },
        "cacf73b3551f4eed802480dc709baa33": {
          "model_module": "@jupyter-widgets/base",
          "model_name": "LayoutModel",
          "model_module_version": "1.2.0",
          "state": {
            "_model_module": "@jupyter-widgets/base",
            "_model_module_version": "1.2.0",
            "_model_name": "LayoutModel",
            "_view_count": null,
            "_view_module": "@jupyter-widgets/base",
            "_view_module_version": "1.2.0",
            "_view_name": "LayoutView",
            "align_content": null,
            "align_items": null,
            "align_self": null,
            "border": null,
            "bottom": null,
            "display": null,
            "flex": null,
            "flex_flow": null,
            "grid_area": null,
            "grid_auto_columns": null,
            "grid_auto_flow": null,
            "grid_auto_rows": null,
            "grid_column": null,
            "grid_gap": null,
            "grid_row": null,
            "grid_template_areas": null,
            "grid_template_columns": null,
            "grid_template_rows": null,
            "height": null,
            "justify_content": null,
            "justify_items": null,
            "left": null,
            "margin": null,
            "max_height": null,
            "max_width": null,
            "min_height": null,
            "min_width": null,
            "object_fit": null,
            "object_position": null,
            "order": null,
            "overflow": null,
            "overflow_x": null,
            "overflow_y": null,
            "padding": null,
            "right": null,
            "top": null,
            "visibility": null,
            "width": null
          }
        },
        "1e653f4f19a74f909dbc9e3bd6bf0bf3": {
          "model_module": "@jupyter-widgets/controls",
          "model_name": "ProgressStyleModel",
          "model_module_version": "1.5.0",
          "state": {
            "_model_module": "@jupyter-widgets/controls",
            "_model_module_version": "1.5.0",
            "_model_name": "ProgressStyleModel",
            "_view_count": null,
            "_view_module": "@jupyter-widgets/base",
            "_view_module_version": "1.2.0",
            "_view_name": "StyleView",
            "bar_color": null,
            "description_width": ""
          }
        },
        "f7cc8e5e2a2d4d7a9c954331d235344d": {
          "model_module": "@jupyter-widgets/base",
          "model_name": "LayoutModel",
          "model_module_version": "1.2.0",
          "state": {
            "_model_module": "@jupyter-widgets/base",
            "_model_module_version": "1.2.0",
            "_model_name": "LayoutModel",
            "_view_count": null,
            "_view_module": "@jupyter-widgets/base",
            "_view_module_version": "1.2.0",
            "_view_name": "LayoutView",
            "align_content": null,
            "align_items": null,
            "align_self": null,
            "border": null,
            "bottom": null,
            "display": null,
            "flex": null,
            "flex_flow": null,
            "grid_area": null,
            "grid_auto_columns": null,
            "grid_auto_flow": null,
            "grid_auto_rows": null,
            "grid_column": null,
            "grid_gap": null,
            "grid_row": null,
            "grid_template_areas": null,
            "grid_template_columns": null,
            "grid_template_rows": null,
            "height": null,
            "justify_content": null,
            "justify_items": null,
            "left": null,
            "margin": null,
            "max_height": null,
            "max_width": null,
            "min_height": null,
            "min_width": null,
            "object_fit": null,
            "object_position": null,
            "order": null,
            "overflow": null,
            "overflow_x": null,
            "overflow_y": null,
            "padding": null,
            "right": null,
            "top": null,
            "visibility": null,
            "width": null
          }
        },
        "5a6f2148d87f4bc28bdf6d6dfea3d304": {
          "model_module": "@jupyter-widgets/controls",
          "model_name": "DescriptionStyleModel",
          "model_module_version": "1.5.0",
          "state": {
            "_model_module": "@jupyter-widgets/controls",
            "_model_module_version": "1.5.0",
            "_model_name": "DescriptionStyleModel",
            "_view_count": null,
            "_view_module": "@jupyter-widgets/base",
            "_view_module_version": "1.2.0",
            "_view_name": "StyleView",
            "description_width": ""
          }
        },
        "2411232a1c53460cbfad9e8be2734a3d": {
          "model_module": "@jupyter-widgets/controls",
          "model_name": "HBoxModel",
          "model_module_version": "1.5.0",
          "state": {
            "_dom_classes": [],
            "_model_module": "@jupyter-widgets/controls",
            "_model_module_version": "1.5.0",
            "_model_name": "HBoxModel",
            "_view_count": null,
            "_view_module": "@jupyter-widgets/controls",
            "_view_module_version": "1.5.0",
            "_view_name": "HBoxView",
            "box_style": "",
            "children": [
              "IPY_MODEL_a38f6064ac9c4412bcf6c8eea4344649",
              "IPY_MODEL_7cc11dad35db439db4bdd9236d1a6e67",
              "IPY_MODEL_9a0b5e5927b944f989293614b78b9c70"
            ],
            "layout": "IPY_MODEL_1d936cd3caf34a9aa41fd6f8c35ac5b3"
          }
        },
        "a38f6064ac9c4412bcf6c8eea4344649": {
          "model_module": "@jupyter-widgets/controls",
          "model_name": "HTMLModel",
          "model_module_version": "1.5.0",
          "state": {
            "_dom_classes": [],
            "_model_module": "@jupyter-widgets/controls",
            "_model_module_version": "1.5.0",
            "_model_name": "HTMLModel",
            "_view_count": null,
            "_view_module": "@jupyter-widgets/controls",
            "_view_module_version": "1.5.0",
            "_view_name": "HTMLView",
            "description": "",
            "description_tooltip": null,
            "layout": "IPY_MODEL_022bf9a18cb5406e9e6f532b09e8edaf",
            "placeholder": "​",
            "style": "IPY_MODEL_77ed04a8ed0848c988fafd27dd198a96",
            "value": "special_tokens_map.json: 100%"
          }
        },
        "7cc11dad35db439db4bdd9236d1a6e67": {
          "model_module": "@jupyter-widgets/controls",
          "model_name": "FloatProgressModel",
          "model_module_version": "1.5.0",
          "state": {
            "_dom_classes": [],
            "_model_module": "@jupyter-widgets/controls",
            "_model_module_version": "1.5.0",
            "_model_name": "FloatProgressModel",
            "_view_count": null,
            "_view_module": "@jupyter-widgets/controls",
            "_view_module_version": "1.5.0",
            "_view_name": "ProgressView",
            "bar_style": "success",
            "description": "",
            "description_tooltip": null,
            "layout": "IPY_MODEL_a33928cc1b844d378136e30632c2c129",
            "max": 73,
            "min": 0,
            "orientation": "horizontal",
            "style": "IPY_MODEL_9dbe5130fda4469cb98f2279c481fad4",
            "value": 73
          }
        },
        "9a0b5e5927b944f989293614b78b9c70": {
          "model_module": "@jupyter-widgets/controls",
          "model_name": "HTMLModel",
          "model_module_version": "1.5.0",
          "state": {
            "_dom_classes": [],
            "_model_module": "@jupyter-widgets/controls",
            "_model_module_version": "1.5.0",
            "_model_name": "HTMLModel",
            "_view_count": null,
            "_view_module": "@jupyter-widgets/controls",
            "_view_module_version": "1.5.0",
            "_view_name": "HTMLView",
            "description": "",
            "description_tooltip": null,
            "layout": "IPY_MODEL_eafe57ad94f1454f80327abff9834e85",
            "placeholder": "​",
            "style": "IPY_MODEL_aacc5dd5a47144a18454e0d41c8fab96",
            "value": " 73.0/73.0 [00:00&lt;00:00, 2.30kB/s]"
          }
        },
        "1d936cd3caf34a9aa41fd6f8c35ac5b3": {
          "model_module": "@jupyter-widgets/base",
          "model_name": "LayoutModel",
          "model_module_version": "1.2.0",
          "state": {
            "_model_module": "@jupyter-widgets/base",
            "_model_module_version": "1.2.0",
            "_model_name": "LayoutModel",
            "_view_count": null,
            "_view_module": "@jupyter-widgets/base",
            "_view_module_version": "1.2.0",
            "_view_name": "LayoutView",
            "align_content": null,
            "align_items": null,
            "align_self": null,
            "border": null,
            "bottom": null,
            "display": null,
            "flex": null,
            "flex_flow": null,
            "grid_area": null,
            "grid_auto_columns": null,
            "grid_auto_flow": null,
            "grid_auto_rows": null,
            "grid_column": null,
            "grid_gap": null,
            "grid_row": null,
            "grid_template_areas": null,
            "grid_template_columns": null,
            "grid_template_rows": null,
            "height": null,
            "justify_content": null,
            "justify_items": null,
            "left": null,
            "margin": null,
            "max_height": null,
            "max_width": null,
            "min_height": null,
            "min_width": null,
            "object_fit": null,
            "object_position": null,
            "order": null,
            "overflow": null,
            "overflow_x": null,
            "overflow_y": null,
            "padding": null,
            "right": null,
            "top": null,
            "visibility": null,
            "width": null
          }
        },
        "022bf9a18cb5406e9e6f532b09e8edaf": {
          "model_module": "@jupyter-widgets/base",
          "model_name": "LayoutModel",
          "model_module_version": "1.2.0",
          "state": {
            "_model_module": "@jupyter-widgets/base",
            "_model_module_version": "1.2.0",
            "_model_name": "LayoutModel",
            "_view_count": null,
            "_view_module": "@jupyter-widgets/base",
            "_view_module_version": "1.2.0",
            "_view_name": "LayoutView",
            "align_content": null,
            "align_items": null,
            "align_self": null,
            "border": null,
            "bottom": null,
            "display": null,
            "flex": null,
            "flex_flow": null,
            "grid_area": null,
            "grid_auto_columns": null,
            "grid_auto_flow": null,
            "grid_auto_rows": null,
            "grid_column": null,
            "grid_gap": null,
            "grid_row": null,
            "grid_template_areas": null,
            "grid_template_columns": null,
            "grid_template_rows": null,
            "height": null,
            "justify_content": null,
            "justify_items": null,
            "left": null,
            "margin": null,
            "max_height": null,
            "max_width": null,
            "min_height": null,
            "min_width": null,
            "object_fit": null,
            "object_position": null,
            "order": null,
            "overflow": null,
            "overflow_x": null,
            "overflow_y": null,
            "padding": null,
            "right": null,
            "top": null,
            "visibility": null,
            "width": null
          }
        },
        "77ed04a8ed0848c988fafd27dd198a96": {
          "model_module": "@jupyter-widgets/controls",
          "model_name": "DescriptionStyleModel",
          "model_module_version": "1.5.0",
          "state": {
            "_model_module": "@jupyter-widgets/controls",
            "_model_module_version": "1.5.0",
            "_model_name": "DescriptionStyleModel",
            "_view_count": null,
            "_view_module": "@jupyter-widgets/base",
            "_view_module_version": "1.2.0",
            "_view_name": "StyleView",
            "description_width": ""
          }
        },
        "a33928cc1b844d378136e30632c2c129": {
          "model_module": "@jupyter-widgets/base",
          "model_name": "LayoutModel",
          "model_module_version": "1.2.0",
          "state": {
            "_model_module": "@jupyter-widgets/base",
            "_model_module_version": "1.2.0",
            "_model_name": "LayoutModel",
            "_view_count": null,
            "_view_module": "@jupyter-widgets/base",
            "_view_module_version": "1.2.0",
            "_view_name": "LayoutView",
            "align_content": null,
            "align_items": null,
            "align_self": null,
            "border": null,
            "bottom": null,
            "display": null,
            "flex": null,
            "flex_flow": null,
            "grid_area": null,
            "grid_auto_columns": null,
            "grid_auto_flow": null,
            "grid_auto_rows": null,
            "grid_column": null,
            "grid_gap": null,
            "grid_row": null,
            "grid_template_areas": null,
            "grid_template_columns": null,
            "grid_template_rows": null,
            "height": null,
            "justify_content": null,
            "justify_items": null,
            "left": null,
            "margin": null,
            "max_height": null,
            "max_width": null,
            "min_height": null,
            "min_width": null,
            "object_fit": null,
            "object_position": null,
            "order": null,
            "overflow": null,
            "overflow_x": null,
            "overflow_y": null,
            "padding": null,
            "right": null,
            "top": null,
            "visibility": null,
            "width": null
          }
        },
        "9dbe5130fda4469cb98f2279c481fad4": {
          "model_module": "@jupyter-widgets/controls",
          "model_name": "ProgressStyleModel",
          "model_module_version": "1.5.0",
          "state": {
            "_model_module": "@jupyter-widgets/controls",
            "_model_module_version": "1.5.0",
            "_model_name": "ProgressStyleModel",
            "_view_count": null,
            "_view_module": "@jupyter-widgets/base",
            "_view_module_version": "1.2.0",
            "_view_name": "StyleView",
            "bar_color": null,
            "description_width": ""
          }
        },
        "eafe57ad94f1454f80327abff9834e85": {
          "model_module": "@jupyter-widgets/base",
          "model_name": "LayoutModel",
          "model_module_version": "1.2.0",
          "state": {
            "_model_module": "@jupyter-widgets/base",
            "_model_module_version": "1.2.0",
            "_model_name": "LayoutModel",
            "_view_count": null,
            "_view_module": "@jupyter-widgets/base",
            "_view_module_version": "1.2.0",
            "_view_name": "LayoutView",
            "align_content": null,
            "align_items": null,
            "align_self": null,
            "border": null,
            "bottom": null,
            "display": null,
            "flex": null,
            "flex_flow": null,
            "grid_area": null,
            "grid_auto_columns": null,
            "grid_auto_flow": null,
            "grid_auto_rows": null,
            "grid_column": null,
            "grid_gap": null,
            "grid_row": null,
            "grid_template_areas": null,
            "grid_template_columns": null,
            "grid_template_rows": null,
            "height": null,
            "justify_content": null,
            "justify_items": null,
            "left": null,
            "margin": null,
            "max_height": null,
            "max_width": null,
            "min_height": null,
            "min_width": null,
            "object_fit": null,
            "object_position": null,
            "order": null,
            "overflow": null,
            "overflow_x": null,
            "overflow_y": null,
            "padding": null,
            "right": null,
            "top": null,
            "visibility": null,
            "width": null
          }
        },
        "aacc5dd5a47144a18454e0d41c8fab96": {
          "model_module": "@jupyter-widgets/controls",
          "model_name": "DescriptionStyleModel",
          "model_module_version": "1.5.0",
          "state": {
            "_model_module": "@jupyter-widgets/controls",
            "_model_module_version": "1.5.0",
            "_model_name": "DescriptionStyleModel",
            "_view_count": null,
            "_view_module": "@jupyter-widgets/base",
            "_view_module_version": "1.2.0",
            "_view_name": "StyleView",
            "description_width": ""
          }
        },
        "186ecca99d4a44c88db3847bf0cb13ba": {
          "model_module": "@jupyter-widgets/controls",
          "model_name": "HBoxModel",
          "model_module_version": "1.5.0",
          "state": {
            "_dom_classes": [],
            "_model_module": "@jupyter-widgets/controls",
            "_model_module_version": "1.5.0",
            "_model_name": "HBoxModel",
            "_view_count": null,
            "_view_module": "@jupyter-widgets/controls",
            "_view_module_version": "1.5.0",
            "_view_name": "HBoxView",
            "box_style": "",
            "children": [
              "IPY_MODEL_b8369ea0ea3f4d23a0028c6cdae39473",
              "IPY_MODEL_836cbe3078074ea88491f231dc99cd13",
              "IPY_MODEL_67307a2b892d4bd7aa64daddb28f67fc"
            ],
            "layout": "IPY_MODEL_1bde3f744c9f4821990914ddbbe1fc3f"
          }
        },
        "b8369ea0ea3f4d23a0028c6cdae39473": {
          "model_module": "@jupyter-widgets/controls",
          "model_name": "HTMLModel",
          "model_module_version": "1.5.0",
          "state": {
            "_dom_classes": [],
            "_model_module": "@jupyter-widgets/controls",
            "_model_module_version": "1.5.0",
            "_model_name": "HTMLModel",
            "_view_count": null,
            "_view_module": "@jupyter-widgets/controls",
            "_view_module_version": "1.5.0",
            "_view_name": "HTMLView",
            "description": "",
            "description_tooltip": null,
            "layout": "IPY_MODEL_fedd6f691ea44570b1a70ad3a00b04f6",
            "placeholder": "​",
            "style": "IPY_MODEL_92db430d30be41a981673bebb7542143",
            "value": "modules.json: 100%"
          }
        },
        "836cbe3078074ea88491f231dc99cd13": {
          "model_module": "@jupyter-widgets/controls",
          "model_name": "FloatProgressModel",
          "model_module_version": "1.5.0",
          "state": {
            "_dom_classes": [],
            "_model_module": "@jupyter-widgets/controls",
            "_model_module_version": "1.5.0",
            "_model_name": "FloatProgressModel",
            "_view_count": null,
            "_view_module": "@jupyter-widgets/controls",
            "_view_module_version": "1.5.0",
            "_view_name": "ProgressView",
            "bar_style": "success",
            "description": "",
            "description_tooltip": null,
            "layout": "IPY_MODEL_3007c0f5727b4d82a69985e0711fee0a",
            "max": 349,
            "min": 0,
            "orientation": "horizontal",
            "style": "IPY_MODEL_65d3bec5cbde465e86233abd4f3e98ec",
            "value": 349
          }
        },
        "67307a2b892d4bd7aa64daddb28f67fc": {
          "model_module": "@jupyter-widgets/controls",
          "model_name": "HTMLModel",
          "model_module_version": "1.5.0",
          "state": {
            "_dom_classes": [],
            "_model_module": "@jupyter-widgets/controls",
            "_model_module_version": "1.5.0",
            "_model_name": "HTMLModel",
            "_view_count": null,
            "_view_module": "@jupyter-widgets/controls",
            "_view_module_version": "1.5.0",
            "_view_name": "HTMLView",
            "description": "",
            "description_tooltip": null,
            "layout": "IPY_MODEL_98d230cf447f423c90e0f927d1496032",
            "placeholder": "​",
            "style": "IPY_MODEL_0508479e7dcc48dd8085bfb72733326b",
            "value": " 349/349 [00:00&lt;00:00, 15.6kB/s]"
          }
        },
        "1bde3f744c9f4821990914ddbbe1fc3f": {
          "model_module": "@jupyter-widgets/base",
          "model_name": "LayoutModel",
          "model_module_version": "1.2.0",
          "state": {
            "_model_module": "@jupyter-widgets/base",
            "_model_module_version": "1.2.0",
            "_model_name": "LayoutModel",
            "_view_count": null,
            "_view_module": "@jupyter-widgets/base",
            "_view_module_version": "1.2.0",
            "_view_name": "LayoutView",
            "align_content": null,
            "align_items": null,
            "align_self": null,
            "border": null,
            "bottom": null,
            "display": null,
            "flex": null,
            "flex_flow": null,
            "grid_area": null,
            "grid_auto_columns": null,
            "grid_auto_flow": null,
            "grid_auto_rows": null,
            "grid_column": null,
            "grid_gap": null,
            "grid_row": null,
            "grid_template_areas": null,
            "grid_template_columns": null,
            "grid_template_rows": null,
            "height": null,
            "justify_content": null,
            "justify_items": null,
            "left": null,
            "margin": null,
            "max_height": null,
            "max_width": null,
            "min_height": null,
            "min_width": null,
            "object_fit": null,
            "object_position": null,
            "order": null,
            "overflow": null,
            "overflow_x": null,
            "overflow_y": null,
            "padding": null,
            "right": null,
            "top": null,
            "visibility": null,
            "width": null
          }
        },
        "fedd6f691ea44570b1a70ad3a00b04f6": {
          "model_module": "@jupyter-widgets/base",
          "model_name": "LayoutModel",
          "model_module_version": "1.2.0",
          "state": {
            "_model_module": "@jupyter-widgets/base",
            "_model_module_version": "1.2.0",
            "_model_name": "LayoutModel",
            "_view_count": null,
            "_view_module": "@jupyter-widgets/base",
            "_view_module_version": "1.2.0",
            "_view_name": "LayoutView",
            "align_content": null,
            "align_items": null,
            "align_self": null,
            "border": null,
            "bottom": null,
            "display": null,
            "flex": null,
            "flex_flow": null,
            "grid_area": null,
            "grid_auto_columns": null,
            "grid_auto_flow": null,
            "grid_auto_rows": null,
            "grid_column": null,
            "grid_gap": null,
            "grid_row": null,
            "grid_template_areas": null,
            "grid_template_columns": null,
            "grid_template_rows": null,
            "height": null,
            "justify_content": null,
            "justify_items": null,
            "left": null,
            "margin": null,
            "max_height": null,
            "max_width": null,
            "min_height": null,
            "min_width": null,
            "object_fit": null,
            "object_position": null,
            "order": null,
            "overflow": null,
            "overflow_x": null,
            "overflow_y": null,
            "padding": null,
            "right": null,
            "top": null,
            "visibility": null,
            "width": null
          }
        },
        "92db430d30be41a981673bebb7542143": {
          "model_module": "@jupyter-widgets/controls",
          "model_name": "DescriptionStyleModel",
          "model_module_version": "1.5.0",
          "state": {
            "_model_module": "@jupyter-widgets/controls",
            "_model_module_version": "1.5.0",
            "_model_name": "DescriptionStyleModel",
            "_view_count": null,
            "_view_module": "@jupyter-widgets/base",
            "_view_module_version": "1.2.0",
            "_view_name": "StyleView",
            "description_width": ""
          }
        },
        "3007c0f5727b4d82a69985e0711fee0a": {
          "model_module": "@jupyter-widgets/base",
          "model_name": "LayoutModel",
          "model_module_version": "1.2.0",
          "state": {
            "_model_module": "@jupyter-widgets/base",
            "_model_module_version": "1.2.0",
            "_model_name": "LayoutModel",
            "_view_count": null,
            "_view_module": "@jupyter-widgets/base",
            "_view_module_version": "1.2.0",
            "_view_name": "LayoutView",
            "align_content": null,
            "align_items": null,
            "align_self": null,
            "border": null,
            "bottom": null,
            "display": null,
            "flex": null,
            "flex_flow": null,
            "grid_area": null,
            "grid_auto_columns": null,
            "grid_auto_flow": null,
            "grid_auto_rows": null,
            "grid_column": null,
            "grid_gap": null,
            "grid_row": null,
            "grid_template_areas": null,
            "grid_template_columns": null,
            "grid_template_rows": null,
            "height": null,
            "justify_content": null,
            "justify_items": null,
            "left": null,
            "margin": null,
            "max_height": null,
            "max_width": null,
            "min_height": null,
            "min_width": null,
            "object_fit": null,
            "object_position": null,
            "order": null,
            "overflow": null,
            "overflow_x": null,
            "overflow_y": null,
            "padding": null,
            "right": null,
            "top": null,
            "visibility": null,
            "width": null
          }
        },
        "65d3bec5cbde465e86233abd4f3e98ec": {
          "model_module": "@jupyter-widgets/controls",
          "model_name": "ProgressStyleModel",
          "model_module_version": "1.5.0",
          "state": {
            "_model_module": "@jupyter-widgets/controls",
            "_model_module_version": "1.5.0",
            "_model_name": "ProgressStyleModel",
            "_view_count": null,
            "_view_module": "@jupyter-widgets/base",
            "_view_module_version": "1.2.0",
            "_view_name": "StyleView",
            "bar_color": null,
            "description_width": ""
          }
        },
        "98d230cf447f423c90e0f927d1496032": {
          "model_module": "@jupyter-widgets/base",
          "model_name": "LayoutModel",
          "model_module_version": "1.2.0",
          "state": {
            "_model_module": "@jupyter-widgets/base",
            "_model_module_version": "1.2.0",
            "_model_name": "LayoutModel",
            "_view_count": null,
            "_view_module": "@jupyter-widgets/base",
            "_view_module_version": "1.2.0",
            "_view_name": "LayoutView",
            "align_content": null,
            "align_items": null,
            "align_self": null,
            "border": null,
            "bottom": null,
            "display": null,
            "flex": null,
            "flex_flow": null,
            "grid_area": null,
            "grid_auto_columns": null,
            "grid_auto_flow": null,
            "grid_auto_rows": null,
            "grid_column": null,
            "grid_gap": null,
            "grid_row": null,
            "grid_template_areas": null,
            "grid_template_columns": null,
            "grid_template_rows": null,
            "height": null,
            "justify_content": null,
            "justify_items": null,
            "left": null,
            "margin": null,
            "max_height": null,
            "max_width": null,
            "min_height": null,
            "min_width": null,
            "object_fit": null,
            "object_position": null,
            "order": null,
            "overflow": null,
            "overflow_x": null,
            "overflow_y": null,
            "padding": null,
            "right": null,
            "top": null,
            "visibility": null,
            "width": null
          }
        },
        "0508479e7dcc48dd8085bfb72733326b": {
          "model_module": "@jupyter-widgets/controls",
          "model_name": "DescriptionStyleModel",
          "model_module_version": "1.5.0",
          "state": {
            "_model_module": "@jupyter-widgets/controls",
            "_model_module_version": "1.5.0",
            "_model_name": "DescriptionStyleModel",
            "_view_count": null,
            "_view_module": "@jupyter-widgets/base",
            "_view_module_version": "1.2.0",
            "_view_name": "StyleView",
            "description_width": ""
          }
        },
        "67af1a7634b4424b95ae4a1032de7f9e": {
          "model_module": "@jupyter-widgets/controls",
          "model_name": "HBoxModel",
          "model_module_version": "1.5.0",
          "state": {
            "_dom_classes": [],
            "_model_module": "@jupyter-widgets/controls",
            "_model_module_version": "1.5.0",
            "_model_name": "HBoxModel",
            "_view_count": null,
            "_view_module": "@jupyter-widgets/controls",
            "_view_module_version": "1.5.0",
            "_view_name": "HBoxView",
            "box_style": "",
            "children": [
              "IPY_MODEL_6b28358485e74d83b9c2ddf87c62d4b2",
              "IPY_MODEL_f469dfe9ee4b498187f3c155ecb18c11",
              "IPY_MODEL_76b842e14f7b4a87a10d90ad878acf3e"
            ],
            "layout": "IPY_MODEL_1da7058f70e1449b8f74abc65838b235"
          }
        },
        "6b28358485e74d83b9c2ddf87c62d4b2": {
          "model_module": "@jupyter-widgets/controls",
          "model_name": "HTMLModel",
          "model_module_version": "1.5.0",
          "state": {
            "_dom_classes": [],
            "_model_module": "@jupyter-widgets/controls",
            "_model_module_version": "1.5.0",
            "_model_name": "HTMLModel",
            "_view_count": null,
            "_view_module": "@jupyter-widgets/controls",
            "_view_module_version": "1.5.0",
            "_view_name": "HTMLView",
            "description": "",
            "description_tooltip": null,
            "layout": "IPY_MODEL_f9842a91222148c5a5442fe46eab2885",
            "placeholder": "​",
            "style": "IPY_MODEL_f2c818d40e3c4991a6449c9daa8eb1f0",
            "value": "config_sentence_transformers.json: 100%"
          }
        },
        "f469dfe9ee4b498187f3c155ecb18c11": {
          "model_module": "@jupyter-widgets/controls",
          "model_name": "FloatProgressModel",
          "model_module_version": "1.5.0",
          "state": {
            "_dom_classes": [],
            "_model_module": "@jupyter-widgets/controls",
            "_model_module_version": "1.5.0",
            "_model_name": "FloatProgressModel",
            "_view_count": null,
            "_view_module": "@jupyter-widgets/controls",
            "_view_module_version": "1.5.0",
            "_view_name": "ProgressView",
            "bar_style": "success",
            "description": "",
            "description_tooltip": null,
            "layout": "IPY_MODEL_593547a158174a328772e91548e8a3a1",
            "max": 116,
            "min": 0,
            "orientation": "horizontal",
            "style": "IPY_MODEL_16d6fdf6e4ed47ae957895a78995632e",
            "value": 116
          }
        },
        "76b842e14f7b4a87a10d90ad878acf3e": {
          "model_module": "@jupyter-widgets/controls",
          "model_name": "HTMLModel",
          "model_module_version": "1.5.0",
          "state": {
            "_dom_classes": [],
            "_model_module": "@jupyter-widgets/controls",
            "_model_module_version": "1.5.0",
            "_model_name": "HTMLModel",
            "_view_count": null,
            "_view_module": "@jupyter-widgets/controls",
            "_view_module_version": "1.5.0",
            "_view_name": "HTMLView",
            "description": "",
            "description_tooltip": null,
            "layout": "IPY_MODEL_e3174a4b1f494472b529cc32b503db84",
            "placeholder": "​",
            "style": "IPY_MODEL_da8c8aba5bce4538825a6a02206d9297",
            "value": " 116/116 [00:00&lt;00:00, 3.16kB/s]"
          }
        },
        "1da7058f70e1449b8f74abc65838b235": {
          "model_module": "@jupyter-widgets/base",
          "model_name": "LayoutModel",
          "model_module_version": "1.2.0",
          "state": {
            "_model_module": "@jupyter-widgets/base",
            "_model_module_version": "1.2.0",
            "_model_name": "LayoutModel",
            "_view_count": null,
            "_view_module": "@jupyter-widgets/base",
            "_view_module_version": "1.2.0",
            "_view_name": "LayoutView",
            "align_content": null,
            "align_items": null,
            "align_self": null,
            "border": null,
            "bottom": null,
            "display": null,
            "flex": null,
            "flex_flow": null,
            "grid_area": null,
            "grid_auto_columns": null,
            "grid_auto_flow": null,
            "grid_auto_rows": null,
            "grid_column": null,
            "grid_gap": null,
            "grid_row": null,
            "grid_template_areas": null,
            "grid_template_columns": null,
            "grid_template_rows": null,
            "height": null,
            "justify_content": null,
            "justify_items": null,
            "left": null,
            "margin": null,
            "max_height": null,
            "max_width": null,
            "min_height": null,
            "min_width": null,
            "object_fit": null,
            "object_position": null,
            "order": null,
            "overflow": null,
            "overflow_x": null,
            "overflow_y": null,
            "padding": null,
            "right": null,
            "top": null,
            "visibility": null,
            "width": null
          }
        },
        "f9842a91222148c5a5442fe46eab2885": {
          "model_module": "@jupyter-widgets/base",
          "model_name": "LayoutModel",
          "model_module_version": "1.2.0",
          "state": {
            "_model_module": "@jupyter-widgets/base",
            "_model_module_version": "1.2.0",
            "_model_name": "LayoutModel",
            "_view_count": null,
            "_view_module": "@jupyter-widgets/base",
            "_view_module_version": "1.2.0",
            "_view_name": "LayoutView",
            "align_content": null,
            "align_items": null,
            "align_self": null,
            "border": null,
            "bottom": null,
            "display": null,
            "flex": null,
            "flex_flow": null,
            "grid_area": null,
            "grid_auto_columns": null,
            "grid_auto_flow": null,
            "grid_auto_rows": null,
            "grid_column": null,
            "grid_gap": null,
            "grid_row": null,
            "grid_template_areas": null,
            "grid_template_columns": null,
            "grid_template_rows": null,
            "height": null,
            "justify_content": null,
            "justify_items": null,
            "left": null,
            "margin": null,
            "max_height": null,
            "max_width": null,
            "min_height": null,
            "min_width": null,
            "object_fit": null,
            "object_position": null,
            "order": null,
            "overflow": null,
            "overflow_x": null,
            "overflow_y": null,
            "padding": null,
            "right": null,
            "top": null,
            "visibility": null,
            "width": null
          }
        },
        "f2c818d40e3c4991a6449c9daa8eb1f0": {
          "model_module": "@jupyter-widgets/controls",
          "model_name": "DescriptionStyleModel",
          "model_module_version": "1.5.0",
          "state": {
            "_model_module": "@jupyter-widgets/controls",
            "_model_module_version": "1.5.0",
            "_model_name": "DescriptionStyleModel",
            "_view_count": null,
            "_view_module": "@jupyter-widgets/base",
            "_view_module_version": "1.2.0",
            "_view_name": "StyleView",
            "description_width": ""
          }
        },
        "593547a158174a328772e91548e8a3a1": {
          "model_module": "@jupyter-widgets/base",
          "model_name": "LayoutModel",
          "model_module_version": "1.2.0",
          "state": {
            "_model_module": "@jupyter-widgets/base",
            "_model_module_version": "1.2.0",
            "_model_name": "LayoutModel",
            "_view_count": null,
            "_view_module": "@jupyter-widgets/base",
            "_view_module_version": "1.2.0",
            "_view_name": "LayoutView",
            "align_content": null,
            "align_items": null,
            "align_self": null,
            "border": null,
            "bottom": null,
            "display": null,
            "flex": null,
            "flex_flow": null,
            "grid_area": null,
            "grid_auto_columns": null,
            "grid_auto_flow": null,
            "grid_auto_rows": null,
            "grid_column": null,
            "grid_gap": null,
            "grid_row": null,
            "grid_template_areas": null,
            "grid_template_columns": null,
            "grid_template_rows": null,
            "height": null,
            "justify_content": null,
            "justify_items": null,
            "left": null,
            "margin": null,
            "max_height": null,
            "max_width": null,
            "min_height": null,
            "min_width": null,
            "object_fit": null,
            "object_position": null,
            "order": null,
            "overflow": null,
            "overflow_x": null,
            "overflow_y": null,
            "padding": null,
            "right": null,
            "top": null,
            "visibility": null,
            "width": null
          }
        },
        "16d6fdf6e4ed47ae957895a78995632e": {
          "model_module": "@jupyter-widgets/controls",
          "model_name": "ProgressStyleModel",
          "model_module_version": "1.5.0",
          "state": {
            "_model_module": "@jupyter-widgets/controls",
            "_model_module_version": "1.5.0",
            "_model_name": "ProgressStyleModel",
            "_view_count": null,
            "_view_module": "@jupyter-widgets/base",
            "_view_module_version": "1.2.0",
            "_view_name": "StyleView",
            "bar_color": null,
            "description_width": ""
          }
        },
        "e3174a4b1f494472b529cc32b503db84": {
          "model_module": "@jupyter-widgets/base",
          "model_name": "LayoutModel",
          "model_module_version": "1.2.0",
          "state": {
            "_model_module": "@jupyter-widgets/base",
            "_model_module_version": "1.2.0",
            "_model_name": "LayoutModel",
            "_view_count": null,
            "_view_module": "@jupyter-widgets/base",
            "_view_module_version": "1.2.0",
            "_view_name": "LayoutView",
            "align_content": null,
            "align_items": null,
            "align_self": null,
            "border": null,
            "bottom": null,
            "display": null,
            "flex": null,
            "flex_flow": null,
            "grid_area": null,
            "grid_auto_columns": null,
            "grid_auto_flow": null,
            "grid_auto_rows": null,
            "grid_column": null,
            "grid_gap": null,
            "grid_row": null,
            "grid_template_areas": null,
            "grid_template_columns": null,
            "grid_template_rows": null,
            "height": null,
            "justify_content": null,
            "justify_items": null,
            "left": null,
            "margin": null,
            "max_height": null,
            "max_width": null,
            "min_height": null,
            "min_width": null,
            "object_fit": null,
            "object_position": null,
            "order": null,
            "overflow": null,
            "overflow_x": null,
            "overflow_y": null,
            "padding": null,
            "right": null,
            "top": null,
            "visibility": null,
            "width": null
          }
        },
        "da8c8aba5bce4538825a6a02206d9297": {
          "model_module": "@jupyter-widgets/controls",
          "model_name": "DescriptionStyleModel",
          "model_module_version": "1.5.0",
          "state": {
            "_model_module": "@jupyter-widgets/controls",
            "_model_module_version": "1.5.0",
            "_model_name": "DescriptionStyleModel",
            "_view_count": null,
            "_view_module": "@jupyter-widgets/base",
            "_view_module_version": "1.2.0",
            "_view_name": "StyleView",
            "description_width": ""
          }
        },
        "54977882789040829202aae68e597fc5": {
          "model_module": "@jupyter-widgets/controls",
          "model_name": "HBoxModel",
          "model_module_version": "1.5.0",
          "state": {
            "_dom_classes": [],
            "_model_module": "@jupyter-widgets/controls",
            "_model_module_version": "1.5.0",
            "_model_name": "HBoxModel",
            "_view_count": null,
            "_view_module": "@jupyter-widgets/controls",
            "_view_module_version": "1.5.0",
            "_view_name": "HBoxView",
            "box_style": "",
            "children": [
              "IPY_MODEL_e9fa1c2d3c3f4bcb9b6f0b5f7fbe63c4",
              "IPY_MODEL_2ca0e7fabb5548a09b88452479653b91",
              "IPY_MODEL_7de0e13eeeb74e549b6c46aa635ffdb1"
            ],
            "layout": "IPY_MODEL_3436dcba846b4b7b98713cc2e2030a1f"
          }
        },
        "e9fa1c2d3c3f4bcb9b6f0b5f7fbe63c4": {
          "model_module": "@jupyter-widgets/controls",
          "model_name": "HTMLModel",
          "model_module_version": "1.5.0",
          "state": {
            "_dom_classes": [],
            "_model_module": "@jupyter-widgets/controls",
            "_model_module_version": "1.5.0",
            "_model_name": "HTMLModel",
            "_view_count": null,
            "_view_module": "@jupyter-widgets/controls",
            "_view_module_version": "1.5.0",
            "_view_name": "HTMLView",
            "description": "",
            "description_tooltip": null,
            "layout": "IPY_MODEL_5025f9ab37824ed4b26288cdf2b67e11",
            "placeholder": "​",
            "style": "IPY_MODEL_227c5e13657e424db6090fe4104ab327",
            "value": "README.md: 100%"
          }
        },
        "2ca0e7fabb5548a09b88452479653b91": {
          "model_module": "@jupyter-widgets/controls",
          "model_name": "FloatProgressModel",
          "model_module_version": "1.5.0",
          "state": {
            "_dom_classes": [],
            "_model_module": "@jupyter-widgets/controls",
            "_model_module_version": "1.5.0",
            "_model_name": "FloatProgressModel",
            "_view_count": null,
            "_view_module": "@jupyter-widgets/controls",
            "_view_module_version": "1.5.0",
            "_view_name": "ProgressView",
            "bar_style": "success",
            "description": "",
            "description_tooltip": null,
            "layout": "IPY_MODEL_9d7770c13b324ef5bc661022c8789236",
            "max": 10621,
            "min": 0,
            "orientation": "horizontal",
            "style": "IPY_MODEL_2eb14e4755034b289f6afe807e1bb931",
            "value": 10621
          }
        },
        "7de0e13eeeb74e549b6c46aa635ffdb1": {
          "model_module": "@jupyter-widgets/controls",
          "model_name": "HTMLModel",
          "model_module_version": "1.5.0",
          "state": {
            "_dom_classes": [],
            "_model_module": "@jupyter-widgets/controls",
            "_model_module_version": "1.5.0",
            "_model_name": "HTMLModel",
            "_view_count": null,
            "_view_module": "@jupyter-widgets/controls",
            "_view_module_version": "1.5.0",
            "_view_name": "HTMLView",
            "description": "",
            "description_tooltip": null,
            "layout": "IPY_MODEL_1a0f60f908654ee68c7e7a4253fd4d41",
            "placeholder": "​",
            "style": "IPY_MODEL_e51bf7cc4c77446a96fcf2b5b84d247e",
            "value": " 10.6k/10.6k [00:00&lt;00:00, 399kB/s]"
          }
        },
        "3436dcba846b4b7b98713cc2e2030a1f": {
          "model_module": "@jupyter-widgets/base",
          "model_name": "LayoutModel",
          "model_module_version": "1.2.0",
          "state": {
            "_model_module": "@jupyter-widgets/base",
            "_model_module_version": "1.2.0",
            "_model_name": "LayoutModel",
            "_view_count": null,
            "_view_module": "@jupyter-widgets/base",
            "_view_module_version": "1.2.0",
            "_view_name": "LayoutView",
            "align_content": null,
            "align_items": null,
            "align_self": null,
            "border": null,
            "bottom": null,
            "display": null,
            "flex": null,
            "flex_flow": null,
            "grid_area": null,
            "grid_auto_columns": null,
            "grid_auto_flow": null,
            "grid_auto_rows": null,
            "grid_column": null,
            "grid_gap": null,
            "grid_row": null,
            "grid_template_areas": null,
            "grid_template_columns": null,
            "grid_template_rows": null,
            "height": null,
            "justify_content": null,
            "justify_items": null,
            "left": null,
            "margin": null,
            "max_height": null,
            "max_width": null,
            "min_height": null,
            "min_width": null,
            "object_fit": null,
            "object_position": null,
            "order": null,
            "overflow": null,
            "overflow_x": null,
            "overflow_y": null,
            "padding": null,
            "right": null,
            "top": null,
            "visibility": null,
            "width": null
          }
        },
        "5025f9ab37824ed4b26288cdf2b67e11": {
          "model_module": "@jupyter-widgets/base",
          "model_name": "LayoutModel",
          "model_module_version": "1.2.0",
          "state": {
            "_model_module": "@jupyter-widgets/base",
            "_model_module_version": "1.2.0",
            "_model_name": "LayoutModel",
            "_view_count": null,
            "_view_module": "@jupyter-widgets/base",
            "_view_module_version": "1.2.0",
            "_view_name": "LayoutView",
            "align_content": null,
            "align_items": null,
            "align_self": null,
            "border": null,
            "bottom": null,
            "display": null,
            "flex": null,
            "flex_flow": null,
            "grid_area": null,
            "grid_auto_columns": null,
            "grid_auto_flow": null,
            "grid_auto_rows": null,
            "grid_column": null,
            "grid_gap": null,
            "grid_row": null,
            "grid_template_areas": null,
            "grid_template_columns": null,
            "grid_template_rows": null,
            "height": null,
            "justify_content": null,
            "justify_items": null,
            "left": null,
            "margin": null,
            "max_height": null,
            "max_width": null,
            "min_height": null,
            "min_width": null,
            "object_fit": null,
            "object_position": null,
            "order": null,
            "overflow": null,
            "overflow_x": null,
            "overflow_y": null,
            "padding": null,
            "right": null,
            "top": null,
            "visibility": null,
            "width": null
          }
        },
        "227c5e13657e424db6090fe4104ab327": {
          "model_module": "@jupyter-widgets/controls",
          "model_name": "DescriptionStyleModel",
          "model_module_version": "1.5.0",
          "state": {
            "_model_module": "@jupyter-widgets/controls",
            "_model_module_version": "1.5.0",
            "_model_name": "DescriptionStyleModel",
            "_view_count": null,
            "_view_module": "@jupyter-widgets/base",
            "_view_module_version": "1.2.0",
            "_view_name": "StyleView",
            "description_width": ""
          }
        },
        "9d7770c13b324ef5bc661022c8789236": {
          "model_module": "@jupyter-widgets/base",
          "model_name": "LayoutModel",
          "model_module_version": "1.2.0",
          "state": {
            "_model_module": "@jupyter-widgets/base",
            "_model_module_version": "1.2.0",
            "_model_name": "LayoutModel",
            "_view_count": null,
            "_view_module": "@jupyter-widgets/base",
            "_view_module_version": "1.2.0",
            "_view_name": "LayoutView",
            "align_content": null,
            "align_items": null,
            "align_self": null,
            "border": null,
            "bottom": null,
            "display": null,
            "flex": null,
            "flex_flow": null,
            "grid_area": null,
            "grid_auto_columns": null,
            "grid_auto_flow": null,
            "grid_auto_rows": null,
            "grid_column": null,
            "grid_gap": null,
            "grid_row": null,
            "grid_template_areas": null,
            "grid_template_columns": null,
            "grid_template_rows": null,
            "height": null,
            "justify_content": null,
            "justify_items": null,
            "left": null,
            "margin": null,
            "max_height": null,
            "max_width": null,
            "min_height": null,
            "min_width": null,
            "object_fit": null,
            "object_position": null,
            "order": null,
            "overflow": null,
            "overflow_x": null,
            "overflow_y": null,
            "padding": null,
            "right": null,
            "top": null,
            "visibility": null,
            "width": null
          }
        },
        "2eb14e4755034b289f6afe807e1bb931": {
          "model_module": "@jupyter-widgets/controls",
          "model_name": "ProgressStyleModel",
          "model_module_version": "1.5.0",
          "state": {
            "_model_module": "@jupyter-widgets/controls",
            "_model_module_version": "1.5.0",
            "_model_name": "ProgressStyleModel",
            "_view_count": null,
            "_view_module": "@jupyter-widgets/base",
            "_view_module_version": "1.2.0",
            "_view_name": "StyleView",
            "bar_color": null,
            "description_width": ""
          }
        },
        "1a0f60f908654ee68c7e7a4253fd4d41": {
          "model_module": "@jupyter-widgets/base",
          "model_name": "LayoutModel",
          "model_module_version": "1.2.0",
          "state": {
            "_model_module": "@jupyter-widgets/base",
            "_model_module_version": "1.2.0",
            "_model_name": "LayoutModel",
            "_view_count": null,
            "_view_module": "@jupyter-widgets/base",
            "_view_module_version": "1.2.0",
            "_view_name": "LayoutView",
            "align_content": null,
            "align_items": null,
            "align_self": null,
            "border": null,
            "bottom": null,
            "display": null,
            "flex": null,
            "flex_flow": null,
            "grid_area": null,
            "grid_auto_columns": null,
            "grid_auto_flow": null,
            "grid_auto_rows": null,
            "grid_column": null,
            "grid_gap": null,
            "grid_row": null,
            "grid_template_areas": null,
            "grid_template_columns": null,
            "grid_template_rows": null,
            "height": null,
            "justify_content": null,
            "justify_items": null,
            "left": null,
            "margin": null,
            "max_height": null,
            "max_width": null,
            "min_height": null,
            "min_width": null,
            "object_fit": null,
            "object_position": null,
            "order": null,
            "overflow": null,
            "overflow_x": null,
            "overflow_y": null,
            "padding": null,
            "right": null,
            "top": null,
            "visibility": null,
            "width": null
          }
        },
        "e51bf7cc4c77446a96fcf2b5b84d247e": {
          "model_module": "@jupyter-widgets/controls",
          "model_name": "DescriptionStyleModel",
          "model_module_version": "1.5.0",
          "state": {
            "_model_module": "@jupyter-widgets/controls",
            "_model_module_version": "1.5.0",
            "_model_name": "DescriptionStyleModel",
            "_view_count": null,
            "_view_module": "@jupyter-widgets/base",
            "_view_module_version": "1.2.0",
            "_view_name": "StyleView",
            "description_width": ""
          }
        },
        "eb0a0dcabb4341b580da35946fa0e92f": {
          "model_module": "@jupyter-widgets/controls",
          "model_name": "HBoxModel",
          "model_module_version": "1.5.0",
          "state": {
            "_dom_classes": [],
            "_model_module": "@jupyter-widgets/controls",
            "_model_module_version": "1.5.0",
            "_model_name": "HBoxModel",
            "_view_count": null,
            "_view_module": "@jupyter-widgets/controls",
            "_view_module_version": "1.5.0",
            "_view_name": "HBoxView",
            "box_style": "",
            "children": [
              "IPY_MODEL_6f0038b0c1554b1cba82e31393011f23",
              "IPY_MODEL_61da17c7a30846f5b231c6c349eade2d",
              "IPY_MODEL_5c88416ab7b14500ac0cf6d7e2856b8b"
            ],
            "layout": "IPY_MODEL_c19e730a361644e59949549e493be138"
          }
        },
        "6f0038b0c1554b1cba82e31393011f23": {
          "model_module": "@jupyter-widgets/controls",
          "model_name": "HTMLModel",
          "model_module_version": "1.5.0",
          "state": {
            "_dom_classes": [],
            "_model_module": "@jupyter-widgets/controls",
            "_model_module_version": "1.5.0",
            "_model_name": "HTMLModel",
            "_view_count": null,
            "_view_module": "@jupyter-widgets/controls",
            "_view_module_version": "1.5.0",
            "_view_name": "HTMLView",
            "description": "",
            "description_tooltip": null,
            "layout": "IPY_MODEL_9a77407dd8784e6c96b5201e3061a781",
            "placeholder": "​",
            "style": "IPY_MODEL_8151f3ae83b64f489e22a76841406e69",
            "value": "sentence_bert_config.json: 100%"
          }
        },
        "61da17c7a30846f5b231c6c349eade2d": {
          "model_module": "@jupyter-widgets/controls",
          "model_name": "FloatProgressModel",
          "model_module_version": "1.5.0",
          "state": {
            "_dom_classes": [],
            "_model_module": "@jupyter-widgets/controls",
            "_model_module_version": "1.5.0",
            "_model_name": "FloatProgressModel",
            "_view_count": null,
            "_view_module": "@jupyter-widgets/controls",
            "_view_module_version": "1.5.0",
            "_view_name": "ProgressView",
            "bar_style": "success",
            "description": "",
            "description_tooltip": null,
            "layout": "IPY_MODEL_cb580be097dc41b595b14f8ab08f9705",
            "max": 53,
            "min": 0,
            "orientation": "horizontal",
            "style": "IPY_MODEL_bb6554c02cf544889a5a591a8b5e8f04",
            "value": 53
          }
        },
        "5c88416ab7b14500ac0cf6d7e2856b8b": {
          "model_module": "@jupyter-widgets/controls",
          "model_name": "HTMLModel",
          "model_module_version": "1.5.0",
          "state": {
            "_dom_classes": [],
            "_model_module": "@jupyter-widgets/controls",
            "_model_module_version": "1.5.0",
            "_model_name": "HTMLModel",
            "_view_count": null,
            "_view_module": "@jupyter-widgets/controls",
            "_view_module_version": "1.5.0",
            "_view_name": "HTMLView",
            "description": "",
            "description_tooltip": null,
            "layout": "IPY_MODEL_c859f3d54dd4426c9e1e10cd868a8c1c",
            "placeholder": "​",
            "style": "IPY_MODEL_0feebcad44d144359dceac158652d4fc",
            "value": " 53.0/53.0 [00:00&lt;00:00, 1.88kB/s]"
          }
        },
        "c19e730a361644e59949549e493be138": {
          "model_module": "@jupyter-widgets/base",
          "model_name": "LayoutModel",
          "model_module_version": "1.2.0",
          "state": {
            "_model_module": "@jupyter-widgets/base",
            "_model_module_version": "1.2.0",
            "_model_name": "LayoutModel",
            "_view_count": null,
            "_view_module": "@jupyter-widgets/base",
            "_view_module_version": "1.2.0",
            "_view_name": "LayoutView",
            "align_content": null,
            "align_items": null,
            "align_self": null,
            "border": null,
            "bottom": null,
            "display": null,
            "flex": null,
            "flex_flow": null,
            "grid_area": null,
            "grid_auto_columns": null,
            "grid_auto_flow": null,
            "grid_auto_rows": null,
            "grid_column": null,
            "grid_gap": null,
            "grid_row": null,
            "grid_template_areas": null,
            "grid_template_columns": null,
            "grid_template_rows": null,
            "height": null,
            "justify_content": null,
            "justify_items": null,
            "left": null,
            "margin": null,
            "max_height": null,
            "max_width": null,
            "min_height": null,
            "min_width": null,
            "object_fit": null,
            "object_position": null,
            "order": null,
            "overflow": null,
            "overflow_x": null,
            "overflow_y": null,
            "padding": null,
            "right": null,
            "top": null,
            "visibility": null,
            "width": null
          }
        },
        "9a77407dd8784e6c96b5201e3061a781": {
          "model_module": "@jupyter-widgets/base",
          "model_name": "LayoutModel",
          "model_module_version": "1.2.0",
          "state": {
            "_model_module": "@jupyter-widgets/base",
            "_model_module_version": "1.2.0",
            "_model_name": "LayoutModel",
            "_view_count": null,
            "_view_module": "@jupyter-widgets/base",
            "_view_module_version": "1.2.0",
            "_view_name": "LayoutView",
            "align_content": null,
            "align_items": null,
            "align_self": null,
            "border": null,
            "bottom": null,
            "display": null,
            "flex": null,
            "flex_flow": null,
            "grid_area": null,
            "grid_auto_columns": null,
            "grid_auto_flow": null,
            "grid_auto_rows": null,
            "grid_column": null,
            "grid_gap": null,
            "grid_row": null,
            "grid_template_areas": null,
            "grid_template_columns": null,
            "grid_template_rows": null,
            "height": null,
            "justify_content": null,
            "justify_items": null,
            "left": null,
            "margin": null,
            "max_height": null,
            "max_width": null,
            "min_height": null,
            "min_width": null,
            "object_fit": null,
            "object_position": null,
            "order": null,
            "overflow": null,
            "overflow_x": null,
            "overflow_y": null,
            "padding": null,
            "right": null,
            "top": null,
            "visibility": null,
            "width": null
          }
        },
        "8151f3ae83b64f489e22a76841406e69": {
          "model_module": "@jupyter-widgets/controls",
          "model_name": "DescriptionStyleModel",
          "model_module_version": "1.5.0",
          "state": {
            "_model_module": "@jupyter-widgets/controls",
            "_model_module_version": "1.5.0",
            "_model_name": "DescriptionStyleModel",
            "_view_count": null,
            "_view_module": "@jupyter-widgets/base",
            "_view_module_version": "1.2.0",
            "_view_name": "StyleView",
            "description_width": ""
          }
        },
        "cb580be097dc41b595b14f8ab08f9705": {
          "model_module": "@jupyter-widgets/base",
          "model_name": "LayoutModel",
          "model_module_version": "1.2.0",
          "state": {
            "_model_module": "@jupyter-widgets/base",
            "_model_module_version": "1.2.0",
            "_model_name": "LayoutModel",
            "_view_count": null,
            "_view_module": "@jupyter-widgets/base",
            "_view_module_version": "1.2.0",
            "_view_name": "LayoutView",
            "align_content": null,
            "align_items": null,
            "align_self": null,
            "border": null,
            "bottom": null,
            "display": null,
            "flex": null,
            "flex_flow": null,
            "grid_area": null,
            "grid_auto_columns": null,
            "grid_auto_flow": null,
            "grid_auto_rows": null,
            "grid_column": null,
            "grid_gap": null,
            "grid_row": null,
            "grid_template_areas": null,
            "grid_template_columns": null,
            "grid_template_rows": null,
            "height": null,
            "justify_content": null,
            "justify_items": null,
            "left": null,
            "margin": null,
            "max_height": null,
            "max_width": null,
            "min_height": null,
            "min_width": null,
            "object_fit": null,
            "object_position": null,
            "order": null,
            "overflow": null,
            "overflow_x": null,
            "overflow_y": null,
            "padding": null,
            "right": null,
            "top": null,
            "visibility": null,
            "width": null
          }
        },
        "bb6554c02cf544889a5a591a8b5e8f04": {
          "model_module": "@jupyter-widgets/controls",
          "model_name": "ProgressStyleModel",
          "model_module_version": "1.5.0",
          "state": {
            "_model_module": "@jupyter-widgets/controls",
            "_model_module_version": "1.5.0",
            "_model_name": "ProgressStyleModel",
            "_view_count": null,
            "_view_module": "@jupyter-widgets/base",
            "_view_module_version": "1.2.0",
            "_view_name": "StyleView",
            "bar_color": null,
            "description_width": ""
          }
        },
        "c859f3d54dd4426c9e1e10cd868a8c1c": {
          "model_module": "@jupyter-widgets/base",
          "model_name": "LayoutModel",
          "model_module_version": "1.2.0",
          "state": {
            "_model_module": "@jupyter-widgets/base",
            "_model_module_version": "1.2.0",
            "_model_name": "LayoutModel",
            "_view_count": null,
            "_view_module": "@jupyter-widgets/base",
            "_view_module_version": "1.2.0",
            "_view_name": "LayoutView",
            "align_content": null,
            "align_items": null,
            "align_self": null,
            "border": null,
            "bottom": null,
            "display": null,
            "flex": null,
            "flex_flow": null,
            "grid_area": null,
            "grid_auto_columns": null,
            "grid_auto_flow": null,
            "grid_auto_rows": null,
            "grid_column": null,
            "grid_gap": null,
            "grid_row": null,
            "grid_template_areas": null,
            "grid_template_columns": null,
            "grid_template_rows": null,
            "height": null,
            "justify_content": null,
            "justify_items": null,
            "left": null,
            "margin": null,
            "max_height": null,
            "max_width": null,
            "min_height": null,
            "min_width": null,
            "object_fit": null,
            "object_position": null,
            "order": null,
            "overflow": null,
            "overflow_x": null,
            "overflow_y": null,
            "padding": null,
            "right": null,
            "top": null,
            "visibility": null,
            "width": null
          }
        },
        "0feebcad44d144359dceac158652d4fc": {
          "model_module": "@jupyter-widgets/controls",
          "model_name": "DescriptionStyleModel",
          "model_module_version": "1.5.0",
          "state": {
            "_model_module": "@jupyter-widgets/controls",
            "_model_module_version": "1.5.0",
            "_model_name": "DescriptionStyleModel",
            "_view_count": null,
            "_view_module": "@jupyter-widgets/base",
            "_view_module_version": "1.2.0",
            "_view_name": "StyleView",
            "description_width": ""
          }
        },
        "b0dbcda4079345d784c93e0d8b0ce370": {
          "model_module": "@jupyter-widgets/controls",
          "model_name": "HBoxModel",
          "model_module_version": "1.5.0",
          "state": {
            "_dom_classes": [],
            "_model_module": "@jupyter-widgets/controls",
            "_model_module_version": "1.5.0",
            "_model_name": "HBoxModel",
            "_view_count": null,
            "_view_module": "@jupyter-widgets/controls",
            "_view_module_version": "1.5.0",
            "_view_name": "HBoxView",
            "box_style": "",
            "children": [
              "IPY_MODEL_e3fd47c2521d45d8a55b149b47261f72",
              "IPY_MODEL_d95d8d7d3ede4690aaa85941a2578ec3",
              "IPY_MODEL_4d3ede16c5bb4cc3b1114fa28e135160"
            ],
            "layout": "IPY_MODEL_bd94f767d19e4bd4af9f050da5524480"
          }
        },
        "e3fd47c2521d45d8a55b149b47261f72": {
          "model_module": "@jupyter-widgets/controls",
          "model_name": "HTMLModel",
          "model_module_version": "1.5.0",
          "state": {
            "_dom_classes": [],
            "_model_module": "@jupyter-widgets/controls",
            "_model_module_version": "1.5.0",
            "_model_name": "HTMLModel",
            "_view_count": null,
            "_view_module": "@jupyter-widgets/controls",
            "_view_module_version": "1.5.0",
            "_view_name": "HTMLView",
            "description": "",
            "description_tooltip": null,
            "layout": "IPY_MODEL_280661de54a34be9a74dfb13409926e6",
            "placeholder": "​",
            "style": "IPY_MODEL_87e9162604d343d28de670032d37d59d",
            "value": "config.json: 100%"
          }
        },
        "d95d8d7d3ede4690aaa85941a2578ec3": {
          "model_module": "@jupyter-widgets/controls",
          "model_name": "FloatProgressModel",
          "model_module_version": "1.5.0",
          "state": {
            "_dom_classes": [],
            "_model_module": "@jupyter-widgets/controls",
            "_model_module_version": "1.5.0",
            "_model_name": "FloatProgressModel",
            "_view_count": null,
            "_view_module": "@jupyter-widgets/controls",
            "_view_module_version": "1.5.0",
            "_view_name": "ProgressView",
            "bar_style": "success",
            "description": "",
            "description_tooltip": null,
            "layout": "IPY_MODEL_e5ec4c5afc154806bbf349befaa5e67b",
            "max": 571,
            "min": 0,
            "orientation": "horizontal",
            "style": "IPY_MODEL_b84571ad1fcf45219811542ae8d3e435",
            "value": 571
          }
        },
        "4d3ede16c5bb4cc3b1114fa28e135160": {
          "model_module": "@jupyter-widgets/controls",
          "model_name": "HTMLModel",
          "model_module_version": "1.5.0",
          "state": {
            "_dom_classes": [],
            "_model_module": "@jupyter-widgets/controls",
            "_model_module_version": "1.5.0",
            "_model_name": "HTMLModel",
            "_view_count": null,
            "_view_module": "@jupyter-widgets/controls",
            "_view_module_version": "1.5.0",
            "_view_name": "HTMLView",
            "description": "",
            "description_tooltip": null,
            "layout": "IPY_MODEL_a5c5359a76a145aea937039e86ca8957",
            "placeholder": "​",
            "style": "IPY_MODEL_8986bbb789a64de29a7240b36a37388b",
            "value": " 571/571 [00:00&lt;00:00, 20.0kB/s]"
          }
        },
        "bd94f767d19e4bd4af9f050da5524480": {
          "model_module": "@jupyter-widgets/base",
          "model_name": "LayoutModel",
          "model_module_version": "1.2.0",
          "state": {
            "_model_module": "@jupyter-widgets/base",
            "_model_module_version": "1.2.0",
            "_model_name": "LayoutModel",
            "_view_count": null,
            "_view_module": "@jupyter-widgets/base",
            "_view_module_version": "1.2.0",
            "_view_name": "LayoutView",
            "align_content": null,
            "align_items": null,
            "align_self": null,
            "border": null,
            "bottom": null,
            "display": null,
            "flex": null,
            "flex_flow": null,
            "grid_area": null,
            "grid_auto_columns": null,
            "grid_auto_flow": null,
            "grid_auto_rows": null,
            "grid_column": null,
            "grid_gap": null,
            "grid_row": null,
            "grid_template_areas": null,
            "grid_template_columns": null,
            "grid_template_rows": null,
            "height": null,
            "justify_content": null,
            "justify_items": null,
            "left": null,
            "margin": null,
            "max_height": null,
            "max_width": null,
            "min_height": null,
            "min_width": null,
            "object_fit": null,
            "object_position": null,
            "order": null,
            "overflow": null,
            "overflow_x": null,
            "overflow_y": null,
            "padding": null,
            "right": null,
            "top": null,
            "visibility": null,
            "width": null
          }
        },
        "280661de54a34be9a74dfb13409926e6": {
          "model_module": "@jupyter-widgets/base",
          "model_name": "LayoutModel",
          "model_module_version": "1.2.0",
          "state": {
            "_model_module": "@jupyter-widgets/base",
            "_model_module_version": "1.2.0",
            "_model_name": "LayoutModel",
            "_view_count": null,
            "_view_module": "@jupyter-widgets/base",
            "_view_module_version": "1.2.0",
            "_view_name": "LayoutView",
            "align_content": null,
            "align_items": null,
            "align_self": null,
            "border": null,
            "bottom": null,
            "display": null,
            "flex": null,
            "flex_flow": null,
            "grid_area": null,
            "grid_auto_columns": null,
            "grid_auto_flow": null,
            "grid_auto_rows": null,
            "grid_column": null,
            "grid_gap": null,
            "grid_row": null,
            "grid_template_areas": null,
            "grid_template_columns": null,
            "grid_template_rows": null,
            "height": null,
            "justify_content": null,
            "justify_items": null,
            "left": null,
            "margin": null,
            "max_height": null,
            "max_width": null,
            "min_height": null,
            "min_width": null,
            "object_fit": null,
            "object_position": null,
            "order": null,
            "overflow": null,
            "overflow_x": null,
            "overflow_y": null,
            "padding": null,
            "right": null,
            "top": null,
            "visibility": null,
            "width": null
          }
        },
        "87e9162604d343d28de670032d37d59d": {
          "model_module": "@jupyter-widgets/controls",
          "model_name": "DescriptionStyleModel",
          "model_module_version": "1.5.0",
          "state": {
            "_model_module": "@jupyter-widgets/controls",
            "_model_module_version": "1.5.0",
            "_model_name": "DescriptionStyleModel",
            "_view_count": null,
            "_view_module": "@jupyter-widgets/base",
            "_view_module_version": "1.2.0",
            "_view_name": "StyleView",
            "description_width": ""
          }
        },
        "e5ec4c5afc154806bbf349befaa5e67b": {
          "model_module": "@jupyter-widgets/base",
          "model_name": "LayoutModel",
          "model_module_version": "1.2.0",
          "state": {
            "_model_module": "@jupyter-widgets/base",
            "_model_module_version": "1.2.0",
            "_model_name": "LayoutModel",
            "_view_count": null,
            "_view_module": "@jupyter-widgets/base",
            "_view_module_version": "1.2.0",
            "_view_name": "LayoutView",
            "align_content": null,
            "align_items": null,
            "align_self": null,
            "border": null,
            "bottom": null,
            "display": null,
            "flex": null,
            "flex_flow": null,
            "grid_area": null,
            "grid_auto_columns": null,
            "grid_auto_flow": null,
            "grid_auto_rows": null,
            "grid_column": null,
            "grid_gap": null,
            "grid_row": null,
            "grid_template_areas": null,
            "grid_template_columns": null,
            "grid_template_rows": null,
            "height": null,
            "justify_content": null,
            "justify_items": null,
            "left": null,
            "margin": null,
            "max_height": null,
            "max_width": null,
            "min_height": null,
            "min_width": null,
            "object_fit": null,
            "object_position": null,
            "order": null,
            "overflow": null,
            "overflow_x": null,
            "overflow_y": null,
            "padding": null,
            "right": null,
            "top": null,
            "visibility": null,
            "width": null
          }
        },
        "b84571ad1fcf45219811542ae8d3e435": {
          "model_module": "@jupyter-widgets/controls",
          "model_name": "ProgressStyleModel",
          "model_module_version": "1.5.0",
          "state": {
            "_model_module": "@jupyter-widgets/controls",
            "_model_module_version": "1.5.0",
            "_model_name": "ProgressStyleModel",
            "_view_count": null,
            "_view_module": "@jupyter-widgets/base",
            "_view_module_version": "1.2.0",
            "_view_name": "StyleView",
            "bar_color": null,
            "description_width": ""
          }
        },
        "a5c5359a76a145aea937039e86ca8957": {
          "model_module": "@jupyter-widgets/base",
          "model_name": "LayoutModel",
          "model_module_version": "1.2.0",
          "state": {
            "_model_module": "@jupyter-widgets/base",
            "_model_module_version": "1.2.0",
            "_model_name": "LayoutModel",
            "_view_count": null,
            "_view_module": "@jupyter-widgets/base",
            "_view_module_version": "1.2.0",
            "_view_name": "LayoutView",
            "align_content": null,
            "align_items": null,
            "align_self": null,
            "border": null,
            "bottom": null,
            "display": null,
            "flex": null,
            "flex_flow": null,
            "grid_area": null,
            "grid_auto_columns": null,
            "grid_auto_flow": null,
            "grid_auto_rows": null,
            "grid_column": null,
            "grid_gap": null,
            "grid_row": null,
            "grid_template_areas": null,
            "grid_template_columns": null,
            "grid_template_rows": null,
            "height": null,
            "justify_content": null,
            "justify_items": null,
            "left": null,
            "margin": null,
            "max_height": null,
            "max_width": null,
            "min_height": null,
            "min_width": null,
            "object_fit": null,
            "object_position": null,
            "order": null,
            "overflow": null,
            "overflow_x": null,
            "overflow_y": null,
            "padding": null,
            "right": null,
            "top": null,
            "visibility": null,
            "width": null
          }
        },
        "8986bbb789a64de29a7240b36a37388b": {
          "model_module": "@jupyter-widgets/controls",
          "model_name": "DescriptionStyleModel",
          "model_module_version": "1.5.0",
          "state": {
            "_model_module": "@jupyter-widgets/controls",
            "_model_module_version": "1.5.0",
            "_model_name": "DescriptionStyleModel",
            "_view_count": null,
            "_view_module": "@jupyter-widgets/base",
            "_view_module_version": "1.2.0",
            "_view_name": "StyleView",
            "description_width": ""
          }
        },
        "06cfb6ccc23544dbad100cef9850e77f": {
          "model_module": "@jupyter-widgets/controls",
          "model_name": "HBoxModel",
          "model_module_version": "1.5.0",
          "state": {
            "_dom_classes": [],
            "_model_module": "@jupyter-widgets/controls",
            "_model_module_version": "1.5.0",
            "_model_name": "HBoxModel",
            "_view_count": null,
            "_view_module": "@jupyter-widgets/controls",
            "_view_module_version": "1.5.0",
            "_view_name": "HBoxView",
            "box_style": "",
            "children": [
              "IPY_MODEL_2db9aa7002004ee5aade32607ad97f1f",
              "IPY_MODEL_ec671ed122d14634bfc7d7bca754ccf6",
              "IPY_MODEL_93c0aedd89aa4533a19b27d92f4375b4"
            ],
            "layout": "IPY_MODEL_ee1b75e4c54444b090401fc797cc14c6"
          }
        },
        "2db9aa7002004ee5aade32607ad97f1f": {
          "model_module": "@jupyter-widgets/controls",
          "model_name": "HTMLModel",
          "model_module_version": "1.5.0",
          "state": {
            "_dom_classes": [],
            "_model_module": "@jupyter-widgets/controls",
            "_model_module_version": "1.5.0",
            "_model_name": "HTMLModel",
            "_view_count": null,
            "_view_module": "@jupyter-widgets/controls",
            "_view_module_version": "1.5.0",
            "_view_name": "HTMLView",
            "description": "",
            "description_tooltip": null,
            "layout": "IPY_MODEL_0e939f18391343518182f03410c81a44",
            "placeholder": "​",
            "style": "IPY_MODEL_e026c12accf94b239b20bfdaeac74dc3",
            "value": "model.safetensors: 100%"
          }
        },
        "ec671ed122d14634bfc7d7bca754ccf6": {
          "model_module": "@jupyter-widgets/controls",
          "model_name": "FloatProgressModel",
          "model_module_version": "1.5.0",
          "state": {
            "_dom_classes": [],
            "_model_module": "@jupyter-widgets/controls",
            "_model_module_version": "1.5.0",
            "_model_name": "FloatProgressModel",
            "_view_count": null,
            "_view_module": "@jupyter-widgets/controls",
            "_view_module_version": "1.5.0",
            "_view_name": "ProgressView",
            "bar_style": "success",
            "description": "",
            "description_tooltip": null,
            "layout": "IPY_MODEL_18d0861e3f3e4baa8548b29db7f0ba42",
            "max": 437971872,
            "min": 0,
            "orientation": "horizontal",
            "style": "IPY_MODEL_6be5c7bbc10e4d37bdc171d4eab3da9c",
            "value": 437971872
          }
        },
        "93c0aedd89aa4533a19b27d92f4375b4": {
          "model_module": "@jupyter-widgets/controls",
          "model_name": "HTMLModel",
          "model_module_version": "1.5.0",
          "state": {
            "_dom_classes": [],
            "_model_module": "@jupyter-widgets/controls",
            "_model_module_version": "1.5.0",
            "_model_name": "HTMLModel",
            "_view_count": null,
            "_view_module": "@jupyter-widgets/controls",
            "_view_module_version": "1.5.0",
            "_view_name": "HTMLView",
            "description": "",
            "description_tooltip": null,
            "layout": "IPY_MODEL_1e42cec2389c4cdaaf71336c82d7bb3d",
            "placeholder": "​",
            "style": "IPY_MODEL_4ee1ebaf62db4b599c48d3c547790714",
            "value": " 438M/438M [00:01&lt;00:00, 247MB/s]"
          }
        },
        "ee1b75e4c54444b090401fc797cc14c6": {
          "model_module": "@jupyter-widgets/base",
          "model_name": "LayoutModel",
          "model_module_version": "1.2.0",
          "state": {
            "_model_module": "@jupyter-widgets/base",
            "_model_module_version": "1.2.0",
            "_model_name": "LayoutModel",
            "_view_count": null,
            "_view_module": "@jupyter-widgets/base",
            "_view_module_version": "1.2.0",
            "_view_name": "LayoutView",
            "align_content": null,
            "align_items": null,
            "align_self": null,
            "border": null,
            "bottom": null,
            "display": null,
            "flex": null,
            "flex_flow": null,
            "grid_area": null,
            "grid_auto_columns": null,
            "grid_auto_flow": null,
            "grid_auto_rows": null,
            "grid_column": null,
            "grid_gap": null,
            "grid_row": null,
            "grid_template_areas": null,
            "grid_template_columns": null,
            "grid_template_rows": null,
            "height": null,
            "justify_content": null,
            "justify_items": null,
            "left": null,
            "margin": null,
            "max_height": null,
            "max_width": null,
            "min_height": null,
            "min_width": null,
            "object_fit": null,
            "object_position": null,
            "order": null,
            "overflow": null,
            "overflow_x": null,
            "overflow_y": null,
            "padding": null,
            "right": null,
            "top": null,
            "visibility": null,
            "width": null
          }
        },
        "0e939f18391343518182f03410c81a44": {
          "model_module": "@jupyter-widgets/base",
          "model_name": "LayoutModel",
          "model_module_version": "1.2.0",
          "state": {
            "_model_module": "@jupyter-widgets/base",
            "_model_module_version": "1.2.0",
            "_model_name": "LayoutModel",
            "_view_count": null,
            "_view_module": "@jupyter-widgets/base",
            "_view_module_version": "1.2.0",
            "_view_name": "LayoutView",
            "align_content": null,
            "align_items": null,
            "align_self": null,
            "border": null,
            "bottom": null,
            "display": null,
            "flex": null,
            "flex_flow": null,
            "grid_area": null,
            "grid_auto_columns": null,
            "grid_auto_flow": null,
            "grid_auto_rows": null,
            "grid_column": null,
            "grid_gap": null,
            "grid_row": null,
            "grid_template_areas": null,
            "grid_template_columns": null,
            "grid_template_rows": null,
            "height": null,
            "justify_content": null,
            "justify_items": null,
            "left": null,
            "margin": null,
            "max_height": null,
            "max_width": null,
            "min_height": null,
            "min_width": null,
            "object_fit": null,
            "object_position": null,
            "order": null,
            "overflow": null,
            "overflow_x": null,
            "overflow_y": null,
            "padding": null,
            "right": null,
            "top": null,
            "visibility": null,
            "width": null
          }
        },
        "e026c12accf94b239b20bfdaeac74dc3": {
          "model_module": "@jupyter-widgets/controls",
          "model_name": "DescriptionStyleModel",
          "model_module_version": "1.5.0",
          "state": {
            "_model_module": "@jupyter-widgets/controls",
            "_model_module_version": "1.5.0",
            "_model_name": "DescriptionStyleModel",
            "_view_count": null,
            "_view_module": "@jupyter-widgets/base",
            "_view_module_version": "1.2.0",
            "_view_name": "StyleView",
            "description_width": ""
          }
        },
        "18d0861e3f3e4baa8548b29db7f0ba42": {
          "model_module": "@jupyter-widgets/base",
          "model_name": "LayoutModel",
          "model_module_version": "1.2.0",
          "state": {
            "_model_module": "@jupyter-widgets/base",
            "_model_module_version": "1.2.0",
            "_model_name": "LayoutModel",
            "_view_count": null,
            "_view_module": "@jupyter-widgets/base",
            "_view_module_version": "1.2.0",
            "_view_name": "LayoutView",
            "align_content": null,
            "align_items": null,
            "align_self": null,
            "border": null,
            "bottom": null,
            "display": null,
            "flex": null,
            "flex_flow": null,
            "grid_area": null,
            "grid_auto_columns": null,
            "grid_auto_flow": null,
            "grid_auto_rows": null,
            "grid_column": null,
            "grid_gap": null,
            "grid_row": null,
            "grid_template_areas": null,
            "grid_template_columns": null,
            "grid_template_rows": null,
            "height": null,
            "justify_content": null,
            "justify_items": null,
            "left": null,
            "margin": null,
            "max_height": null,
            "max_width": null,
            "min_height": null,
            "min_width": null,
            "object_fit": null,
            "object_position": null,
            "order": null,
            "overflow": null,
            "overflow_x": null,
            "overflow_y": null,
            "padding": null,
            "right": null,
            "top": null,
            "visibility": null,
            "width": null
          }
        },
        "6be5c7bbc10e4d37bdc171d4eab3da9c": {
          "model_module": "@jupyter-widgets/controls",
          "model_name": "ProgressStyleModel",
          "model_module_version": "1.5.0",
          "state": {
            "_model_module": "@jupyter-widgets/controls",
            "_model_module_version": "1.5.0",
            "_model_name": "ProgressStyleModel",
            "_view_count": null,
            "_view_module": "@jupyter-widgets/base",
            "_view_module_version": "1.2.0",
            "_view_name": "StyleView",
            "bar_color": null,
            "description_width": ""
          }
        },
        "1e42cec2389c4cdaaf71336c82d7bb3d": {
          "model_module": "@jupyter-widgets/base",
          "model_name": "LayoutModel",
          "model_module_version": "1.2.0",
          "state": {
            "_model_module": "@jupyter-widgets/base",
            "_model_module_version": "1.2.0",
            "_model_name": "LayoutModel",
            "_view_count": null,
            "_view_module": "@jupyter-widgets/base",
            "_view_module_version": "1.2.0",
            "_view_name": "LayoutView",
            "align_content": null,
            "align_items": null,
            "align_self": null,
            "border": null,
            "bottom": null,
            "display": null,
            "flex": null,
            "flex_flow": null,
            "grid_area": null,
            "grid_auto_columns": null,
            "grid_auto_flow": null,
            "grid_auto_rows": null,
            "grid_column": null,
            "grid_gap": null,
            "grid_row": null,
            "grid_template_areas": null,
            "grid_template_columns": null,
            "grid_template_rows": null,
            "height": null,
            "justify_content": null,
            "justify_items": null,
            "left": null,
            "margin": null,
            "max_height": null,
            "max_width": null,
            "min_height": null,
            "min_width": null,
            "object_fit": null,
            "object_position": null,
            "order": null,
            "overflow": null,
            "overflow_x": null,
            "overflow_y": null,
            "padding": null,
            "right": null,
            "top": null,
            "visibility": null,
            "width": null
          }
        },
        "4ee1ebaf62db4b599c48d3c547790714": {
          "model_module": "@jupyter-widgets/controls",
          "model_name": "DescriptionStyleModel",
          "model_module_version": "1.5.0",
          "state": {
            "_model_module": "@jupyter-widgets/controls",
            "_model_module_version": "1.5.0",
            "_model_name": "DescriptionStyleModel",
            "_view_count": null,
            "_view_module": "@jupyter-widgets/base",
            "_view_module_version": "1.2.0",
            "_view_name": "StyleView",
            "description_width": ""
          }
        },
        "9c25478bb4c545bd8cd2220cc7ca619b": {
          "model_module": "@jupyter-widgets/controls",
          "model_name": "HBoxModel",
          "model_module_version": "1.5.0",
          "state": {
            "_dom_classes": [],
            "_model_module": "@jupyter-widgets/controls",
            "_model_module_version": "1.5.0",
            "_model_name": "HBoxModel",
            "_view_count": null,
            "_view_module": "@jupyter-widgets/controls",
            "_view_module_version": "1.5.0",
            "_view_name": "HBoxView",
            "box_style": "",
            "children": [
              "IPY_MODEL_8c91e8e56c8a4def9e53e95f4ba63f42",
              "IPY_MODEL_a47d9dbc3f8c4528919dbb2388e46131",
              "IPY_MODEL_1b400ef862f9421cb2f01dcc9312b8c7"
            ],
            "layout": "IPY_MODEL_ebd27a1b169043b79a3eb1eb1b34f1e2"
          }
        },
        "8c91e8e56c8a4def9e53e95f4ba63f42": {
          "model_module": "@jupyter-widgets/controls",
          "model_name": "HTMLModel",
          "model_module_version": "1.5.0",
          "state": {
            "_dom_classes": [],
            "_model_module": "@jupyter-widgets/controls",
            "_model_module_version": "1.5.0",
            "_model_name": "HTMLModel",
            "_view_count": null,
            "_view_module": "@jupyter-widgets/controls",
            "_view_module_version": "1.5.0",
            "_view_name": "HTMLView",
            "description": "",
            "description_tooltip": null,
            "layout": "IPY_MODEL_5c46a08cb5514b2ab409580c1ebebb29",
            "placeholder": "​",
            "style": "IPY_MODEL_1dda46b52a334658b97beeeb3301bb62",
            "value": "tokenizer_config.json: 100%"
          }
        },
        "a47d9dbc3f8c4528919dbb2388e46131": {
          "model_module": "@jupyter-widgets/controls",
          "model_name": "FloatProgressModel",
          "model_module_version": "1.5.0",
          "state": {
            "_dom_classes": [],
            "_model_module": "@jupyter-widgets/controls",
            "_model_module_version": "1.5.0",
            "_model_name": "FloatProgressModel",
            "_view_count": null,
            "_view_module": "@jupyter-widgets/controls",
            "_view_module_version": "1.5.0",
            "_view_name": "ProgressView",
            "bar_style": "success",
            "description": "",
            "description_tooltip": null,
            "layout": "IPY_MODEL_dac88fb2109546ad948e31ad0ba340e7",
            "max": 363,
            "min": 0,
            "orientation": "horizontal",
            "style": "IPY_MODEL_fcbcbbce441848ca80a6b00c1af27054",
            "value": 363
          }
        },
        "1b400ef862f9421cb2f01dcc9312b8c7": {
          "model_module": "@jupyter-widgets/controls",
          "model_name": "HTMLModel",
          "model_module_version": "1.5.0",
          "state": {
            "_dom_classes": [],
            "_model_module": "@jupyter-widgets/controls",
            "_model_module_version": "1.5.0",
            "_model_name": "HTMLModel",
            "_view_count": null,
            "_view_module": "@jupyter-widgets/controls",
            "_view_module_version": "1.5.0",
            "_view_name": "HTMLView",
            "description": "",
            "description_tooltip": null,
            "layout": "IPY_MODEL_0f4087cf9c644a8ab50ae6e25e3df8d7",
            "placeholder": "​",
            "style": "IPY_MODEL_ed98e214e6864e979e1315a1c7f91e88",
            "value": " 363/363 [00:00&lt;00:00, 26.0kB/s]"
          }
        },
        "ebd27a1b169043b79a3eb1eb1b34f1e2": {
          "model_module": "@jupyter-widgets/base",
          "model_name": "LayoutModel",
          "model_module_version": "1.2.0",
          "state": {
            "_model_module": "@jupyter-widgets/base",
            "_model_module_version": "1.2.0",
            "_model_name": "LayoutModel",
            "_view_count": null,
            "_view_module": "@jupyter-widgets/base",
            "_view_module_version": "1.2.0",
            "_view_name": "LayoutView",
            "align_content": null,
            "align_items": null,
            "align_self": null,
            "border": null,
            "bottom": null,
            "display": null,
            "flex": null,
            "flex_flow": null,
            "grid_area": null,
            "grid_auto_columns": null,
            "grid_auto_flow": null,
            "grid_auto_rows": null,
            "grid_column": null,
            "grid_gap": null,
            "grid_row": null,
            "grid_template_areas": null,
            "grid_template_columns": null,
            "grid_template_rows": null,
            "height": null,
            "justify_content": null,
            "justify_items": null,
            "left": null,
            "margin": null,
            "max_height": null,
            "max_width": null,
            "min_height": null,
            "min_width": null,
            "object_fit": null,
            "object_position": null,
            "order": null,
            "overflow": null,
            "overflow_x": null,
            "overflow_y": null,
            "padding": null,
            "right": null,
            "top": null,
            "visibility": null,
            "width": null
          }
        },
        "5c46a08cb5514b2ab409580c1ebebb29": {
          "model_module": "@jupyter-widgets/base",
          "model_name": "LayoutModel",
          "model_module_version": "1.2.0",
          "state": {
            "_model_module": "@jupyter-widgets/base",
            "_model_module_version": "1.2.0",
            "_model_name": "LayoutModel",
            "_view_count": null,
            "_view_module": "@jupyter-widgets/base",
            "_view_module_version": "1.2.0",
            "_view_name": "LayoutView",
            "align_content": null,
            "align_items": null,
            "align_self": null,
            "border": null,
            "bottom": null,
            "display": null,
            "flex": null,
            "flex_flow": null,
            "grid_area": null,
            "grid_auto_columns": null,
            "grid_auto_flow": null,
            "grid_auto_rows": null,
            "grid_column": null,
            "grid_gap": null,
            "grid_row": null,
            "grid_template_areas": null,
            "grid_template_columns": null,
            "grid_template_rows": null,
            "height": null,
            "justify_content": null,
            "justify_items": null,
            "left": null,
            "margin": null,
            "max_height": null,
            "max_width": null,
            "min_height": null,
            "min_width": null,
            "object_fit": null,
            "object_position": null,
            "order": null,
            "overflow": null,
            "overflow_x": null,
            "overflow_y": null,
            "padding": null,
            "right": null,
            "top": null,
            "visibility": null,
            "width": null
          }
        },
        "1dda46b52a334658b97beeeb3301bb62": {
          "model_module": "@jupyter-widgets/controls",
          "model_name": "DescriptionStyleModel",
          "model_module_version": "1.5.0",
          "state": {
            "_model_module": "@jupyter-widgets/controls",
            "_model_module_version": "1.5.0",
            "_model_name": "DescriptionStyleModel",
            "_view_count": null,
            "_view_module": "@jupyter-widgets/base",
            "_view_module_version": "1.2.0",
            "_view_name": "StyleView",
            "description_width": ""
          }
        },
        "dac88fb2109546ad948e31ad0ba340e7": {
          "model_module": "@jupyter-widgets/base",
          "model_name": "LayoutModel",
          "model_module_version": "1.2.0",
          "state": {
            "_model_module": "@jupyter-widgets/base",
            "_model_module_version": "1.2.0",
            "_model_name": "LayoutModel",
            "_view_count": null,
            "_view_module": "@jupyter-widgets/base",
            "_view_module_version": "1.2.0",
            "_view_name": "LayoutView",
            "align_content": null,
            "align_items": null,
            "align_self": null,
            "border": null,
            "bottom": null,
            "display": null,
            "flex": null,
            "flex_flow": null,
            "grid_area": null,
            "grid_auto_columns": null,
            "grid_auto_flow": null,
            "grid_auto_rows": null,
            "grid_column": null,
            "grid_gap": null,
            "grid_row": null,
            "grid_template_areas": null,
            "grid_template_columns": null,
            "grid_template_rows": null,
            "height": null,
            "justify_content": null,
            "justify_items": null,
            "left": null,
            "margin": null,
            "max_height": null,
            "max_width": null,
            "min_height": null,
            "min_width": null,
            "object_fit": null,
            "object_position": null,
            "order": null,
            "overflow": null,
            "overflow_x": null,
            "overflow_y": null,
            "padding": null,
            "right": null,
            "top": null,
            "visibility": null,
            "width": null
          }
        },
        "fcbcbbce441848ca80a6b00c1af27054": {
          "model_module": "@jupyter-widgets/controls",
          "model_name": "ProgressStyleModel",
          "model_module_version": "1.5.0",
          "state": {
            "_model_module": "@jupyter-widgets/controls",
            "_model_module_version": "1.5.0",
            "_model_name": "ProgressStyleModel",
            "_view_count": null,
            "_view_module": "@jupyter-widgets/base",
            "_view_module_version": "1.2.0",
            "_view_name": "StyleView",
            "bar_color": null,
            "description_width": ""
          }
        },
        "0f4087cf9c644a8ab50ae6e25e3df8d7": {
          "model_module": "@jupyter-widgets/base",
          "model_name": "LayoutModel",
          "model_module_version": "1.2.0",
          "state": {
            "_model_module": "@jupyter-widgets/base",
            "_model_module_version": "1.2.0",
            "_model_name": "LayoutModel",
            "_view_count": null,
            "_view_module": "@jupyter-widgets/base",
            "_view_module_version": "1.2.0",
            "_view_name": "LayoutView",
            "align_content": null,
            "align_items": null,
            "align_self": null,
            "border": null,
            "bottom": null,
            "display": null,
            "flex": null,
            "flex_flow": null,
            "grid_area": null,
            "grid_auto_columns": null,
            "grid_auto_flow": null,
            "grid_auto_rows": null,
            "grid_column": null,
            "grid_gap": null,
            "grid_row": null,
            "grid_template_areas": null,
            "grid_template_columns": null,
            "grid_template_rows": null,
            "height": null,
            "justify_content": null,
            "justify_items": null,
            "left": null,
            "margin": null,
            "max_height": null,
            "max_width": null,
            "min_height": null,
            "min_width": null,
            "object_fit": null,
            "object_position": null,
            "order": null,
            "overflow": null,
            "overflow_x": null,
            "overflow_y": null,
            "padding": null,
            "right": null,
            "top": null,
            "visibility": null,
            "width": null
          }
        },
        "ed98e214e6864e979e1315a1c7f91e88": {
          "model_module": "@jupyter-widgets/controls",
          "model_name": "DescriptionStyleModel",
          "model_module_version": "1.5.0",
          "state": {
            "_model_module": "@jupyter-widgets/controls",
            "_model_module_version": "1.5.0",
            "_model_name": "DescriptionStyleModel",
            "_view_count": null,
            "_view_module": "@jupyter-widgets/base",
            "_view_module_version": "1.2.0",
            "_view_name": "StyleView",
            "description_width": ""
          }
        },
        "9a0bec999e844574bc6a3b67e74973a3": {
          "model_module": "@jupyter-widgets/controls",
          "model_name": "HBoxModel",
          "model_module_version": "1.5.0",
          "state": {
            "_dom_classes": [],
            "_model_module": "@jupyter-widgets/controls",
            "_model_module_version": "1.5.0",
            "_model_name": "HBoxModel",
            "_view_count": null,
            "_view_module": "@jupyter-widgets/controls",
            "_view_module_version": "1.5.0",
            "_view_name": "HBoxView",
            "box_style": "",
            "children": [
              "IPY_MODEL_dff2ca9c346c4e2c8aa160e929a6d4c5",
              "IPY_MODEL_bac2890748574a7fa28eac57fbccf06d",
              "IPY_MODEL_b92875024224418d90fb4aa73ed6f5e9"
            ],
            "layout": "IPY_MODEL_cd6cf7450d654dd983f84fd9b51adaa7"
          }
        },
        "dff2ca9c346c4e2c8aa160e929a6d4c5": {
          "model_module": "@jupyter-widgets/controls",
          "model_name": "HTMLModel",
          "model_module_version": "1.5.0",
          "state": {
            "_dom_classes": [],
            "_model_module": "@jupyter-widgets/controls",
            "_model_module_version": "1.5.0",
            "_model_name": "HTMLModel",
            "_view_count": null,
            "_view_module": "@jupyter-widgets/controls",
            "_view_module_version": "1.5.0",
            "_view_name": "HTMLView",
            "description": "",
            "description_tooltip": null,
            "layout": "IPY_MODEL_1aa5a19fddaf4bcbaf9bf713ef2b283f",
            "placeholder": "​",
            "style": "IPY_MODEL_43749bb1bb134d2e8d0b13924e0f4ed0",
            "value": "vocab.txt: 100%"
          }
        },
        "bac2890748574a7fa28eac57fbccf06d": {
          "model_module": "@jupyter-widgets/controls",
          "model_name": "FloatProgressModel",
          "model_module_version": "1.5.0",
          "state": {
            "_dom_classes": [],
            "_model_module": "@jupyter-widgets/controls",
            "_model_module_version": "1.5.0",
            "_model_name": "FloatProgressModel",
            "_view_count": null,
            "_view_module": "@jupyter-widgets/controls",
            "_view_module_version": "1.5.0",
            "_view_name": "ProgressView",
            "bar_style": "success",
            "description": "",
            "description_tooltip": null,
            "layout": "IPY_MODEL_26014dc988a947859a9d95b9f1f4decf",
            "max": 231536,
            "min": 0,
            "orientation": "horizontal",
            "style": "IPY_MODEL_66f4275f29db404b912ab859ebc98c61",
            "value": 231536
          }
        },
        "b92875024224418d90fb4aa73ed6f5e9": {
          "model_module": "@jupyter-widgets/controls",
          "model_name": "HTMLModel",
          "model_module_version": "1.5.0",
          "state": {
            "_dom_classes": [],
            "_model_module": "@jupyter-widgets/controls",
            "_model_module_version": "1.5.0",
            "_model_name": "HTMLModel",
            "_view_count": null,
            "_view_module": "@jupyter-widgets/controls",
            "_view_module_version": "1.5.0",
            "_view_name": "HTMLView",
            "description": "",
            "description_tooltip": null,
            "layout": "IPY_MODEL_896f361babf14e06b3d9a6a89d38e7a6",
            "placeholder": "​",
            "style": "IPY_MODEL_2ffd3a6601934dc89ed8d010b86a3b62",
            "value": " 232k/232k [00:00&lt;00:00, 9.59MB/s]"
          }
        },
        "cd6cf7450d654dd983f84fd9b51adaa7": {
          "model_module": "@jupyter-widgets/base",
          "model_name": "LayoutModel",
          "model_module_version": "1.2.0",
          "state": {
            "_model_module": "@jupyter-widgets/base",
            "_model_module_version": "1.2.0",
            "_model_name": "LayoutModel",
            "_view_count": null,
            "_view_module": "@jupyter-widgets/base",
            "_view_module_version": "1.2.0",
            "_view_name": "LayoutView",
            "align_content": null,
            "align_items": null,
            "align_self": null,
            "border": null,
            "bottom": null,
            "display": null,
            "flex": null,
            "flex_flow": null,
            "grid_area": null,
            "grid_auto_columns": null,
            "grid_auto_flow": null,
            "grid_auto_rows": null,
            "grid_column": null,
            "grid_gap": null,
            "grid_row": null,
            "grid_template_areas": null,
            "grid_template_columns": null,
            "grid_template_rows": null,
            "height": null,
            "justify_content": null,
            "justify_items": null,
            "left": null,
            "margin": null,
            "max_height": null,
            "max_width": null,
            "min_height": null,
            "min_width": null,
            "object_fit": null,
            "object_position": null,
            "order": null,
            "overflow": null,
            "overflow_x": null,
            "overflow_y": null,
            "padding": null,
            "right": null,
            "top": null,
            "visibility": null,
            "width": null
          }
        },
        "1aa5a19fddaf4bcbaf9bf713ef2b283f": {
          "model_module": "@jupyter-widgets/base",
          "model_name": "LayoutModel",
          "model_module_version": "1.2.0",
          "state": {
            "_model_module": "@jupyter-widgets/base",
            "_model_module_version": "1.2.0",
            "_model_name": "LayoutModel",
            "_view_count": null,
            "_view_module": "@jupyter-widgets/base",
            "_view_module_version": "1.2.0",
            "_view_name": "LayoutView",
            "align_content": null,
            "align_items": null,
            "align_self": null,
            "border": null,
            "bottom": null,
            "display": null,
            "flex": null,
            "flex_flow": null,
            "grid_area": null,
            "grid_auto_columns": null,
            "grid_auto_flow": null,
            "grid_auto_rows": null,
            "grid_column": null,
            "grid_gap": null,
            "grid_row": null,
            "grid_template_areas": null,
            "grid_template_columns": null,
            "grid_template_rows": null,
            "height": null,
            "justify_content": null,
            "justify_items": null,
            "left": null,
            "margin": null,
            "max_height": null,
            "max_width": null,
            "min_height": null,
            "min_width": null,
            "object_fit": null,
            "object_position": null,
            "order": null,
            "overflow": null,
            "overflow_x": null,
            "overflow_y": null,
            "padding": null,
            "right": null,
            "top": null,
            "visibility": null,
            "width": null
          }
        },
        "43749bb1bb134d2e8d0b13924e0f4ed0": {
          "model_module": "@jupyter-widgets/controls",
          "model_name": "DescriptionStyleModel",
          "model_module_version": "1.5.0",
          "state": {
            "_model_module": "@jupyter-widgets/controls",
            "_model_module_version": "1.5.0",
            "_model_name": "DescriptionStyleModel",
            "_view_count": null,
            "_view_module": "@jupyter-widgets/base",
            "_view_module_version": "1.2.0",
            "_view_name": "StyleView",
            "description_width": ""
          }
        },
        "26014dc988a947859a9d95b9f1f4decf": {
          "model_module": "@jupyter-widgets/base",
          "model_name": "LayoutModel",
          "model_module_version": "1.2.0",
          "state": {
            "_model_module": "@jupyter-widgets/base",
            "_model_module_version": "1.2.0",
            "_model_name": "LayoutModel",
            "_view_count": null,
            "_view_module": "@jupyter-widgets/base",
            "_view_module_version": "1.2.0",
            "_view_name": "LayoutView",
            "align_content": null,
            "align_items": null,
            "align_self": null,
            "border": null,
            "bottom": null,
            "display": null,
            "flex": null,
            "flex_flow": null,
            "grid_area": null,
            "grid_auto_columns": null,
            "grid_auto_flow": null,
            "grid_auto_rows": null,
            "grid_column": null,
            "grid_gap": null,
            "grid_row": null,
            "grid_template_areas": null,
            "grid_template_columns": null,
            "grid_template_rows": null,
            "height": null,
            "justify_content": null,
            "justify_items": null,
            "left": null,
            "margin": null,
            "max_height": null,
            "max_width": null,
            "min_height": null,
            "min_width": null,
            "object_fit": null,
            "object_position": null,
            "order": null,
            "overflow": null,
            "overflow_x": null,
            "overflow_y": null,
            "padding": null,
            "right": null,
            "top": null,
            "visibility": null,
            "width": null
          }
        },
        "66f4275f29db404b912ab859ebc98c61": {
          "model_module": "@jupyter-widgets/controls",
          "model_name": "ProgressStyleModel",
          "model_module_version": "1.5.0",
          "state": {
            "_model_module": "@jupyter-widgets/controls",
            "_model_module_version": "1.5.0",
            "_model_name": "ProgressStyleModel",
            "_view_count": null,
            "_view_module": "@jupyter-widgets/base",
            "_view_module_version": "1.2.0",
            "_view_name": "StyleView",
            "bar_color": null,
            "description_width": ""
          }
        },
        "896f361babf14e06b3d9a6a89d38e7a6": {
          "model_module": "@jupyter-widgets/base",
          "model_name": "LayoutModel",
          "model_module_version": "1.2.0",
          "state": {
            "_model_module": "@jupyter-widgets/base",
            "_model_module_version": "1.2.0",
            "_model_name": "LayoutModel",
            "_view_count": null,
            "_view_module": "@jupyter-widgets/base",
            "_view_module_version": "1.2.0",
            "_view_name": "LayoutView",
            "align_content": null,
            "align_items": null,
            "align_self": null,
            "border": null,
            "bottom": null,
            "display": null,
            "flex": null,
            "flex_flow": null,
            "grid_area": null,
            "grid_auto_columns": null,
            "grid_auto_flow": null,
            "grid_auto_rows": null,
            "grid_column": null,
            "grid_gap": null,
            "grid_row": null,
            "grid_template_areas": null,
            "grid_template_columns": null,
            "grid_template_rows": null,
            "height": null,
            "justify_content": null,
            "justify_items": null,
            "left": null,
            "margin": null,
            "max_height": null,
            "max_width": null,
            "min_height": null,
            "min_width": null,
            "object_fit": null,
            "object_position": null,
            "order": null,
            "overflow": null,
            "overflow_x": null,
            "overflow_y": null,
            "padding": null,
            "right": null,
            "top": null,
            "visibility": null,
            "width": null
          }
        },
        "2ffd3a6601934dc89ed8d010b86a3b62": {
          "model_module": "@jupyter-widgets/controls",
          "model_name": "DescriptionStyleModel",
          "model_module_version": "1.5.0",
          "state": {
            "_model_module": "@jupyter-widgets/controls",
            "_model_module_version": "1.5.0",
            "_model_name": "DescriptionStyleModel",
            "_view_count": null,
            "_view_module": "@jupyter-widgets/base",
            "_view_module_version": "1.2.0",
            "_view_name": "StyleView",
            "description_width": ""
          }
        },
        "599557c5fda642cd92f3a46c484dc985": {
          "model_module": "@jupyter-widgets/controls",
          "model_name": "HBoxModel",
          "model_module_version": "1.5.0",
          "state": {
            "_dom_classes": [],
            "_model_module": "@jupyter-widgets/controls",
            "_model_module_version": "1.5.0",
            "_model_name": "HBoxModel",
            "_view_count": null,
            "_view_module": "@jupyter-widgets/controls",
            "_view_module_version": "1.5.0",
            "_view_name": "HBoxView",
            "box_style": "",
            "children": [
              "IPY_MODEL_23a2f4133e75447498366d38c72681f9",
              "IPY_MODEL_bd6a7ab664f747d7a35e514752299a5e",
              "IPY_MODEL_34f96fa4dae94fafa1e4903c359f4e5a"
            ],
            "layout": "IPY_MODEL_3b0b721ed7394cc987ada4b69b8d5a88"
          }
        },
        "23a2f4133e75447498366d38c72681f9": {
          "model_module": "@jupyter-widgets/controls",
          "model_name": "HTMLModel",
          "model_module_version": "1.5.0",
          "state": {
            "_dom_classes": [],
            "_model_module": "@jupyter-widgets/controls",
            "_model_module_version": "1.5.0",
            "_model_name": "HTMLModel",
            "_view_count": null,
            "_view_module": "@jupyter-widgets/controls",
            "_view_module_version": "1.5.0",
            "_view_name": "HTMLView",
            "description": "",
            "description_tooltip": null,
            "layout": "IPY_MODEL_1a113de32fa14a4b99c89e8b0214bc7a",
            "placeholder": "​",
            "style": "IPY_MODEL_1a4afc60f1ae4a8483f823a95594534c",
            "value": "tokenizer.json: 100%"
          }
        },
        "bd6a7ab664f747d7a35e514752299a5e": {
          "model_module": "@jupyter-widgets/controls",
          "model_name": "FloatProgressModel",
          "model_module_version": "1.5.0",
          "state": {
            "_dom_classes": [],
            "_model_module": "@jupyter-widgets/controls",
            "_model_module_version": "1.5.0",
            "_model_name": "FloatProgressModel",
            "_view_count": null,
            "_view_module": "@jupyter-widgets/controls",
            "_view_module_version": "1.5.0",
            "_view_name": "ProgressView",
            "bar_style": "success",
            "description": "",
            "description_tooltip": null,
            "layout": "IPY_MODEL_d188cbfc5e51435bac437dc8a67728cd",
            "max": 466021,
            "min": 0,
            "orientation": "horizontal",
            "style": "IPY_MODEL_b2716dc25b2c413b87a63733e7db1e42",
            "value": 466021
          }
        },
        "34f96fa4dae94fafa1e4903c359f4e5a": {
          "model_module": "@jupyter-widgets/controls",
          "model_name": "HTMLModel",
          "model_module_version": "1.5.0",
          "state": {
            "_dom_classes": [],
            "_model_module": "@jupyter-widgets/controls",
            "_model_module_version": "1.5.0",
            "_model_name": "HTMLModel",
            "_view_count": null,
            "_view_module": "@jupyter-widgets/controls",
            "_view_module_version": "1.5.0",
            "_view_name": "HTMLView",
            "description": "",
            "description_tooltip": null,
            "layout": "IPY_MODEL_d800e79f1c29421989fb2d086f9fb5f9",
            "placeholder": "​",
            "style": "IPY_MODEL_93311010861b4a6aa0687a1d4c4d12cb",
            "value": " 466k/466k [00:00&lt;00:00, 1.09MB/s]"
          }
        },
        "3b0b721ed7394cc987ada4b69b8d5a88": {
          "model_module": "@jupyter-widgets/base",
          "model_name": "LayoutModel",
          "model_module_version": "1.2.0",
          "state": {
            "_model_module": "@jupyter-widgets/base",
            "_model_module_version": "1.2.0",
            "_model_name": "LayoutModel",
            "_view_count": null,
            "_view_module": "@jupyter-widgets/base",
            "_view_module_version": "1.2.0",
            "_view_name": "LayoutView",
            "align_content": null,
            "align_items": null,
            "align_self": null,
            "border": null,
            "bottom": null,
            "display": null,
            "flex": null,
            "flex_flow": null,
            "grid_area": null,
            "grid_auto_columns": null,
            "grid_auto_flow": null,
            "grid_auto_rows": null,
            "grid_column": null,
            "grid_gap": null,
            "grid_row": null,
            "grid_template_areas": null,
            "grid_template_columns": null,
            "grid_template_rows": null,
            "height": null,
            "justify_content": null,
            "justify_items": null,
            "left": null,
            "margin": null,
            "max_height": null,
            "max_width": null,
            "min_height": null,
            "min_width": null,
            "object_fit": null,
            "object_position": null,
            "order": null,
            "overflow": null,
            "overflow_x": null,
            "overflow_y": null,
            "padding": null,
            "right": null,
            "top": null,
            "visibility": null,
            "width": null
          }
        },
        "1a113de32fa14a4b99c89e8b0214bc7a": {
          "model_module": "@jupyter-widgets/base",
          "model_name": "LayoutModel",
          "model_module_version": "1.2.0",
          "state": {
            "_model_module": "@jupyter-widgets/base",
            "_model_module_version": "1.2.0",
            "_model_name": "LayoutModel",
            "_view_count": null,
            "_view_module": "@jupyter-widgets/base",
            "_view_module_version": "1.2.0",
            "_view_name": "LayoutView",
            "align_content": null,
            "align_items": null,
            "align_self": null,
            "border": null,
            "bottom": null,
            "display": null,
            "flex": null,
            "flex_flow": null,
            "grid_area": null,
            "grid_auto_columns": null,
            "grid_auto_flow": null,
            "grid_auto_rows": null,
            "grid_column": null,
            "grid_gap": null,
            "grid_row": null,
            "grid_template_areas": null,
            "grid_template_columns": null,
            "grid_template_rows": null,
            "height": null,
            "justify_content": null,
            "justify_items": null,
            "left": null,
            "margin": null,
            "max_height": null,
            "max_width": null,
            "min_height": null,
            "min_width": null,
            "object_fit": null,
            "object_position": null,
            "order": null,
            "overflow": null,
            "overflow_x": null,
            "overflow_y": null,
            "padding": null,
            "right": null,
            "top": null,
            "visibility": null,
            "width": null
          }
        },
        "1a4afc60f1ae4a8483f823a95594534c": {
          "model_module": "@jupyter-widgets/controls",
          "model_name": "DescriptionStyleModel",
          "model_module_version": "1.5.0",
          "state": {
            "_model_module": "@jupyter-widgets/controls",
            "_model_module_version": "1.5.0",
            "_model_name": "DescriptionStyleModel",
            "_view_count": null,
            "_view_module": "@jupyter-widgets/base",
            "_view_module_version": "1.2.0",
            "_view_name": "StyleView",
            "description_width": ""
          }
        },
        "d188cbfc5e51435bac437dc8a67728cd": {
          "model_module": "@jupyter-widgets/base",
          "model_name": "LayoutModel",
          "model_module_version": "1.2.0",
          "state": {
            "_model_module": "@jupyter-widgets/base",
            "_model_module_version": "1.2.0",
            "_model_name": "LayoutModel",
            "_view_count": null,
            "_view_module": "@jupyter-widgets/base",
            "_view_module_version": "1.2.0",
            "_view_name": "LayoutView",
            "align_content": null,
            "align_items": null,
            "align_self": null,
            "border": null,
            "bottom": null,
            "display": null,
            "flex": null,
            "flex_flow": null,
            "grid_area": null,
            "grid_auto_columns": null,
            "grid_auto_flow": null,
            "grid_auto_rows": null,
            "grid_column": null,
            "grid_gap": null,
            "grid_row": null,
            "grid_template_areas": null,
            "grid_template_columns": null,
            "grid_template_rows": null,
            "height": null,
            "justify_content": null,
            "justify_items": null,
            "left": null,
            "margin": null,
            "max_height": null,
            "max_width": null,
            "min_height": null,
            "min_width": null,
            "object_fit": null,
            "object_position": null,
            "order": null,
            "overflow": null,
            "overflow_x": null,
            "overflow_y": null,
            "padding": null,
            "right": null,
            "top": null,
            "visibility": null,
            "width": null
          }
        },
        "b2716dc25b2c413b87a63733e7db1e42": {
          "model_module": "@jupyter-widgets/controls",
          "model_name": "ProgressStyleModel",
          "model_module_version": "1.5.0",
          "state": {
            "_model_module": "@jupyter-widgets/controls",
            "_model_module_version": "1.5.0",
            "_model_name": "ProgressStyleModel",
            "_view_count": null,
            "_view_module": "@jupyter-widgets/base",
            "_view_module_version": "1.2.0",
            "_view_name": "StyleView",
            "bar_color": null,
            "description_width": ""
          }
        },
        "d800e79f1c29421989fb2d086f9fb5f9": {
          "model_module": "@jupyter-widgets/base",
          "model_name": "LayoutModel",
          "model_module_version": "1.2.0",
          "state": {
            "_model_module": "@jupyter-widgets/base",
            "_model_module_version": "1.2.0",
            "_model_name": "LayoutModel",
            "_view_count": null,
            "_view_module": "@jupyter-widgets/base",
            "_view_module_version": "1.2.0",
            "_view_name": "LayoutView",
            "align_content": null,
            "align_items": null,
            "align_self": null,
            "border": null,
            "bottom": null,
            "display": null,
            "flex": null,
            "flex_flow": null,
            "grid_area": null,
            "grid_auto_columns": null,
            "grid_auto_flow": null,
            "grid_auto_rows": null,
            "grid_column": null,
            "grid_gap": null,
            "grid_row": null,
            "grid_template_areas": null,
            "grid_template_columns": null,
            "grid_template_rows": null,
            "height": null,
            "justify_content": null,
            "justify_items": null,
            "left": null,
            "margin": null,
            "max_height": null,
            "max_width": null,
            "min_height": null,
            "min_width": null,
            "object_fit": null,
            "object_position": null,
            "order": null,
            "overflow": null,
            "overflow_x": null,
            "overflow_y": null,
            "padding": null,
            "right": null,
            "top": null,
            "visibility": null,
            "width": null
          }
        },
        "93311010861b4a6aa0687a1d4c4d12cb": {
          "model_module": "@jupyter-widgets/controls",
          "model_name": "DescriptionStyleModel",
          "model_module_version": "1.5.0",
          "state": {
            "_model_module": "@jupyter-widgets/controls",
            "_model_module_version": "1.5.0",
            "_model_name": "DescriptionStyleModel",
            "_view_count": null,
            "_view_module": "@jupyter-widgets/base",
            "_view_module_version": "1.2.0",
            "_view_name": "StyleView",
            "description_width": ""
          }
        },
        "ec915afb0d9d4884b20fbdbfb09cb617": {
          "model_module": "@jupyter-widgets/controls",
          "model_name": "HBoxModel",
          "model_module_version": "1.5.0",
          "state": {
            "_dom_classes": [],
            "_model_module": "@jupyter-widgets/controls",
            "_model_module_version": "1.5.0",
            "_model_name": "HBoxModel",
            "_view_count": null,
            "_view_module": "@jupyter-widgets/controls",
            "_view_module_version": "1.5.0",
            "_view_name": "HBoxView",
            "box_style": "",
            "children": [
              "IPY_MODEL_30e49719067844c5a21bf45319b06304",
              "IPY_MODEL_1af47f2089074bab9cfe4727c09b3de9",
              "IPY_MODEL_7c7407aba0da40a6b05986bf4b2c64fa"
            ],
            "layout": "IPY_MODEL_081492d660e047e5a98b41040d8a07bc"
          }
        },
        "30e49719067844c5a21bf45319b06304": {
          "model_module": "@jupyter-widgets/controls",
          "model_name": "HTMLModel",
          "model_module_version": "1.5.0",
          "state": {
            "_dom_classes": [],
            "_model_module": "@jupyter-widgets/controls",
            "_model_module_version": "1.5.0",
            "_model_name": "HTMLModel",
            "_view_count": null,
            "_view_module": "@jupyter-widgets/controls",
            "_view_module_version": "1.5.0",
            "_view_name": "HTMLView",
            "description": "",
            "description_tooltip": null,
            "layout": "IPY_MODEL_0869465f79dd4404b0229834259cfff9",
            "placeholder": "​",
            "style": "IPY_MODEL_8cd1153366cd47eda0f85cd317663e9f",
            "value": "special_tokens_map.json: 100%"
          }
        },
        "1af47f2089074bab9cfe4727c09b3de9": {
          "model_module": "@jupyter-widgets/controls",
          "model_name": "FloatProgressModel",
          "model_module_version": "1.5.0",
          "state": {
            "_dom_classes": [],
            "_model_module": "@jupyter-widgets/controls",
            "_model_module_version": "1.5.0",
            "_model_name": "FloatProgressModel",
            "_view_count": null,
            "_view_module": "@jupyter-widgets/controls",
            "_view_module_version": "1.5.0",
            "_view_name": "ProgressView",
            "bar_style": "success",
            "description": "",
            "description_tooltip": null,
            "layout": "IPY_MODEL_79631a2faf6d4dd8af3e28ad40d810fe",
            "max": 239,
            "min": 0,
            "orientation": "horizontal",
            "style": "IPY_MODEL_e76fa83f183848a8a38ce49ffeb59e5c",
            "value": 239
          }
        },
        "7c7407aba0da40a6b05986bf4b2c64fa": {
          "model_module": "@jupyter-widgets/controls",
          "model_name": "HTMLModel",
          "model_module_version": "1.5.0",
          "state": {
            "_dom_classes": [],
            "_model_module": "@jupyter-widgets/controls",
            "_model_module_version": "1.5.0",
            "_model_name": "HTMLModel",
            "_view_count": null,
            "_view_module": "@jupyter-widgets/controls",
            "_view_module_version": "1.5.0",
            "_view_name": "HTMLView",
            "description": "",
            "description_tooltip": null,
            "layout": "IPY_MODEL_1796dec6c65a431d912abd0d974d52be",
            "placeholder": "​",
            "style": "IPY_MODEL_6fe27610b3684fcbb8bb5d3af34da0c6",
            "value": " 239/239 [00:00&lt;00:00, 21.1kB/s]"
          }
        },
        "081492d660e047e5a98b41040d8a07bc": {
          "model_module": "@jupyter-widgets/base",
          "model_name": "LayoutModel",
          "model_module_version": "1.2.0",
          "state": {
            "_model_module": "@jupyter-widgets/base",
            "_model_module_version": "1.2.0",
            "_model_name": "LayoutModel",
            "_view_count": null,
            "_view_module": "@jupyter-widgets/base",
            "_view_module_version": "1.2.0",
            "_view_name": "LayoutView",
            "align_content": null,
            "align_items": null,
            "align_self": null,
            "border": null,
            "bottom": null,
            "display": null,
            "flex": null,
            "flex_flow": null,
            "grid_area": null,
            "grid_auto_columns": null,
            "grid_auto_flow": null,
            "grid_auto_rows": null,
            "grid_column": null,
            "grid_gap": null,
            "grid_row": null,
            "grid_template_areas": null,
            "grid_template_columns": null,
            "grid_template_rows": null,
            "height": null,
            "justify_content": null,
            "justify_items": null,
            "left": null,
            "margin": null,
            "max_height": null,
            "max_width": null,
            "min_height": null,
            "min_width": null,
            "object_fit": null,
            "object_position": null,
            "order": null,
            "overflow": null,
            "overflow_x": null,
            "overflow_y": null,
            "padding": null,
            "right": null,
            "top": null,
            "visibility": null,
            "width": null
          }
        },
        "0869465f79dd4404b0229834259cfff9": {
          "model_module": "@jupyter-widgets/base",
          "model_name": "LayoutModel",
          "model_module_version": "1.2.0",
          "state": {
            "_model_module": "@jupyter-widgets/base",
            "_model_module_version": "1.2.0",
            "_model_name": "LayoutModel",
            "_view_count": null,
            "_view_module": "@jupyter-widgets/base",
            "_view_module_version": "1.2.0",
            "_view_name": "LayoutView",
            "align_content": null,
            "align_items": null,
            "align_self": null,
            "border": null,
            "bottom": null,
            "display": null,
            "flex": null,
            "flex_flow": null,
            "grid_area": null,
            "grid_auto_columns": null,
            "grid_auto_flow": null,
            "grid_auto_rows": null,
            "grid_column": null,
            "grid_gap": null,
            "grid_row": null,
            "grid_template_areas": null,
            "grid_template_columns": null,
            "grid_template_rows": null,
            "height": null,
            "justify_content": null,
            "justify_items": null,
            "left": null,
            "margin": null,
            "max_height": null,
            "max_width": null,
            "min_height": null,
            "min_width": null,
            "object_fit": null,
            "object_position": null,
            "order": null,
            "overflow": null,
            "overflow_x": null,
            "overflow_y": null,
            "padding": null,
            "right": null,
            "top": null,
            "visibility": null,
            "width": null
          }
        },
        "8cd1153366cd47eda0f85cd317663e9f": {
          "model_module": "@jupyter-widgets/controls",
          "model_name": "DescriptionStyleModel",
          "model_module_version": "1.5.0",
          "state": {
            "_model_module": "@jupyter-widgets/controls",
            "_model_module_version": "1.5.0",
            "_model_name": "DescriptionStyleModel",
            "_view_count": null,
            "_view_module": "@jupyter-widgets/base",
            "_view_module_version": "1.2.0",
            "_view_name": "StyleView",
            "description_width": ""
          }
        },
        "79631a2faf6d4dd8af3e28ad40d810fe": {
          "model_module": "@jupyter-widgets/base",
          "model_name": "LayoutModel",
          "model_module_version": "1.2.0",
          "state": {
            "_model_module": "@jupyter-widgets/base",
            "_model_module_version": "1.2.0",
            "_model_name": "LayoutModel",
            "_view_count": null,
            "_view_module": "@jupyter-widgets/base",
            "_view_module_version": "1.2.0",
            "_view_name": "LayoutView",
            "align_content": null,
            "align_items": null,
            "align_self": null,
            "border": null,
            "bottom": null,
            "display": null,
            "flex": null,
            "flex_flow": null,
            "grid_area": null,
            "grid_auto_columns": null,
            "grid_auto_flow": null,
            "grid_auto_rows": null,
            "grid_column": null,
            "grid_gap": null,
            "grid_row": null,
            "grid_template_areas": null,
            "grid_template_columns": null,
            "grid_template_rows": null,
            "height": null,
            "justify_content": null,
            "justify_items": null,
            "left": null,
            "margin": null,
            "max_height": null,
            "max_width": null,
            "min_height": null,
            "min_width": null,
            "object_fit": null,
            "object_position": null,
            "order": null,
            "overflow": null,
            "overflow_x": null,
            "overflow_y": null,
            "padding": null,
            "right": null,
            "top": null,
            "visibility": null,
            "width": null
          }
        },
        "e76fa83f183848a8a38ce49ffeb59e5c": {
          "model_module": "@jupyter-widgets/controls",
          "model_name": "ProgressStyleModel",
          "model_module_version": "1.5.0",
          "state": {
            "_model_module": "@jupyter-widgets/controls",
            "_model_module_version": "1.5.0",
            "_model_name": "ProgressStyleModel",
            "_view_count": null,
            "_view_module": "@jupyter-widgets/base",
            "_view_module_version": "1.2.0",
            "_view_name": "StyleView",
            "bar_color": null,
            "description_width": ""
          }
        },
        "1796dec6c65a431d912abd0d974d52be": {
          "model_module": "@jupyter-widgets/base",
          "model_name": "LayoutModel",
          "model_module_version": "1.2.0",
          "state": {
            "_model_module": "@jupyter-widgets/base",
            "_model_module_version": "1.2.0",
            "_model_name": "LayoutModel",
            "_view_count": null,
            "_view_module": "@jupyter-widgets/base",
            "_view_module_version": "1.2.0",
            "_view_name": "LayoutView",
            "align_content": null,
            "align_items": null,
            "align_self": null,
            "border": null,
            "bottom": null,
            "display": null,
            "flex": null,
            "flex_flow": null,
            "grid_area": null,
            "grid_auto_columns": null,
            "grid_auto_flow": null,
            "grid_auto_rows": null,
            "grid_column": null,
            "grid_gap": null,
            "grid_row": null,
            "grid_template_areas": null,
            "grid_template_columns": null,
            "grid_template_rows": null,
            "height": null,
            "justify_content": null,
            "justify_items": null,
            "left": null,
            "margin": null,
            "max_height": null,
            "max_width": null,
            "min_height": null,
            "min_width": null,
            "object_fit": null,
            "object_position": null,
            "order": null,
            "overflow": null,
            "overflow_x": null,
            "overflow_y": null,
            "padding": null,
            "right": null,
            "top": null,
            "visibility": null,
            "width": null
          }
        },
        "6fe27610b3684fcbb8bb5d3af34da0c6": {
          "model_module": "@jupyter-widgets/controls",
          "model_name": "DescriptionStyleModel",
          "model_module_version": "1.5.0",
          "state": {
            "_model_module": "@jupyter-widgets/controls",
            "_model_module_version": "1.5.0",
            "_model_name": "DescriptionStyleModel",
            "_view_count": null,
            "_view_module": "@jupyter-widgets/base",
            "_view_module_version": "1.2.0",
            "_view_name": "StyleView",
            "description_width": ""
          }
        },
        "1ecbcbb3589c4f2faaf9c41a6b2c01f9": {
          "model_module": "@jupyter-widgets/controls",
          "model_name": "HBoxModel",
          "model_module_version": "1.5.0",
          "state": {
            "_dom_classes": [],
            "_model_module": "@jupyter-widgets/controls",
            "_model_module_version": "1.5.0",
            "_model_name": "HBoxModel",
            "_view_count": null,
            "_view_module": "@jupyter-widgets/controls",
            "_view_module_version": "1.5.0",
            "_view_name": "HBoxView",
            "box_style": "",
            "children": [
              "IPY_MODEL_c60d1623ef5448f6b79b891c0506c8b7",
              "IPY_MODEL_3d1a67f4470244f2b02115500ea5b6ad",
              "IPY_MODEL_445e2be7d77141d5808e9979326daf39"
            ],
            "layout": "IPY_MODEL_ae33e12a62fa4d6db45f92f48a4ac756"
          }
        },
        "c60d1623ef5448f6b79b891c0506c8b7": {
          "model_module": "@jupyter-widgets/controls",
          "model_name": "HTMLModel",
          "model_module_version": "1.5.0",
          "state": {
            "_dom_classes": [],
            "_model_module": "@jupyter-widgets/controls",
            "_model_module_version": "1.5.0",
            "_model_name": "HTMLModel",
            "_view_count": null,
            "_view_module": "@jupyter-widgets/controls",
            "_view_module_version": "1.5.0",
            "_view_name": "HTMLView",
            "description": "",
            "description_tooltip": null,
            "layout": "IPY_MODEL_ad1092f08a874d1aa4363a3b4008a520",
            "placeholder": "​",
            "style": "IPY_MODEL_597c6c4f44d3414497ba54941ce9de51",
            "value": "1_Pooling/config.json: 100%"
          }
        },
        "3d1a67f4470244f2b02115500ea5b6ad": {
          "model_module": "@jupyter-widgets/controls",
          "model_name": "FloatProgressModel",
          "model_module_version": "1.5.0",
          "state": {
            "_dom_classes": [],
            "_model_module": "@jupyter-widgets/controls",
            "_model_module_version": "1.5.0",
            "_model_name": "FloatProgressModel",
            "_view_count": null,
            "_view_module": "@jupyter-widgets/controls",
            "_view_module_version": "1.5.0",
            "_view_name": "ProgressView",
            "bar_style": "success",
            "description": "",
            "description_tooltip": null,
            "layout": "IPY_MODEL_a3fe0ed107e44f1c921cb9a309ab4164",
            "max": 190,
            "min": 0,
            "orientation": "horizontal",
            "style": "IPY_MODEL_64d666bfca8241c196ef494fd88d4cce",
            "value": 190
          }
        },
        "445e2be7d77141d5808e9979326daf39": {
          "model_module": "@jupyter-widgets/controls",
          "model_name": "HTMLModel",
          "model_module_version": "1.5.0",
          "state": {
            "_dom_classes": [],
            "_model_module": "@jupyter-widgets/controls",
            "_model_module_version": "1.5.0",
            "_model_name": "HTMLModel",
            "_view_count": null,
            "_view_module": "@jupyter-widgets/controls",
            "_view_module_version": "1.5.0",
            "_view_name": "HTMLView",
            "description": "",
            "description_tooltip": null,
            "layout": "IPY_MODEL_8f0e2de9d0a34257a8329e1f254d0f12",
            "placeholder": "​",
            "style": "IPY_MODEL_9d128eb4d300440492c8c67f1ec6c037",
            "value": " 190/190 [00:00&lt;00:00, 12.9kB/s]"
          }
        },
        "ae33e12a62fa4d6db45f92f48a4ac756": {
          "model_module": "@jupyter-widgets/base",
          "model_name": "LayoutModel",
          "model_module_version": "1.2.0",
          "state": {
            "_model_module": "@jupyter-widgets/base",
            "_model_module_version": "1.2.0",
            "_model_name": "LayoutModel",
            "_view_count": null,
            "_view_module": "@jupyter-widgets/base",
            "_view_module_version": "1.2.0",
            "_view_name": "LayoutView",
            "align_content": null,
            "align_items": null,
            "align_self": null,
            "border": null,
            "bottom": null,
            "display": null,
            "flex": null,
            "flex_flow": null,
            "grid_area": null,
            "grid_auto_columns": null,
            "grid_auto_flow": null,
            "grid_auto_rows": null,
            "grid_column": null,
            "grid_gap": null,
            "grid_row": null,
            "grid_template_areas": null,
            "grid_template_columns": null,
            "grid_template_rows": null,
            "height": null,
            "justify_content": null,
            "justify_items": null,
            "left": null,
            "margin": null,
            "max_height": null,
            "max_width": null,
            "min_height": null,
            "min_width": null,
            "object_fit": null,
            "object_position": null,
            "order": null,
            "overflow": null,
            "overflow_x": null,
            "overflow_y": null,
            "padding": null,
            "right": null,
            "top": null,
            "visibility": null,
            "width": null
          }
        },
        "ad1092f08a874d1aa4363a3b4008a520": {
          "model_module": "@jupyter-widgets/base",
          "model_name": "LayoutModel",
          "model_module_version": "1.2.0",
          "state": {
            "_model_module": "@jupyter-widgets/base",
            "_model_module_version": "1.2.0",
            "_model_name": "LayoutModel",
            "_view_count": null,
            "_view_module": "@jupyter-widgets/base",
            "_view_module_version": "1.2.0",
            "_view_name": "LayoutView",
            "align_content": null,
            "align_items": null,
            "align_self": null,
            "border": null,
            "bottom": null,
            "display": null,
            "flex": null,
            "flex_flow": null,
            "grid_area": null,
            "grid_auto_columns": null,
            "grid_auto_flow": null,
            "grid_auto_rows": null,
            "grid_column": null,
            "grid_gap": null,
            "grid_row": null,
            "grid_template_areas": null,
            "grid_template_columns": null,
            "grid_template_rows": null,
            "height": null,
            "justify_content": null,
            "justify_items": null,
            "left": null,
            "margin": null,
            "max_height": null,
            "max_width": null,
            "min_height": null,
            "min_width": null,
            "object_fit": null,
            "object_position": null,
            "order": null,
            "overflow": null,
            "overflow_x": null,
            "overflow_y": null,
            "padding": null,
            "right": null,
            "top": null,
            "visibility": null,
            "width": null
          }
        },
        "597c6c4f44d3414497ba54941ce9de51": {
          "model_module": "@jupyter-widgets/controls",
          "model_name": "DescriptionStyleModel",
          "model_module_version": "1.5.0",
          "state": {
            "_model_module": "@jupyter-widgets/controls",
            "_model_module_version": "1.5.0",
            "_model_name": "DescriptionStyleModel",
            "_view_count": null,
            "_view_module": "@jupyter-widgets/base",
            "_view_module_version": "1.2.0",
            "_view_name": "StyleView",
            "description_width": ""
          }
        },
        "a3fe0ed107e44f1c921cb9a309ab4164": {
          "model_module": "@jupyter-widgets/base",
          "model_name": "LayoutModel",
          "model_module_version": "1.2.0",
          "state": {
            "_model_module": "@jupyter-widgets/base",
            "_model_module_version": "1.2.0",
            "_model_name": "LayoutModel",
            "_view_count": null,
            "_view_module": "@jupyter-widgets/base",
            "_view_module_version": "1.2.0",
            "_view_name": "LayoutView",
            "align_content": null,
            "align_items": null,
            "align_self": null,
            "border": null,
            "bottom": null,
            "display": null,
            "flex": null,
            "flex_flow": null,
            "grid_area": null,
            "grid_auto_columns": null,
            "grid_auto_flow": null,
            "grid_auto_rows": null,
            "grid_column": null,
            "grid_gap": null,
            "grid_row": null,
            "grid_template_areas": null,
            "grid_template_columns": null,
            "grid_template_rows": null,
            "height": null,
            "justify_content": null,
            "justify_items": null,
            "left": null,
            "margin": null,
            "max_height": null,
            "max_width": null,
            "min_height": null,
            "min_width": null,
            "object_fit": null,
            "object_position": null,
            "order": null,
            "overflow": null,
            "overflow_x": null,
            "overflow_y": null,
            "padding": null,
            "right": null,
            "top": null,
            "visibility": null,
            "width": null
          }
        },
        "64d666bfca8241c196ef494fd88d4cce": {
          "model_module": "@jupyter-widgets/controls",
          "model_name": "ProgressStyleModel",
          "model_module_version": "1.5.0",
          "state": {
            "_model_module": "@jupyter-widgets/controls",
            "_model_module_version": "1.5.0",
            "_model_name": "ProgressStyleModel",
            "_view_count": null,
            "_view_module": "@jupyter-widgets/base",
            "_view_module_version": "1.2.0",
            "_view_name": "StyleView",
            "bar_color": null,
            "description_width": ""
          }
        },
        "8f0e2de9d0a34257a8329e1f254d0f12": {
          "model_module": "@jupyter-widgets/base",
          "model_name": "LayoutModel",
          "model_module_version": "1.2.0",
          "state": {
            "_model_module": "@jupyter-widgets/base",
            "_model_module_version": "1.2.0",
            "_model_name": "LayoutModel",
            "_view_count": null,
            "_view_module": "@jupyter-widgets/base",
            "_view_module_version": "1.2.0",
            "_view_name": "LayoutView",
            "align_content": null,
            "align_items": null,
            "align_self": null,
            "border": null,
            "bottom": null,
            "display": null,
            "flex": null,
            "flex_flow": null,
            "grid_area": null,
            "grid_auto_columns": null,
            "grid_auto_flow": null,
            "grid_auto_rows": null,
            "grid_column": null,
            "grid_gap": null,
            "grid_row": null,
            "grid_template_areas": null,
            "grid_template_columns": null,
            "grid_template_rows": null,
            "height": null,
            "justify_content": null,
            "justify_items": null,
            "left": null,
            "margin": null,
            "max_height": null,
            "max_width": null,
            "min_height": null,
            "min_width": null,
            "object_fit": null,
            "object_position": null,
            "order": null,
            "overflow": null,
            "overflow_x": null,
            "overflow_y": null,
            "padding": null,
            "right": null,
            "top": null,
            "visibility": null,
            "width": null
          }
        },
        "9d128eb4d300440492c8c67f1ec6c037": {
          "model_module": "@jupyter-widgets/controls",
          "model_name": "DescriptionStyleModel",
          "model_module_version": "1.5.0",
          "state": {
            "_model_module": "@jupyter-widgets/controls",
            "_model_module_version": "1.5.0",
            "_model_name": "DescriptionStyleModel",
            "_view_count": null,
            "_view_module": "@jupyter-widgets/base",
            "_view_module_version": "1.2.0",
            "_view_name": "StyleView",
            "description_width": ""
          }
        }
      }
    }
  },
  "nbformat": 4,
  "nbformat_minor": 5
}